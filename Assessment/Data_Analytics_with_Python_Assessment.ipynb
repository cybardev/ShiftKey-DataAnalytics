{
 "cells": [
  {
   "cell_type": "markdown",
   "metadata": {
    "colab_type": "text",
    "id": "view-in-github"
   },
   "source": [
    "<a href=\"https://colab.research.google.com/github/shiftkey-labs/PythonDA-course/blob/main/Assessment/Data_Analytics_with_Python_Assessment.ipynb\" target=\"_parent\"><img src=\"https://colab.research.google.com/assets/colab-badge.svg\" alt=\"Open In Colab\"/></a>"
   ]
  },
  {
   "cell_type": "markdown",
   "metadata": {
    "id": "ZofcnJAIJHaX"
   },
   "source": [
    "# Introduction\n",
    "\n",
    "This assessment aims to evaluate your understanding and application of the concepts covered in the Data Analytics course. You will be tasked with analyzing a dataset related to remote work and mental health, utilizing various data manipulation, statistical analysis, and visualization techniques learned throughout the course. This exercise will help reinforce your skills in data handling, exploratory analysis, and drawing meaningful insights from data.\n",
    "\n",
    "### Submission Details:\n",
    "\n",
    "The deadline for submission is 16 November at 11:59 PM. Specific submission details will be shared with you shortly.\n",
    "\n",
    "### Passing Criteria:\n",
    "\n",
    "To successfully pass this assessment, you must achieve a score of 80% or higher.\n",
    "We encourage you to engage with the material and demonstrate your analytical skills. Good luck!\n",
    "\n",
    "\n",
    "---\n",
    "\n"
   ]
  },
  {
   "cell_type": "markdown",
   "metadata": {
    "id": "t6EemGQaDLyU"
   },
   "source": [
    "# Section 1 - Beginner (25%)\n"
   ]
  },
  {
   "cell_type": "markdown",
   "metadata": {
    "id": "IEQXM5QADPRl"
   },
   "source": [
    "## Shopping Cart System with Discounts\n",
    "\n",
    "Write a Python program to simulate a shopping cart system for an online store. The program will calculate the total cost of items, apply discounts, and check if the total exceeds a specified budget."
   ]
  },
  {
   "cell_type": "markdown",
   "metadata": {
    "id": "dKkPEPpCDyda"
   },
   "source": [
    "1.\tVariables and Lists:\n",
    "  - Define a `budget` variable with an initial value of 200.\n",
    "  \n",
    "  - Create two empty lists called `item_names_list` and `item_prices_list` to store the name and price of each item separately."
   ]
  },
  {
   "cell_type": "code",
   "execution_count": 34,
   "metadata": {
    "id": "4lXTHMaCC8VO"
   },
   "outputs": [],
   "source": [
    "# Write your code here\n",
    "budget = 200\n",
    "item_names_list = []\n",
    "item_prices_list = []"
   ]
  },
  {
   "cell_type": "code",
   "execution_count": 35,
   "metadata": {},
   "outputs": [],
   "source": [
    "# extra variables\n",
    "DISCOUNT_THRESHOLD: int = 100\n",
    "DISCOUNT_FACTOR: float = 0.9"
   ]
  },
  {
   "cell_type": "markdown",
   "metadata": {
    "id": "wRAwexQhD0cq"
   },
   "source": [
    "2. Functions:\n",
    "  - Write a function `add_item_to_cart(item_name, item_price)` that takes the item’s name and price as arguments, appends the name to item_names and the price to item_prices, and returns both updated lists.\n",
    "  \n",
    "  - Write a function `calculate_total(item_prices)` that calculates and returns the total cost of all items in item_prices.\n",
    "\n",
    "    Conditions:\n",
    "    - If the total cost exceeds the budget after adding an item, print \"Budget exceeded!\" and stop adding more items.\n",
    "    - If the total cost is within budget and exceeds $100, apply a 10% discount on the total and print the discounted total."
   ]
  },
  {
   "cell_type": "code",
   "execution_count": 36,
   "metadata": {
    "id": "g_UiAVHSD3UK"
   },
   "outputs": [],
   "source": [
    "# Write your code here\n",
    "def add_item_to_cart(item_name, item_price):\n",
    "    item_names_list.append(item_name)\n",
    "    item_prices_list.append(item_price)\n",
    "    return item_names_list, item_prices_list\n",
    "\n",
    "\n",
    "def calculate_total(item_prices):\n",
    "    return sum(item_prices)"
   ]
  },
  {
   "cell_type": "code",
   "execution_count": 37,
   "metadata": {},
   "outputs": [],
   "source": [
    "# extra function(s) for convenience\n",
    "def remove_last_item_from_cart():\n",
    "    item_names_list.pop()\n",
    "    item_prices_list.pop()"
   ]
  },
  {
   "cell_type": "markdown",
   "metadata": {
    "id": "B22U5SdVEKeH"
   },
   "source": [
    "3.\tLoop and Input:\n",
    "  - Start the input only once the user says 'start'\n",
    "  - Use a loop to allow the user to add items to the cart by entering an item name and price. The loop should stop when the user types 'done'.\n",
    "  - For each item, add it to item_names and item_prices using add_item_to_cart, then update the total cost using calculate_total.\n",
    "\n",
    "Output:\n",
    "  - After the loop ends, display the final cart with each item and its price, the initial total, any applicable discount, and the final total.\n"
   ]
  },
  {
   "cell_type": "code",
   "execution_count": 38,
   "metadata": {
    "id": "CJtjsE8YD6Mv"
   },
   "outputs": [
    {
     "name": "stdout",
     "output_type": "stream",
     "text": [
      "Budget exceeded!\n",
      "Wow, you get a discount!\n"
     ]
    }
   ],
   "source": [
    "# Write your code here\n",
    "while input(\"Enter 'start' to start shopping: \") != \"start\":\n",
    "    continue\n",
    "\n",
    "initial_total = calculate_total(item_prices_list)\n",
    "\n",
    "running_total = 0\n",
    "while True:\n",
    "    item = input(\"Enter item name: \")\n",
    "    if item == \"done\":\n",
    "        break\n",
    "    price = input(\"Enter item price: \")\n",
    "    if price == \"done\":\n",
    "        break\n",
    "    add_item_to_cart(item, float(price))\n",
    "    running_total = calculate_total(item_prices_list)\n",
    "    if running_total > budget:\n",
    "        print(\"Budget exceeded!\")\n",
    "\n",
    "        # remove the item that caused overbudget\n",
    "        remove_last_item_from_cart()\n",
    "\n",
    "        # recalculate total without problematic item\n",
    "        running_total = calculate_total(item_prices_list)\n",
    "\n",
    "        break\n",
    "\n",
    "if running_total > DISCOUNT_THRESHOLD:\n",
    "    print(\"Wow, you get a discount!\")\n",
    "    running_total *= DISCOUNT_FACTOR"
   ]
  },
  {
   "cell_type": "code",
   "execution_count": 39,
   "metadata": {
    "id": "M9IlBMeDEOxd"
   },
   "outputs": [
    {
     "name": "stdout",
     "output_type": "stream",
     "text": [
      "item : price\n",
      "--------------------\n",
      "cat : 100.00\n",
      "bat : 50.00\n",
      "--------------------\n",
      "initial total ($): 0.00\n",
      "final total ($): 135.00\n"
     ]
    }
   ],
   "source": [
    "# Write your code here\n",
    "print(\"item : price\")\n",
    "print(\"-\" * 20)\n",
    "for i, p in zip(item_names_list, item_prices_list):\n",
    "    print(f\"{i} : {p:0.2f}\")\n",
    "print(\"-\" * 20)\n",
    "print(f\"initial total ($): {initial_total:0.2f}\")\n",
    "print(f\"final total ($): {running_total:0.2f}\")"
   ]
  },
  {
   "cell_type": "markdown",
   "metadata": {
    "id": "jXkjbG86QL5G"
   },
   "source": [
    "# Section 2 - Intermidiate (55%) - Remote Work and Mental Health Analysis\n",
    "\n",
    "Dataset source: Kaggle (https://www.kaggle.com/datasets/waqi786/remote-work-and-mental-health)\n",
    "\n",
    "\n"
   ]
  },
  {
   "cell_type": "markdown",
   "metadata": {
    "id": "3ZF33AOoRP9Z"
   },
   "source": [
    "## Objective:\n",
    "- In the following sections, you will explore the \"Remote Work and Mental Health\" dataset using Python and different data science libraries such as Pandas, NumPy and Matplotlib.\n",
    "- Follow the instructions below to complete each task. Please provide code for each question and any observations as comments when necessary."
   ]
  },
  {
   "cell_type": "code",
   "execution_count": 2,
   "metadata": {
    "id": "zX8_bEfKSGcB"
   },
   "outputs": [],
   "source": [
    "# Import necessary modules and libraries\n",
    "import numpy as np\n",
    "import pandas as pd\n",
    "import matplotlib.pyplot as plt"
   ]
  },
  {
   "cell_type": "markdown",
   "metadata": {
    "id": "M8GDnps-RR9q"
   },
   "source": [
    "## 1. Load Dataset (2 marks)\n",
    "- Instructions: Load the dataset using Pandas and display few rows.\n",
    "- Question: Describe the overall structure (rows, columns, data types) as a comment at the end of your code.\n"
   ]
  },
  {
   "cell_type": "code",
   "execution_count": 3,
   "metadata": {
    "id": "iN_Ne4xKSE_g"
   },
   "outputs": [
    {
     "data": {
      "text/html": [
       "<div>\n",
       "<style scoped>\n",
       "    .dataframe tbody tr th:only-of-type {\n",
       "        vertical-align: middle;\n",
       "    }\n",
       "\n",
       "    .dataframe tbody tr th {\n",
       "        vertical-align: top;\n",
       "    }\n",
       "\n",
       "    .dataframe thead th {\n",
       "        text-align: right;\n",
       "    }\n",
       "</style>\n",
       "<table border=\"1\" class=\"dataframe\">\n",
       "  <thead>\n",
       "    <tr style=\"text-align: right;\">\n",
       "      <th></th>\n",
       "      <th>Employee_ID</th>\n",
       "      <th>Age</th>\n",
       "      <th>Gender</th>\n",
       "      <th>Job_Role</th>\n",
       "      <th>Industry</th>\n",
       "      <th>Years_of_Experience</th>\n",
       "      <th>Work_Location</th>\n",
       "      <th>Hours_Worked_Per_Week</th>\n",
       "      <th>Number_of_Virtual_Meetings</th>\n",
       "      <th>Work_Life_Balance_Rating</th>\n",
       "      <th>Stress_Level</th>\n",
       "      <th>Mental_Health_Condition</th>\n",
       "      <th>Access_to_Mental_Health_Resources</th>\n",
       "      <th>Productivity_Change</th>\n",
       "      <th>Social_Isolation_Rating</th>\n",
       "      <th>Satisfaction_with_Remote_Work</th>\n",
       "      <th>Company_Support_for_Remote_Work</th>\n",
       "      <th>Physical_Activity</th>\n",
       "      <th>Sleep_Quality</th>\n",
       "      <th>Region</th>\n",
       "    </tr>\n",
       "  </thead>\n",
       "  <tbody>\n",
       "    <tr>\n",
       "      <th>4995</th>\n",
       "      <td>EMP4996</td>\n",
       "      <td>32</td>\n",
       "      <td>Male</td>\n",
       "      <td>Sales</td>\n",
       "      <td>Consulting</td>\n",
       "      <td>4</td>\n",
       "      <td>Onsite</td>\n",
       "      <td>24</td>\n",
       "      <td>2</td>\n",
       "      <td>5</td>\n",
       "      <td>High</td>\n",
       "      <td>Burnout</td>\n",
       "      <td>Yes</td>\n",
       "      <td>Decrease</td>\n",
       "      <td>4</td>\n",
       "      <td>Neutral</td>\n",
       "      <td>1</td>\n",
       "      <td>Weekly</td>\n",
       "      <td>Average</td>\n",
       "      <td>Asia</td>\n",
       "    </tr>\n",
       "    <tr>\n",
       "      <th>4996</th>\n",
       "      <td>EMP4997</td>\n",
       "      <td>39</td>\n",
       "      <td>Female</td>\n",
       "      <td>Sales</td>\n",
       "      <td>Healthcare</td>\n",
       "      <td>27</td>\n",
       "      <td>Onsite</td>\n",
       "      <td>48</td>\n",
       "      <td>15</td>\n",
       "      <td>1</td>\n",
       "      <td>Low</td>\n",
       "      <td>Depression</td>\n",
       "      <td>Yes</td>\n",
       "      <td>Decrease</td>\n",
       "      <td>1</td>\n",
       "      <td>Satisfied</td>\n",
       "      <td>1</td>\n",
       "      <td>NaN</td>\n",
       "      <td>Average</td>\n",
       "      <td>Africa</td>\n",
       "    </tr>\n",
       "    <tr>\n",
       "      <th>4997</th>\n",
       "      <td>EMP4998</td>\n",
       "      <td>42</td>\n",
       "      <td>Female</td>\n",
       "      <td>Sales</td>\n",
       "      <td>Healthcare</td>\n",
       "      <td>21</td>\n",
       "      <td>Hybrid</td>\n",
       "      <td>34</td>\n",
       "      <td>1</td>\n",
       "      <td>4</td>\n",
       "      <td>High</td>\n",
       "      <td>Burnout</td>\n",
       "      <td>No</td>\n",
       "      <td>Increase</td>\n",
       "      <td>3</td>\n",
       "      <td>Satisfied</td>\n",
       "      <td>1</td>\n",
       "      <td>Daily</td>\n",
       "      <td>Poor</td>\n",
       "      <td>Oceania</td>\n",
       "    </tr>\n",
       "    <tr>\n",
       "      <th>4998</th>\n",
       "      <td>EMP4999</td>\n",
       "      <td>27</td>\n",
       "      <td>Female</td>\n",
       "      <td>Sales</td>\n",
       "      <td>Healthcare</td>\n",
       "      <td>26</td>\n",
       "      <td>Remote</td>\n",
       "      <td>58</td>\n",
       "      <td>0</td>\n",
       "      <td>5</td>\n",
       "      <td>Low</td>\n",
       "      <td>NaN</td>\n",
       "      <td>Yes</td>\n",
       "      <td>Increase</td>\n",
       "      <td>3</td>\n",
       "      <td>Unsatisfied</td>\n",
       "      <td>4</td>\n",
       "      <td>Daily</td>\n",
       "      <td>Average</td>\n",
       "      <td>Asia</td>\n",
       "    </tr>\n",
       "    <tr>\n",
       "      <th>4999</th>\n",
       "      <td>EMP5000</td>\n",
       "      <td>29</td>\n",
       "      <td>Male</td>\n",
       "      <td>HR</td>\n",
       "      <td>IT</td>\n",
       "      <td>30</td>\n",
       "      <td>Onsite</td>\n",
       "      <td>20</td>\n",
       "      <td>15</td>\n",
       "      <td>1</td>\n",
       "      <td>Low</td>\n",
       "      <td>Depression</td>\n",
       "      <td>Yes</td>\n",
       "      <td>No Change</td>\n",
       "      <td>3</td>\n",
       "      <td>Unsatisfied</td>\n",
       "      <td>5</td>\n",
       "      <td>NaN</td>\n",
       "      <td>Poor</td>\n",
       "      <td>Asia</td>\n",
       "    </tr>\n",
       "  </tbody>\n",
       "</table>\n",
       "</div>"
      ],
      "text/plain": [
       "     Employee_ID  Age  Gender Job_Role    Industry  Years_of_Experience  \\\n",
       "4995     EMP4996   32    Male    Sales  Consulting                    4   \n",
       "4996     EMP4997   39  Female    Sales  Healthcare                   27   \n",
       "4997     EMP4998   42  Female    Sales  Healthcare                   21   \n",
       "4998     EMP4999   27  Female    Sales  Healthcare                   26   \n",
       "4999     EMP5000   29    Male       HR          IT                   30   \n",
       "\n",
       "     Work_Location  Hours_Worked_Per_Week  Number_of_Virtual_Meetings  \\\n",
       "4995        Onsite                     24                           2   \n",
       "4996        Onsite                     48                          15   \n",
       "4997        Hybrid                     34                           1   \n",
       "4998        Remote                     58                           0   \n",
       "4999        Onsite                     20                          15   \n",
       "\n",
       "      Work_Life_Balance_Rating Stress_Level Mental_Health_Condition  \\\n",
       "4995                         5         High                 Burnout   \n",
       "4996                         1          Low              Depression   \n",
       "4997                         4         High                 Burnout   \n",
       "4998                         5          Low                     NaN   \n",
       "4999                         1          Low              Depression   \n",
       "\n",
       "     Access_to_Mental_Health_Resources Productivity_Change  \\\n",
       "4995                               Yes            Decrease   \n",
       "4996                               Yes            Decrease   \n",
       "4997                                No            Increase   \n",
       "4998                               Yes            Increase   \n",
       "4999                               Yes           No Change   \n",
       "\n",
       "      Social_Isolation_Rating Satisfaction_with_Remote_Work  \\\n",
       "4995                        4                       Neutral   \n",
       "4996                        1                     Satisfied   \n",
       "4997                        3                     Satisfied   \n",
       "4998                        3                   Unsatisfied   \n",
       "4999                        3                   Unsatisfied   \n",
       "\n",
       "      Company_Support_for_Remote_Work Physical_Activity Sleep_Quality   Region  \n",
       "4995                                1            Weekly       Average     Asia  \n",
       "4996                                1               NaN       Average   Africa  \n",
       "4997                                1             Daily          Poor  Oceania  \n",
       "4998                                4             Daily       Average     Asia  \n",
       "4999                                5               NaN          Poor     Asia  "
      ]
     },
     "execution_count": 3,
     "metadata": {},
     "output_type": "execute_result"
    }
   ],
   "source": [
    "# Write code here\n",
    "df = pd.read_csv(\"dataset.csv\")\n",
    "\n",
    "df.tail()\n",
    "\n",
    "# df.info() # <- results from...\n",
    "# ROWS: 5000\n",
    "# COLS: 20\n",
    "# TYPE: int64 (7 cols), object (13 cols)"
   ]
  },
  {
   "cell_type": "markdown",
   "metadata": {
    "id": "knNIuhCoSFNx"
   },
   "source": [
    "## 2. Display 'n' Rows (3 marks)\n",
    "- Instructions: Display the first 13 rows of the dataset."
   ]
  },
  {
   "cell_type": "code",
   "execution_count": 4,
   "metadata": {
    "id": "aojeUCP3-DlN"
   },
   "outputs": [
    {
     "data": {
      "text/html": [
       "<div>\n",
       "<style scoped>\n",
       "    .dataframe tbody tr th:only-of-type {\n",
       "        vertical-align: middle;\n",
       "    }\n",
       "\n",
       "    .dataframe tbody tr th {\n",
       "        vertical-align: top;\n",
       "    }\n",
       "\n",
       "    .dataframe thead th {\n",
       "        text-align: right;\n",
       "    }\n",
       "</style>\n",
       "<table border=\"1\" class=\"dataframe\">\n",
       "  <thead>\n",
       "    <tr style=\"text-align: right;\">\n",
       "      <th></th>\n",
       "      <th>Employee_ID</th>\n",
       "      <th>Age</th>\n",
       "      <th>Gender</th>\n",
       "      <th>Job_Role</th>\n",
       "      <th>Industry</th>\n",
       "      <th>Years_of_Experience</th>\n",
       "      <th>Work_Location</th>\n",
       "      <th>Hours_Worked_Per_Week</th>\n",
       "      <th>Number_of_Virtual_Meetings</th>\n",
       "      <th>Work_Life_Balance_Rating</th>\n",
       "      <th>Stress_Level</th>\n",
       "      <th>Mental_Health_Condition</th>\n",
       "      <th>Access_to_Mental_Health_Resources</th>\n",
       "      <th>Productivity_Change</th>\n",
       "      <th>Social_Isolation_Rating</th>\n",
       "      <th>Satisfaction_with_Remote_Work</th>\n",
       "      <th>Company_Support_for_Remote_Work</th>\n",
       "      <th>Physical_Activity</th>\n",
       "      <th>Sleep_Quality</th>\n",
       "      <th>Region</th>\n",
       "    </tr>\n",
       "  </thead>\n",
       "  <tbody>\n",
       "    <tr>\n",
       "      <th>0</th>\n",
       "      <td>EMP0001</td>\n",
       "      <td>32</td>\n",
       "      <td>Non-binary</td>\n",
       "      <td>HR</td>\n",
       "      <td>Healthcare</td>\n",
       "      <td>13</td>\n",
       "      <td>Hybrid</td>\n",
       "      <td>47</td>\n",
       "      <td>7</td>\n",
       "      <td>2</td>\n",
       "      <td>Medium</td>\n",
       "      <td>Depression</td>\n",
       "      <td>No</td>\n",
       "      <td>Decrease</td>\n",
       "      <td>1</td>\n",
       "      <td>Unsatisfied</td>\n",
       "      <td>1</td>\n",
       "      <td>Weekly</td>\n",
       "      <td>Good</td>\n",
       "      <td>Europe</td>\n",
       "    </tr>\n",
       "    <tr>\n",
       "      <th>1</th>\n",
       "      <td>EMP0002</td>\n",
       "      <td>40</td>\n",
       "      <td>Female</td>\n",
       "      <td>Data Scientist</td>\n",
       "      <td>IT</td>\n",
       "      <td>3</td>\n",
       "      <td>Remote</td>\n",
       "      <td>52</td>\n",
       "      <td>4</td>\n",
       "      <td>1</td>\n",
       "      <td>Medium</td>\n",
       "      <td>Anxiety</td>\n",
       "      <td>No</td>\n",
       "      <td>Increase</td>\n",
       "      <td>3</td>\n",
       "      <td>Satisfied</td>\n",
       "      <td>2</td>\n",
       "      <td>Weekly</td>\n",
       "      <td>Good</td>\n",
       "      <td>Asia</td>\n",
       "    </tr>\n",
       "    <tr>\n",
       "      <th>2</th>\n",
       "      <td>EMP0003</td>\n",
       "      <td>59</td>\n",
       "      <td>Non-binary</td>\n",
       "      <td>Software Engineer</td>\n",
       "      <td>Education</td>\n",
       "      <td>22</td>\n",
       "      <td>Hybrid</td>\n",
       "      <td>46</td>\n",
       "      <td>11</td>\n",
       "      <td>5</td>\n",
       "      <td>Medium</td>\n",
       "      <td>Anxiety</td>\n",
       "      <td>No</td>\n",
       "      <td>No Change</td>\n",
       "      <td>4</td>\n",
       "      <td>Unsatisfied</td>\n",
       "      <td>5</td>\n",
       "      <td>NaN</td>\n",
       "      <td>Poor</td>\n",
       "      <td>North America</td>\n",
       "    </tr>\n",
       "    <tr>\n",
       "      <th>3</th>\n",
       "      <td>EMP0004</td>\n",
       "      <td>27</td>\n",
       "      <td>Male</td>\n",
       "      <td>Software Engineer</td>\n",
       "      <td>Finance</td>\n",
       "      <td>20</td>\n",
       "      <td>Onsite</td>\n",
       "      <td>32</td>\n",
       "      <td>8</td>\n",
       "      <td>4</td>\n",
       "      <td>High</td>\n",
       "      <td>Depression</td>\n",
       "      <td>Yes</td>\n",
       "      <td>Increase</td>\n",
       "      <td>3</td>\n",
       "      <td>Unsatisfied</td>\n",
       "      <td>3</td>\n",
       "      <td>NaN</td>\n",
       "      <td>Poor</td>\n",
       "      <td>Europe</td>\n",
       "    </tr>\n",
       "    <tr>\n",
       "      <th>4</th>\n",
       "      <td>EMP0005</td>\n",
       "      <td>49</td>\n",
       "      <td>Male</td>\n",
       "      <td>Sales</td>\n",
       "      <td>Consulting</td>\n",
       "      <td>32</td>\n",
       "      <td>Onsite</td>\n",
       "      <td>35</td>\n",
       "      <td>12</td>\n",
       "      <td>2</td>\n",
       "      <td>High</td>\n",
       "      <td>NaN</td>\n",
       "      <td>Yes</td>\n",
       "      <td>Decrease</td>\n",
       "      <td>3</td>\n",
       "      <td>Unsatisfied</td>\n",
       "      <td>3</td>\n",
       "      <td>Weekly</td>\n",
       "      <td>Average</td>\n",
       "      <td>North America</td>\n",
       "    </tr>\n",
       "    <tr>\n",
       "      <th>5</th>\n",
       "      <td>EMP0006</td>\n",
       "      <td>59</td>\n",
       "      <td>Non-binary</td>\n",
       "      <td>Sales</td>\n",
       "      <td>IT</td>\n",
       "      <td>31</td>\n",
       "      <td>Hybrid</td>\n",
       "      <td>39</td>\n",
       "      <td>3</td>\n",
       "      <td>4</td>\n",
       "      <td>High</td>\n",
       "      <td>NaN</td>\n",
       "      <td>No</td>\n",
       "      <td>Increase</td>\n",
       "      <td>5</td>\n",
       "      <td>Unsatisfied</td>\n",
       "      <td>1</td>\n",
       "      <td>NaN</td>\n",
       "      <td>Average</td>\n",
       "      <td>South America</td>\n",
       "    </tr>\n",
       "    <tr>\n",
       "      <th>6</th>\n",
       "      <td>EMP0007</td>\n",
       "      <td>31</td>\n",
       "      <td>Prefer not to say</td>\n",
       "      <td>Sales</td>\n",
       "      <td>IT</td>\n",
       "      <td>24</td>\n",
       "      <td>Remote</td>\n",
       "      <td>51</td>\n",
       "      <td>7</td>\n",
       "      <td>3</td>\n",
       "      <td>Low</td>\n",
       "      <td>Anxiety</td>\n",
       "      <td>Yes</td>\n",
       "      <td>Decrease</td>\n",
       "      <td>5</td>\n",
       "      <td>Neutral</td>\n",
       "      <td>3</td>\n",
       "      <td>Daily</td>\n",
       "      <td>Poor</td>\n",
       "      <td>Asia</td>\n",
       "    </tr>\n",
       "    <tr>\n",
       "      <th>7</th>\n",
       "      <td>EMP0008</td>\n",
       "      <td>42</td>\n",
       "      <td>Non-binary</td>\n",
       "      <td>Data Scientist</td>\n",
       "      <td>Manufacturing</td>\n",
       "      <td>6</td>\n",
       "      <td>Onsite</td>\n",
       "      <td>54</td>\n",
       "      <td>7</td>\n",
       "      <td>3</td>\n",
       "      <td>Medium</td>\n",
       "      <td>Depression</td>\n",
       "      <td>No</td>\n",
       "      <td>Decrease</td>\n",
       "      <td>5</td>\n",
       "      <td>Satisfied</td>\n",
       "      <td>4</td>\n",
       "      <td>NaN</td>\n",
       "      <td>Average</td>\n",
       "      <td>North America</td>\n",
       "    </tr>\n",
       "    <tr>\n",
       "      <th>8</th>\n",
       "      <td>EMP0009</td>\n",
       "      <td>56</td>\n",
       "      <td>Prefer not to say</td>\n",
       "      <td>Data Scientist</td>\n",
       "      <td>Healthcare</td>\n",
       "      <td>9</td>\n",
       "      <td>Hybrid</td>\n",
       "      <td>24</td>\n",
       "      <td>4</td>\n",
       "      <td>2</td>\n",
       "      <td>High</td>\n",
       "      <td>NaN</td>\n",
       "      <td>Yes</td>\n",
       "      <td>Decrease</td>\n",
       "      <td>2</td>\n",
       "      <td>Unsatisfied</td>\n",
       "      <td>4</td>\n",
       "      <td>Daily</td>\n",
       "      <td>Poor</td>\n",
       "      <td>Europe</td>\n",
       "    </tr>\n",
       "    <tr>\n",
       "      <th>9</th>\n",
       "      <td>EMP0010</td>\n",
       "      <td>30</td>\n",
       "      <td>Female</td>\n",
       "      <td>HR</td>\n",
       "      <td>IT</td>\n",
       "      <td>28</td>\n",
       "      <td>Hybrid</td>\n",
       "      <td>57</td>\n",
       "      <td>6</td>\n",
       "      <td>1</td>\n",
       "      <td>Low</td>\n",
       "      <td>Depression</td>\n",
       "      <td>Yes</td>\n",
       "      <td>Decrease</td>\n",
       "      <td>2</td>\n",
       "      <td>Neutral</td>\n",
       "      <td>1</td>\n",
       "      <td>Weekly</td>\n",
       "      <td>Poor</td>\n",
       "      <td>North America</td>\n",
       "    </tr>\n",
       "    <tr>\n",
       "      <th>10</th>\n",
       "      <td>EMP0011</td>\n",
       "      <td>33</td>\n",
       "      <td>Non-binary</td>\n",
       "      <td>Software Engineer</td>\n",
       "      <td>Finance</td>\n",
       "      <td>17</td>\n",
       "      <td>Remote</td>\n",
       "      <td>48</td>\n",
       "      <td>3</td>\n",
       "      <td>3</td>\n",
       "      <td>High</td>\n",
       "      <td>NaN</td>\n",
       "      <td>Yes</td>\n",
       "      <td>Decrease</td>\n",
       "      <td>4</td>\n",
       "      <td>Satisfied</td>\n",
       "      <td>2</td>\n",
       "      <td>Weekly</td>\n",
       "      <td>Average</td>\n",
       "      <td>Oceania</td>\n",
       "    </tr>\n",
       "    <tr>\n",
       "      <th>11</th>\n",
       "      <td>EMP0012</td>\n",
       "      <td>47</td>\n",
       "      <td>Female</td>\n",
       "      <td>Marketing</td>\n",
       "      <td>Consulting</td>\n",
       "      <td>31</td>\n",
       "      <td>Hybrid</td>\n",
       "      <td>26</td>\n",
       "      <td>12</td>\n",
       "      <td>4</td>\n",
       "      <td>Medium</td>\n",
       "      <td>NaN</td>\n",
       "      <td>Yes</td>\n",
       "      <td>No Change</td>\n",
       "      <td>4</td>\n",
       "      <td>Neutral</td>\n",
       "      <td>3</td>\n",
       "      <td>Weekly</td>\n",
       "      <td>Poor</td>\n",
       "      <td>Africa</td>\n",
       "    </tr>\n",
       "    <tr>\n",
       "      <th>12</th>\n",
       "      <td>EMP0013</td>\n",
       "      <td>40</td>\n",
       "      <td>Female</td>\n",
       "      <td>Marketing</td>\n",
       "      <td>Consulting</td>\n",
       "      <td>1</td>\n",
       "      <td>Remote</td>\n",
       "      <td>21</td>\n",
       "      <td>7</td>\n",
       "      <td>2</td>\n",
       "      <td>High</td>\n",
       "      <td>Depression</td>\n",
       "      <td>Yes</td>\n",
       "      <td>Decrease</td>\n",
       "      <td>2</td>\n",
       "      <td>Neutral</td>\n",
       "      <td>1</td>\n",
       "      <td>Weekly</td>\n",
       "      <td>Good</td>\n",
       "      <td>Europe</td>\n",
       "    </tr>\n",
       "  </tbody>\n",
       "</table>\n",
       "</div>"
      ],
      "text/plain": [
       "   Employee_ID  Age             Gender           Job_Role       Industry  \\\n",
       "0      EMP0001   32         Non-binary                 HR     Healthcare   \n",
       "1      EMP0002   40             Female     Data Scientist             IT   \n",
       "2      EMP0003   59         Non-binary  Software Engineer      Education   \n",
       "3      EMP0004   27               Male  Software Engineer        Finance   \n",
       "4      EMP0005   49               Male              Sales     Consulting   \n",
       "5      EMP0006   59         Non-binary              Sales             IT   \n",
       "6      EMP0007   31  Prefer not to say              Sales             IT   \n",
       "7      EMP0008   42         Non-binary     Data Scientist  Manufacturing   \n",
       "8      EMP0009   56  Prefer not to say     Data Scientist     Healthcare   \n",
       "9      EMP0010   30             Female                 HR             IT   \n",
       "10     EMP0011   33         Non-binary  Software Engineer        Finance   \n",
       "11     EMP0012   47             Female          Marketing     Consulting   \n",
       "12     EMP0013   40             Female          Marketing     Consulting   \n",
       "\n",
       "    Years_of_Experience Work_Location  Hours_Worked_Per_Week  \\\n",
       "0                    13        Hybrid                     47   \n",
       "1                     3        Remote                     52   \n",
       "2                    22        Hybrid                     46   \n",
       "3                    20        Onsite                     32   \n",
       "4                    32        Onsite                     35   \n",
       "5                    31        Hybrid                     39   \n",
       "6                    24        Remote                     51   \n",
       "7                     6        Onsite                     54   \n",
       "8                     9        Hybrid                     24   \n",
       "9                    28        Hybrid                     57   \n",
       "10                   17        Remote                     48   \n",
       "11                   31        Hybrid                     26   \n",
       "12                    1        Remote                     21   \n",
       "\n",
       "    Number_of_Virtual_Meetings  Work_Life_Balance_Rating Stress_Level  \\\n",
       "0                            7                         2       Medium   \n",
       "1                            4                         1       Medium   \n",
       "2                           11                         5       Medium   \n",
       "3                            8                         4         High   \n",
       "4                           12                         2         High   \n",
       "5                            3                         4         High   \n",
       "6                            7                         3          Low   \n",
       "7                            7                         3       Medium   \n",
       "8                            4                         2         High   \n",
       "9                            6                         1          Low   \n",
       "10                           3                         3         High   \n",
       "11                          12                         4       Medium   \n",
       "12                           7                         2         High   \n",
       "\n",
       "   Mental_Health_Condition Access_to_Mental_Health_Resources  \\\n",
       "0               Depression                                No   \n",
       "1                  Anxiety                                No   \n",
       "2                  Anxiety                                No   \n",
       "3               Depression                               Yes   \n",
       "4                      NaN                               Yes   \n",
       "5                      NaN                                No   \n",
       "6                  Anxiety                               Yes   \n",
       "7               Depression                                No   \n",
       "8                      NaN                               Yes   \n",
       "9               Depression                               Yes   \n",
       "10                     NaN                               Yes   \n",
       "11                     NaN                               Yes   \n",
       "12              Depression                               Yes   \n",
       "\n",
       "   Productivity_Change  Social_Isolation_Rating Satisfaction_with_Remote_Work  \\\n",
       "0             Decrease                        1                   Unsatisfied   \n",
       "1             Increase                        3                     Satisfied   \n",
       "2            No Change                        4                   Unsatisfied   \n",
       "3             Increase                        3                   Unsatisfied   \n",
       "4             Decrease                        3                   Unsatisfied   \n",
       "5             Increase                        5                   Unsatisfied   \n",
       "6             Decrease                        5                       Neutral   \n",
       "7             Decrease                        5                     Satisfied   \n",
       "8             Decrease                        2                   Unsatisfied   \n",
       "9             Decrease                        2                       Neutral   \n",
       "10            Decrease                        4                     Satisfied   \n",
       "11           No Change                        4                       Neutral   \n",
       "12            Decrease                        2                       Neutral   \n",
       "\n",
       "    Company_Support_for_Remote_Work Physical_Activity Sleep_Quality  \\\n",
       "0                                 1            Weekly          Good   \n",
       "1                                 2            Weekly          Good   \n",
       "2                                 5               NaN          Poor   \n",
       "3                                 3               NaN          Poor   \n",
       "4                                 3            Weekly       Average   \n",
       "5                                 1               NaN       Average   \n",
       "6                                 3             Daily          Poor   \n",
       "7                                 4               NaN       Average   \n",
       "8                                 4             Daily          Poor   \n",
       "9                                 1            Weekly          Poor   \n",
       "10                                2            Weekly       Average   \n",
       "11                                3            Weekly          Poor   \n",
       "12                                1            Weekly          Good   \n",
       "\n",
       "           Region  \n",
       "0          Europe  \n",
       "1            Asia  \n",
       "2   North America  \n",
       "3          Europe  \n",
       "4   North America  \n",
       "5   South America  \n",
       "6            Asia  \n",
       "7   North America  \n",
       "8          Europe  \n",
       "9   North America  \n",
       "10        Oceania  \n",
       "11         Africa  \n",
       "12         Europe  "
      ]
     },
     "execution_count": 4,
     "metadata": {},
     "output_type": "execute_result"
    }
   ],
   "source": [
    "# Write code here\n",
    "df.head(13)"
   ]
  },
  {
   "cell_type": "markdown",
   "metadata": {
    "id": "iNJ7GvJt-EJk"
   },
   "source": [
    "- Instructions: Display the last 7 rows of the dataset"
   ]
  },
  {
   "cell_type": "code",
   "execution_count": 5,
   "metadata": {
    "id": "bvxs1GHK-Iv4"
   },
   "outputs": [
    {
     "data": {
      "text/html": [
       "<div>\n",
       "<style scoped>\n",
       "    .dataframe tbody tr th:only-of-type {\n",
       "        vertical-align: middle;\n",
       "    }\n",
       "\n",
       "    .dataframe tbody tr th {\n",
       "        vertical-align: top;\n",
       "    }\n",
       "\n",
       "    .dataframe thead th {\n",
       "        text-align: right;\n",
       "    }\n",
       "</style>\n",
       "<table border=\"1\" class=\"dataframe\">\n",
       "  <thead>\n",
       "    <tr style=\"text-align: right;\">\n",
       "      <th></th>\n",
       "      <th>Employee_ID</th>\n",
       "      <th>Age</th>\n",
       "      <th>Gender</th>\n",
       "      <th>Job_Role</th>\n",
       "      <th>Industry</th>\n",
       "      <th>Years_of_Experience</th>\n",
       "      <th>Work_Location</th>\n",
       "      <th>Hours_Worked_Per_Week</th>\n",
       "      <th>Number_of_Virtual_Meetings</th>\n",
       "      <th>Work_Life_Balance_Rating</th>\n",
       "      <th>Stress_Level</th>\n",
       "      <th>Mental_Health_Condition</th>\n",
       "      <th>Access_to_Mental_Health_Resources</th>\n",
       "      <th>Productivity_Change</th>\n",
       "      <th>Social_Isolation_Rating</th>\n",
       "      <th>Satisfaction_with_Remote_Work</th>\n",
       "      <th>Company_Support_for_Remote_Work</th>\n",
       "      <th>Physical_Activity</th>\n",
       "      <th>Sleep_Quality</th>\n",
       "      <th>Region</th>\n",
       "    </tr>\n",
       "  </thead>\n",
       "  <tbody>\n",
       "    <tr>\n",
       "      <th>4993</th>\n",
       "      <td>EMP4994</td>\n",
       "      <td>35</td>\n",
       "      <td>Non-binary</td>\n",
       "      <td>Marketing</td>\n",
       "      <td>Retail</td>\n",
       "      <td>12</td>\n",
       "      <td>Hybrid</td>\n",
       "      <td>32</td>\n",
       "      <td>13</td>\n",
       "      <td>5</td>\n",
       "      <td>Medium</td>\n",
       "      <td>NaN</td>\n",
       "      <td>Yes</td>\n",
       "      <td>Decrease</td>\n",
       "      <td>2</td>\n",
       "      <td>Satisfied</td>\n",
       "      <td>3</td>\n",
       "      <td>Daily</td>\n",
       "      <td>Good</td>\n",
       "      <td>Asia</td>\n",
       "    </tr>\n",
       "    <tr>\n",
       "      <th>4994</th>\n",
       "      <td>EMP4995</td>\n",
       "      <td>40</td>\n",
       "      <td>Prefer not to say</td>\n",
       "      <td>Marketing</td>\n",
       "      <td>IT</td>\n",
       "      <td>17</td>\n",
       "      <td>Hybrid</td>\n",
       "      <td>52</td>\n",
       "      <td>1</td>\n",
       "      <td>2</td>\n",
       "      <td>Medium</td>\n",
       "      <td>Burnout</td>\n",
       "      <td>Yes</td>\n",
       "      <td>Increase</td>\n",
       "      <td>3</td>\n",
       "      <td>Neutral</td>\n",
       "      <td>5</td>\n",
       "      <td>Daily</td>\n",
       "      <td>Good</td>\n",
       "      <td>Oceania</td>\n",
       "    </tr>\n",
       "    <tr>\n",
       "      <th>4995</th>\n",
       "      <td>EMP4996</td>\n",
       "      <td>32</td>\n",
       "      <td>Male</td>\n",
       "      <td>Sales</td>\n",
       "      <td>Consulting</td>\n",
       "      <td>4</td>\n",
       "      <td>Onsite</td>\n",
       "      <td>24</td>\n",
       "      <td>2</td>\n",
       "      <td>5</td>\n",
       "      <td>High</td>\n",
       "      <td>Burnout</td>\n",
       "      <td>Yes</td>\n",
       "      <td>Decrease</td>\n",
       "      <td>4</td>\n",
       "      <td>Neutral</td>\n",
       "      <td>1</td>\n",
       "      <td>Weekly</td>\n",
       "      <td>Average</td>\n",
       "      <td>Asia</td>\n",
       "    </tr>\n",
       "    <tr>\n",
       "      <th>4996</th>\n",
       "      <td>EMP4997</td>\n",
       "      <td>39</td>\n",
       "      <td>Female</td>\n",
       "      <td>Sales</td>\n",
       "      <td>Healthcare</td>\n",
       "      <td>27</td>\n",
       "      <td>Onsite</td>\n",
       "      <td>48</td>\n",
       "      <td>15</td>\n",
       "      <td>1</td>\n",
       "      <td>Low</td>\n",
       "      <td>Depression</td>\n",
       "      <td>Yes</td>\n",
       "      <td>Decrease</td>\n",
       "      <td>1</td>\n",
       "      <td>Satisfied</td>\n",
       "      <td>1</td>\n",
       "      <td>NaN</td>\n",
       "      <td>Average</td>\n",
       "      <td>Africa</td>\n",
       "    </tr>\n",
       "    <tr>\n",
       "      <th>4997</th>\n",
       "      <td>EMP4998</td>\n",
       "      <td>42</td>\n",
       "      <td>Female</td>\n",
       "      <td>Sales</td>\n",
       "      <td>Healthcare</td>\n",
       "      <td>21</td>\n",
       "      <td>Hybrid</td>\n",
       "      <td>34</td>\n",
       "      <td>1</td>\n",
       "      <td>4</td>\n",
       "      <td>High</td>\n",
       "      <td>Burnout</td>\n",
       "      <td>No</td>\n",
       "      <td>Increase</td>\n",
       "      <td>3</td>\n",
       "      <td>Satisfied</td>\n",
       "      <td>1</td>\n",
       "      <td>Daily</td>\n",
       "      <td>Poor</td>\n",
       "      <td>Oceania</td>\n",
       "    </tr>\n",
       "    <tr>\n",
       "      <th>4998</th>\n",
       "      <td>EMP4999</td>\n",
       "      <td>27</td>\n",
       "      <td>Female</td>\n",
       "      <td>Sales</td>\n",
       "      <td>Healthcare</td>\n",
       "      <td>26</td>\n",
       "      <td>Remote</td>\n",
       "      <td>58</td>\n",
       "      <td>0</td>\n",
       "      <td>5</td>\n",
       "      <td>Low</td>\n",
       "      <td>NaN</td>\n",
       "      <td>Yes</td>\n",
       "      <td>Increase</td>\n",
       "      <td>3</td>\n",
       "      <td>Unsatisfied</td>\n",
       "      <td>4</td>\n",
       "      <td>Daily</td>\n",
       "      <td>Average</td>\n",
       "      <td>Asia</td>\n",
       "    </tr>\n",
       "    <tr>\n",
       "      <th>4999</th>\n",
       "      <td>EMP5000</td>\n",
       "      <td>29</td>\n",
       "      <td>Male</td>\n",
       "      <td>HR</td>\n",
       "      <td>IT</td>\n",
       "      <td>30</td>\n",
       "      <td>Onsite</td>\n",
       "      <td>20</td>\n",
       "      <td>15</td>\n",
       "      <td>1</td>\n",
       "      <td>Low</td>\n",
       "      <td>Depression</td>\n",
       "      <td>Yes</td>\n",
       "      <td>No Change</td>\n",
       "      <td>3</td>\n",
       "      <td>Unsatisfied</td>\n",
       "      <td>5</td>\n",
       "      <td>NaN</td>\n",
       "      <td>Poor</td>\n",
       "      <td>Asia</td>\n",
       "    </tr>\n",
       "  </tbody>\n",
       "</table>\n",
       "</div>"
      ],
      "text/plain": [
       "     Employee_ID  Age             Gender   Job_Role    Industry  \\\n",
       "4993     EMP4994   35         Non-binary  Marketing      Retail   \n",
       "4994     EMP4995   40  Prefer not to say  Marketing          IT   \n",
       "4995     EMP4996   32               Male      Sales  Consulting   \n",
       "4996     EMP4997   39             Female      Sales  Healthcare   \n",
       "4997     EMP4998   42             Female      Sales  Healthcare   \n",
       "4998     EMP4999   27             Female      Sales  Healthcare   \n",
       "4999     EMP5000   29               Male         HR          IT   \n",
       "\n",
       "      Years_of_Experience Work_Location  Hours_Worked_Per_Week  \\\n",
       "4993                   12        Hybrid                     32   \n",
       "4994                   17        Hybrid                     52   \n",
       "4995                    4        Onsite                     24   \n",
       "4996                   27        Onsite                     48   \n",
       "4997                   21        Hybrid                     34   \n",
       "4998                   26        Remote                     58   \n",
       "4999                   30        Onsite                     20   \n",
       "\n",
       "      Number_of_Virtual_Meetings  Work_Life_Balance_Rating Stress_Level  \\\n",
       "4993                          13                         5       Medium   \n",
       "4994                           1                         2       Medium   \n",
       "4995                           2                         5         High   \n",
       "4996                          15                         1          Low   \n",
       "4997                           1                         4         High   \n",
       "4998                           0                         5          Low   \n",
       "4999                          15                         1          Low   \n",
       "\n",
       "     Mental_Health_Condition Access_to_Mental_Health_Resources  \\\n",
       "4993                     NaN                               Yes   \n",
       "4994                 Burnout                               Yes   \n",
       "4995                 Burnout                               Yes   \n",
       "4996              Depression                               Yes   \n",
       "4997                 Burnout                                No   \n",
       "4998                     NaN                               Yes   \n",
       "4999              Depression                               Yes   \n",
       "\n",
       "     Productivity_Change  Social_Isolation_Rating  \\\n",
       "4993            Decrease                        2   \n",
       "4994            Increase                        3   \n",
       "4995            Decrease                        4   \n",
       "4996            Decrease                        1   \n",
       "4997            Increase                        3   \n",
       "4998            Increase                        3   \n",
       "4999           No Change                        3   \n",
       "\n",
       "     Satisfaction_with_Remote_Work  Company_Support_for_Remote_Work  \\\n",
       "4993                     Satisfied                                3   \n",
       "4994                       Neutral                                5   \n",
       "4995                       Neutral                                1   \n",
       "4996                     Satisfied                                1   \n",
       "4997                     Satisfied                                1   \n",
       "4998                   Unsatisfied                                4   \n",
       "4999                   Unsatisfied                                5   \n",
       "\n",
       "     Physical_Activity Sleep_Quality   Region  \n",
       "4993             Daily          Good     Asia  \n",
       "4994             Daily          Good  Oceania  \n",
       "4995            Weekly       Average     Asia  \n",
       "4996               NaN       Average   Africa  \n",
       "4997             Daily          Poor  Oceania  \n",
       "4998             Daily       Average     Asia  \n",
       "4999               NaN          Poor     Asia  "
      ]
     },
     "execution_count": 5,
     "metadata": {},
     "output_type": "execute_result"
    }
   ],
   "source": [
    "# Write code here\n",
    "df.tail(7)"
   ]
  },
  {
   "cell_type": "markdown",
   "metadata": {
    "id": "osg640SM-ySa"
   },
   "source": [
    "## 3. Find the Number of Null Values in the Dataset (2 mark)"
   ]
  },
  {
   "cell_type": "code",
   "execution_count": 6,
   "metadata": {
    "id": "VL7WVh2x_e2u"
   },
   "outputs": [
    {
     "data": {
      "text/plain": [
       "np.int64(2825)"
      ]
     },
     "execution_count": 6,
     "metadata": {},
     "output_type": "execute_result"
    }
   ],
   "source": [
    "# Write code here\n",
    "df.isna().sum().sum()"
   ]
  },
  {
   "cell_type": "markdown",
   "metadata": {
    "id": "FpJ9_gGH_g9Z"
   },
   "source": [
    "## 4. Statistical Summary for Numeric Columns (10 marks)\n",
    "Instructions: Use individual commands to find the statistical summary."
   ]
  },
  {
   "cell_type": "markdown",
   "metadata": {
    "id": "8R-SXWwY_msH"
   },
   "source": [
    "- Count"
   ]
  },
  {
   "cell_type": "code",
   "execution_count": 7,
   "metadata": {
    "id": "rdhV-VNf_gcm"
   },
   "outputs": [
    {
     "data": {
      "text/plain": [
       "Age                                5000\n",
       "Years_of_Experience                5000\n",
       "Hours_Worked_Per_Week              5000\n",
       "Number_of_Virtual_Meetings         5000\n",
       "Work_Life_Balance_Rating           5000\n",
       "Social_Isolation_Rating            5000\n",
       "Company_Support_for_Remote_Work    5000\n",
       "dtype: int64"
      ]
     },
     "execution_count": 7,
     "metadata": {},
     "output_type": "execute_result"
    }
   ],
   "source": [
    "# Write code here\n",
    "df.count(numeric_only=True)"
   ]
  },
  {
   "cell_type": "markdown",
   "metadata": {
    "id": "3sHkuqIM_wLh"
   },
   "source": [
    "- Mean"
   ]
  },
  {
   "cell_type": "code",
   "execution_count": 8,
   "metadata": {
    "id": "MyCg6EO4_v1V"
   },
   "outputs": [
    {
     "data": {
      "text/plain": [
       "Age                                40.9950\n",
       "Years_of_Experience                17.8102\n",
       "Hours_Worked_Per_Week              39.6146\n",
       "Number_of_Virtual_Meetings          7.5590\n",
       "Work_Life_Balance_Rating            2.9842\n",
       "Social_Isolation_Rating             2.9938\n",
       "Company_Support_for_Remote_Work     3.0078\n",
       "dtype: float64"
      ]
     },
     "execution_count": 8,
     "metadata": {},
     "output_type": "execute_result"
    }
   ],
   "source": [
    "# Write code here\n",
    "df.mean(numeric_only=True)"
   ]
  },
  {
   "cell_type": "markdown",
   "metadata": {
    "id": "S3KSqJm2_vob"
   },
   "source": [
    "- Standard Deviation"
   ]
  },
  {
   "cell_type": "code",
   "execution_count": 9,
   "metadata": {
    "id": "sKUiXGdy_y_7"
   },
   "outputs": [
    {
     "data": {
      "text/plain": [
       "Age                                11.296021\n",
       "Years_of_Experience                10.020412\n",
       "Hours_Worked_Per_Week              11.860194\n",
       "Number_of_Virtual_Meetings          4.636121\n",
       "Work_Life_Balance_Rating            1.410513\n",
       "Social_Isolation_Rating             1.394615\n",
       "Company_Support_for_Remote_Work     1.399046\n",
       "dtype: float64"
      ]
     },
     "execution_count": 9,
     "metadata": {},
     "output_type": "execute_result"
    }
   ],
   "source": [
    "# Write code here\n",
    "df.std(numeric_only=True)"
   ]
  },
  {
   "cell_type": "markdown",
   "metadata": {
    "id": "NvmOKMtoABPG"
   },
   "source": [
    "- Quartiles"
   ]
  },
  {
   "cell_type": "code",
   "execution_count": 10,
   "metadata": {
    "id": "TVThkvwx_0zt"
   },
   "outputs": [
    {
     "data": {
      "text/html": [
       "<div>\n",
       "<style scoped>\n",
       "    .dataframe tbody tr th:only-of-type {\n",
       "        vertical-align: middle;\n",
       "    }\n",
       "\n",
       "    .dataframe tbody tr th {\n",
       "        vertical-align: top;\n",
       "    }\n",
       "\n",
       "    .dataframe thead th {\n",
       "        text-align: right;\n",
       "    }\n",
       "</style>\n",
       "<table border=\"1\" class=\"dataframe\">\n",
       "  <thead>\n",
       "    <tr style=\"text-align: right;\">\n",
       "      <th></th>\n",
       "      <th>Age</th>\n",
       "      <th>Years_of_Experience</th>\n",
       "      <th>Hours_Worked_Per_Week</th>\n",
       "      <th>Number_of_Virtual_Meetings</th>\n",
       "      <th>Work_Life_Balance_Rating</th>\n",
       "      <th>Social_Isolation_Rating</th>\n",
       "      <th>Company_Support_for_Remote_Work</th>\n",
       "    </tr>\n",
       "  </thead>\n",
       "  <tbody>\n",
       "    <tr>\n",
       "      <th>0.25</th>\n",
       "      <td>31.0</td>\n",
       "      <td>9.0</td>\n",
       "      <td>29.0</td>\n",
       "      <td>4.0</td>\n",
       "      <td>2.0</td>\n",
       "      <td>2.0</td>\n",
       "      <td>2.0</td>\n",
       "    </tr>\n",
       "    <tr>\n",
       "      <th>0.50</th>\n",
       "      <td>41.0</td>\n",
       "      <td>18.0</td>\n",
       "      <td>40.0</td>\n",
       "      <td>8.0</td>\n",
       "      <td>3.0</td>\n",
       "      <td>3.0</td>\n",
       "      <td>3.0</td>\n",
       "    </tr>\n",
       "    <tr>\n",
       "      <th>0.75</th>\n",
       "      <td>51.0</td>\n",
       "      <td>26.0</td>\n",
       "      <td>50.0</td>\n",
       "      <td>12.0</td>\n",
       "      <td>4.0</td>\n",
       "      <td>4.0</td>\n",
       "      <td>4.0</td>\n",
       "    </tr>\n",
       "  </tbody>\n",
       "</table>\n",
       "</div>"
      ],
      "text/plain": [
       "       Age  Years_of_Experience  Hours_Worked_Per_Week  \\\n",
       "0.25  31.0                  9.0                   29.0   \n",
       "0.50  41.0                 18.0                   40.0   \n",
       "0.75  51.0                 26.0                   50.0   \n",
       "\n",
       "      Number_of_Virtual_Meetings  Work_Life_Balance_Rating  \\\n",
       "0.25                         4.0                       2.0   \n",
       "0.50                         8.0                       3.0   \n",
       "0.75                        12.0                       4.0   \n",
       "\n",
       "      Social_Isolation_Rating  Company_Support_for_Remote_Work  \n",
       "0.25                      2.0                              2.0  \n",
       "0.50                      3.0                              3.0  \n",
       "0.75                      4.0                              4.0  "
      ]
     },
     "execution_count": 10,
     "metadata": {},
     "output_type": "execute_result"
    }
   ],
   "source": [
    "# Write code here\n",
    "df.quantile(q=[0.25, 0.5, 0.75], numeric_only=True)"
   ]
  },
  {
   "cell_type": "markdown",
   "metadata": {
    "id": "kydBDNX0AWbd"
   },
   "source": [
    "## 5. Calculate Extrema (2 marks)"
   ]
  },
  {
   "cell_type": "code",
   "execution_count": 11,
   "metadata": {
    "id": "u6cVQN3l_0ut"
   },
   "outputs": [
    {
     "name": "stdout",
     "output_type": "stream",
     "text": [
      "Minima:\n",
      "------------------------------------------\n",
      "Age                                22\n",
      "Years_of_Experience                 1\n",
      "Hours_Worked_Per_Week              20\n",
      "Number_of_Virtual_Meetings          0\n",
      "Work_Life_Balance_Rating            1\n",
      "Social_Isolation_Rating             1\n",
      "Company_Support_for_Remote_Work     1\n",
      "dtype: int64\n",
      "==========================================\n",
      "Maxima:\n",
      "------------------------------------------\n",
      "Age                                60\n",
      "Years_of_Experience                35\n",
      "Hours_Worked_Per_Week              60\n",
      "Number_of_Virtual_Meetings         15\n",
      "Work_Life_Balance_Rating            5\n",
      "Social_Isolation_Rating             5\n",
      "Company_Support_for_Remote_Work     5\n",
      "dtype: int64\n"
     ]
    }
   ],
   "source": [
    "# Write code here\n",
    "print(\"Minima:\")\n",
    "print(\"-\" * 42)\n",
    "print(df.min(numeric_only=True))\n",
    "print(\"=\" * 42)\n",
    "print(\"Maxima:\")\n",
    "print(\"-\" * 42)\n",
    "print(df.max(numeric_only=True))"
   ]
  },
  {
   "cell_type": "markdown",
   "metadata": {
    "id": "z9mN8HDMCreb"
   },
   "source": [
    "## 6. Find Unique Values in a Categorical Column (3 marks)\n",
    "\n",
    "- Instructions: Identify the unique values in the `job_role` column (2 marks)\n",
    "- Question: How many unique roles are represented in the dataset? (1 mark)"
   ]
  },
  {
   "cell_type": "code",
   "execution_count": 12,
   "metadata": {
    "id": "WO3P27X-_0pl"
   },
   "outputs": [
    {
     "name": "stdout",
     "output_type": "stream",
     "text": [
      "Roles:\n",
      "------------------------------------------\n",
      "HR\n",
      "Data Scientist\n",
      "Software Engineer\n",
      "Sales\n",
      "Marketing\n",
      "Designer\n",
      "Project Manager\n",
      "==========================================\n",
      "There are 7 unique roles in the dataset.\n"
     ]
    }
   ],
   "source": [
    "# Write code here\n",
    "unique_roles = df.Job_Role.unique()\n",
    "print(\"Roles:\")\n",
    "print(\"-\" * 42)\n",
    "print(*unique_roles, sep=\"\\n\")\n",
    "print(\"=\" * 42)\n",
    "print(f\"There are {len(unique_roles)} unique roles in the dataset.\")"
   ]
  },
  {
   "cell_type": "markdown",
   "metadata": {
    "id": "GnePX9mfC-6I"
   },
   "source": [
    "## 7. Group Data and Calculate Mean (4 marks)\n",
    "- Instructions: Group the dataset by `job_role` and calculate the mean of the `Work_Life_Balance_Rating` for each role.\n",
    "- Question: Which job role has the highest average Work life balance?"
   ]
  },
  {
   "cell_type": "code",
   "execution_count": 13,
   "metadata": {
    "id": "FDp0ZL9R_0j1"
   },
   "outputs": [
    {
     "data": {
      "text/plain": [
       "Job_Role\n",
       "Sales                3.043656\n",
       "Software Engineer    3.033755\n",
       "Data Scientist       3.007184\n",
       "Designer             2.966805\n",
       "Project Manager      2.960705\n",
       "Marketing            2.945827\n",
       "HR                   2.930168\n",
       "Name: Work_Life_Balance_Rating, dtype: float64"
      ]
     },
     "execution_count": 13,
     "metadata": {},
     "output_type": "execute_result"
    }
   ],
   "source": [
    "# Write code here\n",
    "df.groupby(\"Job_Role\").mean(numeric_only=True)[\"Work_Life_Balance_Rating\"].sort_values(ascending=False)"
   ]
  },
  {
   "cell_type": "markdown",
   "metadata": {
    "id": "uWZZN2JGDPoQ"
   },
   "source": [
    "## 8. Filter Data Based on Condition (4 marks)\n",
    "- Instructions: Filter the dataset to show only rows where `work_hours_per_week` is greater than 40.\n",
    "- Question: How many employees are working overtime?"
   ]
  },
  {
   "cell_type": "code",
   "execution_count": 14,
   "metadata": {
    "id": "hq77PsstDPWJ"
   },
   "outputs": [
    {
     "data": {
      "text/html": [
       "<div>\n",
       "<style scoped>\n",
       "    .dataframe tbody tr th:only-of-type {\n",
       "        vertical-align: middle;\n",
       "    }\n",
       "\n",
       "    .dataframe tbody tr th {\n",
       "        vertical-align: top;\n",
       "    }\n",
       "\n",
       "    .dataframe thead th {\n",
       "        text-align: right;\n",
       "    }\n",
       "</style>\n",
       "<table border=\"1\" class=\"dataframe\">\n",
       "  <thead>\n",
       "    <tr style=\"text-align: right;\">\n",
       "      <th></th>\n",
       "      <th>Employee_ID</th>\n",
       "      <th>Age</th>\n",
       "      <th>Gender</th>\n",
       "      <th>Job_Role</th>\n",
       "      <th>Industry</th>\n",
       "      <th>Years_of_Experience</th>\n",
       "      <th>Work_Location</th>\n",
       "      <th>Hours_Worked_Per_Week</th>\n",
       "      <th>Number_of_Virtual_Meetings</th>\n",
       "      <th>Work_Life_Balance_Rating</th>\n",
       "      <th>Stress_Level</th>\n",
       "      <th>Mental_Health_Condition</th>\n",
       "      <th>Access_to_Mental_Health_Resources</th>\n",
       "      <th>Productivity_Change</th>\n",
       "      <th>Social_Isolation_Rating</th>\n",
       "      <th>Satisfaction_with_Remote_Work</th>\n",
       "      <th>Company_Support_for_Remote_Work</th>\n",
       "      <th>Physical_Activity</th>\n",
       "      <th>Sleep_Quality</th>\n",
       "      <th>Region</th>\n",
       "    </tr>\n",
       "  </thead>\n",
       "  <tbody>\n",
       "    <tr>\n",
       "      <th>0</th>\n",
       "      <td>EMP0001</td>\n",
       "      <td>32</td>\n",
       "      <td>Non-binary</td>\n",
       "      <td>HR</td>\n",
       "      <td>Healthcare</td>\n",
       "      <td>13</td>\n",
       "      <td>Hybrid</td>\n",
       "      <td>47</td>\n",
       "      <td>7</td>\n",
       "      <td>2</td>\n",
       "      <td>Medium</td>\n",
       "      <td>Depression</td>\n",
       "      <td>No</td>\n",
       "      <td>Decrease</td>\n",
       "      <td>1</td>\n",
       "      <td>Unsatisfied</td>\n",
       "      <td>1</td>\n",
       "      <td>Weekly</td>\n",
       "      <td>Good</td>\n",
       "      <td>Europe</td>\n",
       "    </tr>\n",
       "    <tr>\n",
       "      <th>1</th>\n",
       "      <td>EMP0002</td>\n",
       "      <td>40</td>\n",
       "      <td>Female</td>\n",
       "      <td>Data Scientist</td>\n",
       "      <td>IT</td>\n",
       "      <td>3</td>\n",
       "      <td>Remote</td>\n",
       "      <td>52</td>\n",
       "      <td>4</td>\n",
       "      <td>1</td>\n",
       "      <td>Medium</td>\n",
       "      <td>Anxiety</td>\n",
       "      <td>No</td>\n",
       "      <td>Increase</td>\n",
       "      <td>3</td>\n",
       "      <td>Satisfied</td>\n",
       "      <td>2</td>\n",
       "      <td>Weekly</td>\n",
       "      <td>Good</td>\n",
       "      <td>Asia</td>\n",
       "    </tr>\n",
       "    <tr>\n",
       "      <th>2</th>\n",
       "      <td>EMP0003</td>\n",
       "      <td>59</td>\n",
       "      <td>Non-binary</td>\n",
       "      <td>Software Engineer</td>\n",
       "      <td>Education</td>\n",
       "      <td>22</td>\n",
       "      <td>Hybrid</td>\n",
       "      <td>46</td>\n",
       "      <td>11</td>\n",
       "      <td>5</td>\n",
       "      <td>Medium</td>\n",
       "      <td>Anxiety</td>\n",
       "      <td>No</td>\n",
       "      <td>No Change</td>\n",
       "      <td>4</td>\n",
       "      <td>Unsatisfied</td>\n",
       "      <td>5</td>\n",
       "      <td>NaN</td>\n",
       "      <td>Poor</td>\n",
       "      <td>North America</td>\n",
       "    </tr>\n",
       "    <tr>\n",
       "      <th>6</th>\n",
       "      <td>EMP0007</td>\n",
       "      <td>31</td>\n",
       "      <td>Prefer not to say</td>\n",
       "      <td>Sales</td>\n",
       "      <td>IT</td>\n",
       "      <td>24</td>\n",
       "      <td>Remote</td>\n",
       "      <td>51</td>\n",
       "      <td>7</td>\n",
       "      <td>3</td>\n",
       "      <td>Low</td>\n",
       "      <td>Anxiety</td>\n",
       "      <td>Yes</td>\n",
       "      <td>Decrease</td>\n",
       "      <td>5</td>\n",
       "      <td>Neutral</td>\n",
       "      <td>3</td>\n",
       "      <td>Daily</td>\n",
       "      <td>Poor</td>\n",
       "      <td>Asia</td>\n",
       "    </tr>\n",
       "    <tr>\n",
       "      <th>7</th>\n",
       "      <td>EMP0008</td>\n",
       "      <td>42</td>\n",
       "      <td>Non-binary</td>\n",
       "      <td>Data Scientist</td>\n",
       "      <td>Manufacturing</td>\n",
       "      <td>6</td>\n",
       "      <td>Onsite</td>\n",
       "      <td>54</td>\n",
       "      <td>7</td>\n",
       "      <td>3</td>\n",
       "      <td>Medium</td>\n",
       "      <td>Depression</td>\n",
       "      <td>No</td>\n",
       "      <td>Decrease</td>\n",
       "      <td>5</td>\n",
       "      <td>Satisfied</td>\n",
       "      <td>4</td>\n",
       "      <td>NaN</td>\n",
       "      <td>Average</td>\n",
       "      <td>North America</td>\n",
       "    </tr>\n",
       "    <tr>\n",
       "      <th>...</th>\n",
       "      <td>...</td>\n",
       "      <td>...</td>\n",
       "      <td>...</td>\n",
       "      <td>...</td>\n",
       "      <td>...</td>\n",
       "      <td>...</td>\n",
       "      <td>...</td>\n",
       "      <td>...</td>\n",
       "      <td>...</td>\n",
       "      <td>...</td>\n",
       "      <td>...</td>\n",
       "      <td>...</td>\n",
       "      <td>...</td>\n",
       "      <td>...</td>\n",
       "      <td>...</td>\n",
       "      <td>...</td>\n",
       "      <td>...</td>\n",
       "      <td>...</td>\n",
       "      <td>...</td>\n",
       "      <td>...</td>\n",
       "    </tr>\n",
       "    <tr>\n",
       "      <th>4991</th>\n",
       "      <td>EMP4992</td>\n",
       "      <td>60</td>\n",
       "      <td>Female</td>\n",
       "      <td>Data Scientist</td>\n",
       "      <td>IT</td>\n",
       "      <td>9</td>\n",
       "      <td>Hybrid</td>\n",
       "      <td>57</td>\n",
       "      <td>4</td>\n",
       "      <td>2</td>\n",
       "      <td>Low</td>\n",
       "      <td>Burnout</td>\n",
       "      <td>Yes</td>\n",
       "      <td>Increase</td>\n",
       "      <td>4</td>\n",
       "      <td>Satisfied</td>\n",
       "      <td>5</td>\n",
       "      <td>Weekly</td>\n",
       "      <td>Average</td>\n",
       "      <td>Oceania</td>\n",
       "    </tr>\n",
       "    <tr>\n",
       "      <th>4992</th>\n",
       "      <td>EMP4993</td>\n",
       "      <td>55</td>\n",
       "      <td>Prefer not to say</td>\n",
       "      <td>Project Manager</td>\n",
       "      <td>Consulting</td>\n",
       "      <td>21</td>\n",
       "      <td>Hybrid</td>\n",
       "      <td>45</td>\n",
       "      <td>7</td>\n",
       "      <td>2</td>\n",
       "      <td>High</td>\n",
       "      <td>Anxiety</td>\n",
       "      <td>No</td>\n",
       "      <td>No Change</td>\n",
       "      <td>2</td>\n",
       "      <td>Satisfied</td>\n",
       "      <td>3</td>\n",
       "      <td>Daily</td>\n",
       "      <td>Poor</td>\n",
       "      <td>Africa</td>\n",
       "    </tr>\n",
       "    <tr>\n",
       "      <th>4994</th>\n",
       "      <td>EMP4995</td>\n",
       "      <td>40</td>\n",
       "      <td>Prefer not to say</td>\n",
       "      <td>Marketing</td>\n",
       "      <td>IT</td>\n",
       "      <td>17</td>\n",
       "      <td>Hybrid</td>\n",
       "      <td>52</td>\n",
       "      <td>1</td>\n",
       "      <td>2</td>\n",
       "      <td>Medium</td>\n",
       "      <td>Burnout</td>\n",
       "      <td>Yes</td>\n",
       "      <td>Increase</td>\n",
       "      <td>3</td>\n",
       "      <td>Neutral</td>\n",
       "      <td>5</td>\n",
       "      <td>Daily</td>\n",
       "      <td>Good</td>\n",
       "      <td>Oceania</td>\n",
       "    </tr>\n",
       "    <tr>\n",
       "      <th>4996</th>\n",
       "      <td>EMP4997</td>\n",
       "      <td>39</td>\n",
       "      <td>Female</td>\n",
       "      <td>Sales</td>\n",
       "      <td>Healthcare</td>\n",
       "      <td>27</td>\n",
       "      <td>Onsite</td>\n",
       "      <td>48</td>\n",
       "      <td>15</td>\n",
       "      <td>1</td>\n",
       "      <td>Low</td>\n",
       "      <td>Depression</td>\n",
       "      <td>Yes</td>\n",
       "      <td>Decrease</td>\n",
       "      <td>1</td>\n",
       "      <td>Satisfied</td>\n",
       "      <td>1</td>\n",
       "      <td>NaN</td>\n",
       "      <td>Average</td>\n",
       "      <td>Africa</td>\n",
       "    </tr>\n",
       "    <tr>\n",
       "      <th>4998</th>\n",
       "      <td>EMP4999</td>\n",
       "      <td>27</td>\n",
       "      <td>Female</td>\n",
       "      <td>Sales</td>\n",
       "      <td>Healthcare</td>\n",
       "      <td>26</td>\n",
       "      <td>Remote</td>\n",
       "      <td>58</td>\n",
       "      <td>0</td>\n",
       "      <td>5</td>\n",
       "      <td>Low</td>\n",
       "      <td>NaN</td>\n",
       "      <td>Yes</td>\n",
       "      <td>Increase</td>\n",
       "      <td>3</td>\n",
       "      <td>Unsatisfied</td>\n",
       "      <td>4</td>\n",
       "      <td>Daily</td>\n",
       "      <td>Average</td>\n",
       "      <td>Asia</td>\n",
       "    </tr>\n",
       "  </tbody>\n",
       "</table>\n",
       "<p>2384 rows × 20 columns</p>\n",
       "</div>"
      ],
      "text/plain": [
       "     Employee_ID  Age             Gender           Job_Role       Industry  \\\n",
       "0        EMP0001   32         Non-binary                 HR     Healthcare   \n",
       "1        EMP0002   40             Female     Data Scientist             IT   \n",
       "2        EMP0003   59         Non-binary  Software Engineer      Education   \n",
       "6        EMP0007   31  Prefer not to say              Sales             IT   \n",
       "7        EMP0008   42         Non-binary     Data Scientist  Manufacturing   \n",
       "...          ...  ...                ...                ...            ...   \n",
       "4991     EMP4992   60             Female     Data Scientist             IT   \n",
       "4992     EMP4993   55  Prefer not to say    Project Manager     Consulting   \n",
       "4994     EMP4995   40  Prefer not to say          Marketing             IT   \n",
       "4996     EMP4997   39             Female              Sales     Healthcare   \n",
       "4998     EMP4999   27             Female              Sales     Healthcare   \n",
       "\n",
       "      Years_of_Experience Work_Location  Hours_Worked_Per_Week  \\\n",
       "0                      13        Hybrid                     47   \n",
       "1                       3        Remote                     52   \n",
       "2                      22        Hybrid                     46   \n",
       "6                      24        Remote                     51   \n",
       "7                       6        Onsite                     54   \n",
       "...                   ...           ...                    ...   \n",
       "4991                    9        Hybrid                     57   \n",
       "4992                   21        Hybrid                     45   \n",
       "4994                   17        Hybrid                     52   \n",
       "4996                   27        Onsite                     48   \n",
       "4998                   26        Remote                     58   \n",
       "\n",
       "      Number_of_Virtual_Meetings  Work_Life_Balance_Rating Stress_Level  \\\n",
       "0                              7                         2       Medium   \n",
       "1                              4                         1       Medium   \n",
       "2                             11                         5       Medium   \n",
       "6                              7                         3          Low   \n",
       "7                              7                         3       Medium   \n",
       "...                          ...                       ...          ...   \n",
       "4991                           4                         2          Low   \n",
       "4992                           7                         2         High   \n",
       "4994                           1                         2       Medium   \n",
       "4996                          15                         1          Low   \n",
       "4998                           0                         5          Low   \n",
       "\n",
       "     Mental_Health_Condition Access_to_Mental_Health_Resources  \\\n",
       "0                 Depression                                No   \n",
       "1                    Anxiety                                No   \n",
       "2                    Anxiety                                No   \n",
       "6                    Anxiety                               Yes   \n",
       "7                 Depression                                No   \n",
       "...                      ...                               ...   \n",
       "4991                 Burnout                               Yes   \n",
       "4992                 Anxiety                                No   \n",
       "4994                 Burnout                               Yes   \n",
       "4996              Depression                               Yes   \n",
       "4998                     NaN                               Yes   \n",
       "\n",
       "     Productivity_Change  Social_Isolation_Rating  \\\n",
       "0               Decrease                        1   \n",
       "1               Increase                        3   \n",
       "2              No Change                        4   \n",
       "6               Decrease                        5   \n",
       "7               Decrease                        5   \n",
       "...                  ...                      ...   \n",
       "4991            Increase                        4   \n",
       "4992           No Change                        2   \n",
       "4994            Increase                        3   \n",
       "4996            Decrease                        1   \n",
       "4998            Increase                        3   \n",
       "\n",
       "     Satisfaction_with_Remote_Work  Company_Support_for_Remote_Work  \\\n",
       "0                      Unsatisfied                                1   \n",
       "1                        Satisfied                                2   \n",
       "2                      Unsatisfied                                5   \n",
       "6                          Neutral                                3   \n",
       "7                        Satisfied                                4   \n",
       "...                            ...                              ...   \n",
       "4991                     Satisfied                                5   \n",
       "4992                     Satisfied                                3   \n",
       "4994                       Neutral                                5   \n",
       "4996                     Satisfied                                1   \n",
       "4998                   Unsatisfied                                4   \n",
       "\n",
       "     Physical_Activity Sleep_Quality         Region  \n",
       "0               Weekly          Good         Europe  \n",
       "1               Weekly          Good           Asia  \n",
       "2                  NaN          Poor  North America  \n",
       "6                Daily          Poor           Asia  \n",
       "7                  NaN       Average  North America  \n",
       "...                ...           ...            ...  \n",
       "4991            Weekly       Average        Oceania  \n",
       "4992             Daily          Poor         Africa  \n",
       "4994             Daily          Good        Oceania  \n",
       "4996               NaN       Average         Africa  \n",
       "4998             Daily       Average           Asia  \n",
       "\n",
       "[2384 rows x 20 columns]"
      ]
     },
     "execution_count": 14,
     "metadata": {},
     "output_type": "execute_result"
    }
   ],
   "source": [
    "# Write code here\n",
    "df[df[\"Hours_Worked_Per_Week\"] > 40]\n",
    "\n",
    "# 2384 employees are working overtime"
   ]
  },
  {
   "cell_type": "markdown",
   "metadata": {
    "id": "u6rhIsN6DzXO"
   },
   "source": [
    "## 9 . Histogram of Work Hours per Week (5 marks)\n",
    "- Instructions: Create a histogram of `Hours_Worked_Per_Week` (4 marks).\n",
    "- Question: Describe the distribution of work hours. Are most employees working around a certain number of hours per week? (1 mark)"
   ]
  },
  {
   "cell_type": "code",
   "execution_count": 15,
   "metadata": {
    "id": "oxPN35Ui_0em"
   },
   "outputs": [
    {
     "data": {
      "image/png": "[encoded data removed]",
      "text/plain": [
       "<Figure size 600x400 with 1 Axes>"
      ]
     },
     "metadata": {},
     "output_type": "display_data"
    }
   ],
   "source": [
    "# Write code here\n",
    "plt.figure(figsize=(6, 4))\n",
    "plt.hist(df[\"Hours_Worked_Per_Week\"], bins=12, color=\"lightblue\", edgecolor=\"blue\")\n",
    "plt.title(\"Hours Worked per Week\")\n",
    "plt.xlabel(\"Hours Worked\")\n",
    "plt.ylabel(\"Number of Employees\")\n",
    "plt.show()\n",
    "\n",
    "# The histogram is mostly symmetric, so there's no indication that most employees work a specific number of hours per week."
   ]
  },
  {
   "cell_type": "markdown",
   "metadata": {
    "id": "atghBU1UEFja"
   },
   "source": [
    "## 10. Scatter Plot of Work Hours vs. Years_of_Experience (4 marks)\n",
    "- Instructions: Create a scatter plot with `Hours_Worked_Per_Week` on the x-axis and `Years_of_Experience` on the y-axis."
   ]
  },
  {
   "cell_type": "code",
   "execution_count": 16,
   "metadata": {
    "id": "0vYnYIhP_0ZV"
   },
   "outputs": [
    {
     "data": {
      "image/png": "[encoded data removed]",
      "text/plain": [
       "<Figure size 1000x1000 with 1 Axes>"
      ]
     },
     "metadata": {},
     "output_type": "display_data"
    }
   ],
   "source": [
    "# Write code here\n",
    "plt.figure(figsize=(10, 10))\n",
    "plt.scatter(df[\"Hours_Worked_Per_Week\"], df[\"Years_of_Experience\"], color=\"red\")\n",
    "plt.title(\"Years of Experience vs Hours Worked per Week\")\n",
    "plt.xlabel(\"Hours Worked per Week\")\n",
    "plt.ylabel(\"Years of Experience\")\n",
    "plt.show()"
   ]
  },
  {
   "cell_type": "markdown",
   "metadata": {
    "id": "SRu7LPAYEOjw"
   },
   "source": [
    "## 11. Bar Chart of Average Work Life Balance by Job Role (5 marks)\n",
    "- Instructions: Create a bar chart showing the average `Work_Life_Balance_Rating` for each `Job_Role` (4 marks).\n",
    "- Question: Which job roles have the highest and lowest average mental Work Life Balance? (1 mark)"
   ]
  },
  {
   "cell_type": "code",
   "execution_count": 27,
   "metadata": {
    "id": "hshPHrEJ_0TL"
   },
   "outputs": [
    {
     "data": {
      "image/png": "[encoded data removed]",
      "text/plain": [
       "<Figure size 1200x400 with 1 Axes>"
      ]
     },
     "metadata": {},
     "output_type": "display_data"
    }
   ],
   "source": [
    "# Write code here\n",
    "wlb_rating_by_role = df.groupby(\"Job_Role\").mean(numeric_only=True)[\"Work_Life_Balance_Rating\"].sort_values(ascending=False)\n",
    "roles = wlb_rating_by_role.index\n",
    "ratings = wlb_rating_by_role.values\n",
    "\n",
    "plt.figure(figsize=(12, 4))\n",
    "plt.bar(roles, ratings, color=\"lightblue\", edgecolor=\"blue\")\n",
    "plt.title(\"Bar Chart of Iris Species Count\")\n",
    "plt.xlabel(\"Job Roles\")\n",
    "plt.ylabel(\"Work Life Balance Rating\")\n",
    "plt.show()\n",
    "\n",
    "# job with highest work-life balance rating: Sales\n",
    "# job with lowest work-life balance rating: HR"
   ]
  },
  {
   "cell_type": "markdown",
   "metadata": {
    "id": "ZT4ReqO1EWyJ"
   },
   "source": [
    "## 12. Pie Chart of Workload Level Distribution (5 marks)\n",
    "- Instructions: Use a pie chart to show the proportion of `Access_to_Mental_Health_Resources` (Yes and no) in the dataset (4 marks).\n",
    "- Question: What percentage of employees have access to mental health resources? (1 mark)"
   ]
  },
  {
   "cell_type": "code",
   "execution_count": 26,
   "metadata": {
    "id": "loB1n-fe_0Lj"
   },
   "outputs": [
    {
     "data": {
      "image/png": "[encoded data removed]",
      "text/plain": [
       "<Figure size 600x600 with 1 Axes>"
      ]
     },
     "metadata": {},
     "output_type": "display_data"
    }
   ],
   "source": [
    "# Write code here\n",
    "mental_health_access = df.groupby(\"Access_to_Mental_Health_Resources\")[\"Access_to_Mental_Health_Resources\"].count()\n",
    "\n",
    "plt.figure(figsize=(6, 6))\n",
    "plt.title(\"Access to Mental Health Resources\")\n",
    "plt.xlabel(\"Percentage of Employees who answered Yes/No\")\n",
    "plt.pie(mental_health_access.values, labels=mental_health_access.index, autopct=\"%.1f\", colors=(\"lightcoral\", \"darkseagreen\"))\n",
    "plt.show()\n",
    "\n",
    "# About 48.9% of employees have access to mental health resources."
   ]
  },
  {
   "cell_type": "markdown",
   "metadata": {
    "id": "huTl0I35Eeta"
   },
   "source": [
    "## 13. Scatter Plot of Age vs. Social Isolation Rating (6 marks)\n",
    "- Instructions: Create a scatter plot with `age` on the x-axis and `Social_Isolation_Rating` on the y-axis (4 marks).\n",
    "- Question: Do you observe any trends or relationships between age and social isolation? Is there a noticeable impact of age on isoloation? (2 marks)"
   ]
  },
  {
   "cell_type": "code",
   "execution_count": 19,
   "metadata": {
    "id": "_XG_OCnC_0Do"
   },
   "outputs": [
    {
     "data": {
      "image/png": "[encoded data removed]",
      "text/plain": [
       "<Figure size 1000x1000 with 1 Axes>"
      ]
     },
     "metadata": {},
     "output_type": "display_data"
    }
   ],
   "source": [
    "# Write code here\n",
    "plt.figure(figsize=(10, 10))\n",
    "plt.scatter(df[\"Age\"], df[\"Social_Isolation_Rating\"], color=\"red\")\n",
    "plt.title(\"Social Isolation vs Age\")\n",
    "plt.xlabel(\"Age\")\n",
    "plt.ylabel(\"Social Isolation Rating\")\n",
    "plt.show()\n",
    "\n",
    "# There's no relationship between age and social isolation. People of any age can have any level of social isolation. Age does not seem to impact social isolation."
   ]
  },
  {
   "cell_type": "markdown",
   "metadata": {
    "id": "gegyzqphE2_G"
   },
   "source": [
    "# Section 3 - Long Answer/Advanced (20%)\n",
    "\n"
   ]
  },
  {
   "cell_type": "markdown",
   "metadata": {
    "id": "pK8L8R23FALn"
   },
   "source": [
    "## Job Role and Workload Level Impact on Mental Health\n",
    "\n",
    "Instructions: Investigate the influence of job roles and workload level on the mental health.\n",
    "- Create a new column `workload_level` that labels each entry as \"High\" if the `Hours_Worked_Per_Week` is above its mean, otherwise \"Low.\" (5 marks)\n",
    "- Group the dataset by `Industry` and calculate the average `Hours_Worked_Per_Week` for each combination. (5 marks)\n",
    "- Use a bar chart to display the average `Stress_Level` for each job role, with separate bars for high and low stress levels. (5 marks)\n",
    "- Analyze the results: Which job roles and workload levels appear to have the greatest impact on mental health? (5 marks)\n"
   ]
  },
  {
   "cell_type": "code",
   "execution_count": 75,
   "metadata": {
    "id": "UeHUHXrK_z5d"
   },
   "outputs": [
    {
     "data": {
      "image/png": "[encoded data removed]",
      "text/plain": [
       "<Figure size 1000x400 with 1 Axes>"
      ]
     },
     "metadata": {},
     "output_type": "display_data"
    }
   ],
   "source": [
    "# Write code here\n",
    "df[\"workload_level\"] = np.where(df[\"Hours_Worked_Per_Week\"] > df[\"Hours_Worked_Per_Week\"].mean(), \"High\", \"Low\")\n",
    "\n",
    "industry_work_hours = df.groupby(\"Industry\")[\"Hours_Worked_Per_Week\"].mean().sort_values()\n",
    "\n",
    "stress_mapping = {\"Low\": 1, \"Medium\": 2, \"High\": 3}\n",
    "job_role_stress_avg = df.groupby([\"Job_Role\", \"workload_level\"])[\"Stress_Level\"].apply(lambda x: x.map(stress_mapping).mean()).unstack().sort_values(by=\"High\")\n",
    "job_role_stress_avg.plot(kind=\"bar\", figsize=(10, 4), color=[\"lightcoral\", \"darkseagreen\"])\n",
    "plt.ylim(1.8, job_role_stress_avg.values.max() + 0.05)\n",
    "plt.title(\"Average Stress Level by Job Role and Workload Level\")\n",
    "plt.xlabel(\"Job Role\")\n",
    "plt.ylabel(\"Average Stress Level\")\n",
    "plt.xticks(rotation=0)\n",
    "plt.legend(title=\"Workload Level\")\n",
    "plt.tight_layout()\n",
    "plt.show()"
   ]
  },
  {
   "cell_type": "markdown",
   "metadata": {},
   "source": [
    "### Analysis\n",
    "\n",
    "From the graph we can see:\n",
    "- Data Scientists with High Workload Levels have the highest Stress Levels on average\n",
    "- Marketing employees with Low Workload Levels have the lowest Stress Levels on average\n",
    "\n",
    "That being said...\n",
    "- Data Scientists with Low Workload Levels have one of the lowest Stress Levels on average\n",
    "- Marketing employees with High Workload Levels have one of the highest Stress Levels on average\n",
    "\n",
    "So if you're a Data Analyst or Marketer, make sure your Workload Levels are Low, otherwise you might suffer from high Stress Levels. For other Job Roles, the impact of Workload Levels on average Stress Level isn't as drastic; for Sales, Workload Level seems to have no impact (or negligible) on the average Stress Level.\n",
    "\n",
    "---\n",
    "\n",
    "#### Extras\n",
    "\n",
    "Interesting to note:\n",
    "- Designers and Software Engineers seem to have an inverted relation between Workload Levels and Stress\n",
    "- for Low Workload Levels, the average Stress Levels are higher, and the opposite is true for High Workload Levels\n",
    "- this is more apparent for Designers\n",
    "\n",
    "Next Steps:\n",
    "- would be interesting to compare the average salary for each Role + Workload Level combination\n",
    "- then we could make more inferences on how \"worthwhile\" pursuing a career in each role may be\n",
    "- if it's high stress and high workload but the pay isn't great, maybe it's time for a career change..."
   ]
  }
 ],
 "metadata": {
  "colab": {
   "authorship_tag": "ABX9TyPxgQWbcz0VylzXsR1503Zj",
   "collapsed_sections": [
    "jXkjbG86QL5G",
    "3ZF33AOoRP9Z",
    "M8GDnps-RR9q",
    "knNIuhCoSFNx",
    "osg640SM-ySa",
    "FpJ9_gGH_g9Z",
    "kydBDNX0AWbd",
    "z9mN8HDMCreb",
    "GnePX9mfC-6I",
    "uWZZN2JGDPoQ",
    "u6rhIsN6DzXO",
    "atghBU1UEFja",
    "SRu7LPAYEOjw",
    "ZT4ReqO1EWyJ"
   ],
   "include_colab_link": true,
   "provenance": []
  },
  "kernelspec": {
   "display_name": ".venv",
   "language": "python",
   "name": "python3"
  },
  "language_info": {
   "codemirror_mode": {
    "name": "ipython",
    "version": 3
   },
   "file_extension": ".py",
   "mimetype": "text/x-python",
   "name": "python",
   "nbconvert_exporter": "python",
   "pygments_lexer": "ipython3",
   "version": "3.13.0"
  }
 },
 "nbformat": 4,
 "nbformat_minor": 0
}
