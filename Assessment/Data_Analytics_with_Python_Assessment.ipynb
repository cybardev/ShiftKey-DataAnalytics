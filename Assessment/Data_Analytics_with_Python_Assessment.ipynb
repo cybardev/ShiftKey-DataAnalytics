{
 "cells": [
  {
   "cell_type": "markdown",
   "metadata": {
    "colab_type": "text",
    "id": "view-in-github"
   },
   "source": [
    "<a href=\"https://colab.research.google.com/github/shiftkey-labs/PythonDA-course/blob/main/Assessment/Data_Analytics_with_Python_Assessment.ipynb\" target=\"_parent\"><img src=\"https://colab.research.google.com/assets/colab-badge.svg\" alt=\"Open In Colab\"/></a>"
   ]
  },
  {
   "cell_type": "markdown",
   "metadata": {
    "id": "ZofcnJAIJHaX"
   },
   "source": [
    "# Introduction\n",
    "\n",
    "This assessment aims to evaluate your understanding and application of the concepts covered in the Data Analytics course. You will be tasked with analyzing a dataset related to remote work and mental health, utilizing various data manipulation, statistical analysis, and visualization techniques learned throughout the course. This exercise will help reinforce your skills in data handling, exploratory analysis, and drawing meaningful insights from data.\n",
    "\n",
    "### Submission Details:\n",
    "\n",
    "The deadline for submission is 16 November at 11:59 PM. Specific submission details will be shared with you shortly.\n",
    "\n",
    "### Passing Criteria:\n",
    "\n",
    "To successfully pass this assessment, you must achieve a score of 80% or higher.\n",
    "We encourage you to engage with the material and demonstrate your analytical skills. Good luck!\n",
    "\n",
    "\n",
    "---\n",
    "\n"
   ]
  },
  {
   "cell_type": "markdown",
   "metadata": {
    "id": "t6EemGQaDLyU"
   },
   "source": [
    "# Section 1 - Beginner (25%)\n"
   ]
  },
  {
   "cell_type": "markdown",
   "metadata": {
    "id": "IEQXM5QADPRl"
   },
   "source": [
    "## Shopping Cart System with Discounts\n",
    "\n",
    "Write a Python program to simulate a shopping cart system for an online store. The program will calculate the total cost of items, apply discounts, and check if the total exceeds a specified budget."
   ]
  },
  {
   "cell_type": "markdown",
   "metadata": {
    "id": "dKkPEPpCDyda"
   },
   "source": [
    "1.\tVariables and Lists:\n",
    "  - Define a `budget` variable with an initial value of 200.\n",
    "  \n",
    "  - Create two empty lists called `item_names_list` and `item_prices_list` to store the name and price of each item separately."
   ]
  },
  {
   "cell_type": "code",
   "execution_count": null,
   "metadata": {
    "id": "4lXTHMaCC8VO"
   },
   "outputs": [],
   "source": [
    "# Write your code here\n",
    "budget = 200\n",
    "item_names_list = []\n",
    "item_prices_list = []"
   ]
  },
  {
   "cell_type": "markdown",
   "metadata": {
    "id": "wRAwexQhD0cq"
   },
   "source": [
    "2. Functions:\n",
    "  - Write a function `add_item_to_cart(item_name, item_price)` that takes the item’s name and price as arguments, appends the name to item_names and the price to item_prices, and returns both updated lists.\n",
    "  \n",
    "  - Write a function `calculate_total(item_prices)` that calculates and returns the total cost of all items in item_prices.\n",
    "\n",
    "    Conditions:\n",
    "    - If the total cost exceeds the budget after adding an item, print \"Budget exceeded!\" and stop adding more items.\n",
    "    - If the total cost is within budget and exceeds $100, apply a 10% discount on the total and print the discounted total."
   ]
  },
  {
   "cell_type": "code",
   "execution_count": null,
   "metadata": {
    "id": "g_UiAVHSD3UK"
   },
   "outputs": [],
   "source": [
    "# Write your code here\n",
    "def add_item_to_cart(item_name, item_price):\n",
    "    item_names_list.append(item_name)\n",
    "    item_prices_list.append(item_price)\n",
    "    return item_names_list, item_prices_list\n",
    "\n",
    "\n",
    "def calculate_total(item_prices):\n",
    "    discount_threshold = 100\n",
    "    discount_factor = 0.9\n",
    "    discount_flag = False\n",
    "    running_sum = 0.0\n",
    "    for price in item_prices:\n",
    "        cached_sum = running_sum + price\n",
    "        if cached_sum > budget:\n",
    "            print(\"Budget exceeded!\")\n",
    "            break\n",
    "        elif not discount_flag and cached_sum > discount_threshold:\n",
    "            discount_flag = True\n",
    "\n",
    "        running_sum = cached_sum\n",
    "    return running_sum * discount_factor if discount_flag else running_sum"
   ]
  },
  {
   "cell_type": "markdown",
   "metadata": {
    "id": "B22U5SdVEKeH"
   },
   "source": [
    "3.\tLoop and Input:\n",
    "  - Start the input only once the user says 'start'\n",
    "  - Use a loop to allow the user to add items to the cart by entering an item name and price. The loop should stop when the user types 'done'.\n",
    "  - For each item, add it to item_names and item_prices using add_item_to_cart, then update the total cost using calculate_total.\n",
    "\n",
    "Output:\n",
    "  - After the loop ends, display the final cart with each item and its price, the initial total, any applicable discount, and the final total.\n"
   ]
  },
  {
   "cell_type": "code",
   "execution_count": null,
   "metadata": {
    "id": "CJtjsE8YD6Mv"
   },
   "outputs": [],
   "source": [
    "# Write your code here\n",
    "while input(\"Enter 'start' to start shopping: \") != \"start\":\n",
    "    continue\n",
    "\n",
    "initial_total = calculate_total(item_prices_list)\n",
    "\n",
    "running_total = 0\n",
    "while True:\n",
    "    item = input(\"Enter item name: \")\n",
    "    if item == \"done\":\n",
    "        break\n",
    "    price = input(\"Enter item price: \")\n",
    "    if price == \"done\":\n",
    "        break\n",
    "    add_item_to_cart(item, float(price))\n",
    "    running_total = calculate_total(item_prices_list)"
   ]
  },
  {
   "cell_type": "code",
   "execution_count": null,
   "metadata": {
    "id": "M9IlBMeDEOxd"
   },
   "outputs": [],
   "source": [
    "# Write your code here\n",
    "print(\"item : price\")\n",
    "print(\"-\" * 20)\n",
    "for i, p in zip(item_names_list, item_prices_list):\n",
    "    print(f\"{i} : {p:0.2f}\")\n",
    "print(\"-\" * 20)\n",
    "print(f\"initial total ($): {initial_total:0.2f}\")\n",
    "print(f\"final total ($): {running_total:0.2f}\")"
   ]
  },
  {
   "cell_type": "markdown",
   "metadata": {
    "id": "jXkjbG86QL5G"
   },
   "source": [
    "# Section 2 - Intermidiate (55%) - Remote Work and Mental Health Analysis\n",
    "\n",
    "Dataset source: Kaggle (https://www.kaggle.com/datasets/waqi786/remote-work-and-mental-health)\n",
    "\n",
    "\n"
   ]
  },
  {
   "cell_type": "markdown",
   "metadata": {
    "id": "3ZF33AOoRP9Z"
   },
   "source": [
    "## Objective:\n",
    "- In the following sections, you will explore the \"Remote Work and Mental Health\" dataset using Python and different data science libraries such as Pandas, NumPy and Matplotlib.\n",
    "- Follow the instructions below to complete each task. Please provide code for each question and any observations as comments when necessary."
   ]
  },
  {
   "cell_type": "code",
   "execution_count": null,
   "metadata": {
    "id": "zX8_bEfKSGcB"
   },
   "outputs": [],
   "source": [
    "# Import necessary modules and libraries"
   ]
  },
  {
   "cell_type": "markdown",
   "metadata": {
    "id": "M8GDnps-RR9q"
   },
   "source": [
    "## 1. Load Dataset (2 marks)\n",
    "- Instructions: Load the dataset using Pandas and display few rows.\n",
    "- Question: Describe the overall structure (rows, columns, data types) as a comment at the end of your code.\n"
   ]
  },
  {
   "cell_type": "code",
   "execution_count": null,
   "metadata": {
    "id": "iN_Ne4xKSE_g"
   },
   "outputs": [],
   "source": [
    "# Write code here"
   ]
  },
  {
   "cell_type": "markdown",
   "metadata": {
    "id": "knNIuhCoSFNx"
   },
   "source": [
    "## 2. Display 'n' Rows (3 marks)\n",
    "- Instructions: Display the first 13 rows of the dataset."
   ]
  },
  {
   "cell_type": "code",
   "execution_count": null,
   "metadata": {
    "id": "aojeUCP3-DlN"
   },
   "outputs": [],
   "source": [
    "# Write code here"
   ]
  },
  {
   "cell_type": "markdown",
   "metadata": {
    "id": "iNJ7GvJt-EJk"
   },
   "source": [
    "- Instructions: Display the last 7 rows of the dataset"
   ]
  },
  {
   "cell_type": "code",
   "execution_count": null,
   "metadata": {
    "id": "bvxs1GHK-Iv4"
   },
   "outputs": [],
   "source": [
    "# Write code here"
   ]
  },
  {
   "cell_type": "markdown",
   "metadata": {
    "id": "osg640SM-ySa"
   },
   "source": [
    "## 3. Find the Number of Null Values in the Dataset (2 mark)"
   ]
  },
  {
   "cell_type": "code",
   "execution_count": null,
   "metadata": {
    "id": "VL7WVh2x_e2u"
   },
   "outputs": [],
   "source": [
    "# Write code here"
   ]
  },
  {
   "cell_type": "markdown",
   "metadata": {
    "id": "FpJ9_gGH_g9Z"
   },
   "source": [
    "## 4. Statistical Summary for Numeric Columns (10 marks)\n",
    "Instructions: Use individual commands to find the statistical summary."
   ]
  },
  {
   "cell_type": "markdown",
   "metadata": {
    "id": "8R-SXWwY_msH"
   },
   "source": [
    "- Count"
   ]
  },
  {
   "cell_type": "code",
   "execution_count": null,
   "metadata": {
    "id": "rdhV-VNf_gcm"
   },
   "outputs": [],
   "source": [
    "# Write code here\n"
   ]
  },
  {
   "cell_type": "markdown",
   "metadata": {
    "id": "3sHkuqIM_wLh"
   },
   "source": [
    "- Mean"
   ]
  },
  {
   "cell_type": "code",
   "execution_count": null,
   "metadata": {
    "id": "MyCg6EO4_v1V"
   },
   "outputs": [],
   "source": [
    "# Write code here\n"
   ]
  },
  {
   "cell_type": "markdown",
   "metadata": {
    "id": "S3KSqJm2_vob"
   },
   "source": [
    "- Standard Deviation"
   ]
  },
  {
   "cell_type": "code",
   "execution_count": null,
   "metadata": {
    "id": "sKUiXGdy_y_7"
   },
   "outputs": [],
   "source": [
    "# Write code here\n"
   ]
  },
  {
   "cell_type": "markdown",
   "metadata": {
    "id": "NvmOKMtoABPG"
   },
   "source": [
    "- Quartiles"
   ]
  },
  {
   "cell_type": "code",
   "execution_count": null,
   "metadata": {
    "id": "TVThkvwx_0zt"
   },
   "outputs": [],
   "source": [
    "# Write code here\n"
   ]
  },
  {
   "cell_type": "markdown",
   "metadata": {
    "id": "kydBDNX0AWbd"
   },
   "source": [
    "## 5. Calculate Extrema (2 marks)"
   ]
  },
  {
   "cell_type": "code",
   "execution_count": null,
   "metadata": {
    "id": "u6cVQN3l_0ut"
   },
   "outputs": [],
   "source": [
    "# Write code here\n"
   ]
  },
  {
   "cell_type": "markdown",
   "metadata": {
    "id": "z9mN8HDMCreb"
   },
   "source": [
    "## 6. Find Unique Values in a Categorical Column (3 marks)\n",
    "\n",
    "- Instructions: Identify the unique values in the `job_role` column (2 marks)\n",
    "- Question: How many unique roles are represented in the dataset? (1 mark)"
   ]
  },
  {
   "cell_type": "code",
   "execution_count": null,
   "metadata": {
    "id": "WO3P27X-_0pl"
   },
   "outputs": [],
   "source": [
    "# Write code here"
   ]
  },
  {
   "cell_type": "markdown",
   "metadata": {
    "id": "GnePX9mfC-6I"
   },
   "source": [
    "## 7. Group Data and Calculate Mean (4 marks)\n",
    "- Instructions: Group the dataset by `job_role` and calculate the mean of the `Work_Life_Balance_Rating` for each role.\n",
    "- Question: Which job role has the highest average Work life balance?"
   ]
  },
  {
   "cell_type": "code",
   "execution_count": null,
   "metadata": {
    "id": "FDp0ZL9R_0j1"
   },
   "outputs": [],
   "source": [
    "# Write code here\n",
    "\n"
   ]
  },
  {
   "cell_type": "markdown",
   "metadata": {
    "id": "uWZZN2JGDPoQ"
   },
   "source": [
    "## 8. Filter Data Based on Condition (4 marks)\n",
    "- Instructions: Filter the dataset to show only rows where `work_hours_per_week` is greater than 40.\n",
    "- Question: How many employees are working overtime?"
   ]
  },
  {
   "cell_type": "code",
   "execution_count": null,
   "metadata": {
    "id": "hq77PsstDPWJ"
   },
   "outputs": [],
   "source": [
    "# Write code here\n"
   ]
  },
  {
   "cell_type": "markdown",
   "metadata": {
    "id": "u6rhIsN6DzXO"
   },
   "source": [
    "## 9 . Histogram of Work Hours per Week (5 marks)\n",
    "- Instructions: Create a histogram of `Hours_Worked_Per_Week` (4 marks).\n",
    "- Question: Describe the distribution of work hours. Are most employees working around a certain number of hours per week? (1 mark)"
   ]
  },
  {
   "cell_type": "code",
   "execution_count": null,
   "metadata": {
    "id": "oxPN35Ui_0em"
   },
   "outputs": [],
   "source": [
    "# Write code here\n"
   ]
  },
  {
   "cell_type": "markdown",
   "metadata": {
    "id": "atghBU1UEFja"
   },
   "source": [
    "## 10. Scatter Plot of Work Hours vs. Years_of_Experience (4 marks)\n",
    "- Instructions: Create a scatter plot with `Hours_Worked_Per_Week` on the x-axis and `Years_of_Experience` on the y-axis."
   ]
  },
  {
   "cell_type": "code",
   "execution_count": null,
   "metadata": {
    "id": "0vYnYIhP_0ZV"
   },
   "outputs": [],
   "source": [
    "# Write code here\n",
    "\n"
   ]
  },
  {
   "cell_type": "markdown",
   "metadata": {
    "id": "SRu7LPAYEOjw"
   },
   "source": [
    "## 11. Bar Chart of Average Work Life Balance by Job Role (5 marks)\n",
    "- Instructions: Create a bar chart showing the average `Work_Life_Balance_Rating` for each `Job_Role` (4 marks).\n",
    "- Question: Which job roles have the highest and lowest average mental Work Life Balance? (1 mark)"
   ]
  },
  {
   "cell_type": "code",
   "execution_count": null,
   "metadata": {
    "id": "hshPHrEJ_0TL"
   },
   "outputs": [],
   "source": [
    "# Write code here\n"
   ]
  },
  {
   "cell_type": "markdown",
   "metadata": {
    "id": "ZT4ReqO1EWyJ"
   },
   "source": [
    "## 12. Pie Chart of Workload Level Distribution (5 marks)\n",
    "- Instructions: Use a pie chart to show the proportion of `Access_to_Mental_Health_Resources` (Yes and no) in the dataset (4 marks).\n",
    "- Question: What percentage of employees have access to mental health resources? (1 mark)"
   ]
  },
  {
   "cell_type": "code",
   "execution_count": null,
   "metadata": {
    "id": "loB1n-fe_0Lj"
   },
   "outputs": [],
   "source": [
    "# Write code here\n",
    "\n"
   ]
  },
  {
   "cell_type": "markdown",
   "metadata": {
    "id": "huTl0I35Eeta"
   },
   "source": [
    "## 13. Scatter Plot of Age vs. Social Isolation Rating (6 marks)\n",
    "- Instructions: Create a scatter plot with `age` on the x-axis and `Social_Isolation_Rating` on the y-axis (4 marks).\n",
    "- Question: Do you observe any trends or relationships between age and social isolation? Is there a noticeable impact of age on isoloation? (2 marks)"
   ]
  },
  {
   "cell_type": "code",
   "execution_count": null,
   "metadata": {
    "id": "_XG_OCnC_0Do"
   },
   "outputs": [],
   "source": [
    "# Write code here\n"
   ]
  },
  {
   "cell_type": "markdown",
   "metadata": {
    "id": "gegyzqphE2_G"
   },
   "source": [
    "# Section 3 - Long Answer/Advanced (20%)\n",
    "\n"
   ]
  },
  {
   "cell_type": "markdown",
   "metadata": {
    "id": "pK8L8R23FALn"
   },
   "source": [
    "## Job Role and Workload Level Impact on Mental Health\n",
    "\n",
    "Instructions: Investigate the influence of job roles and workload level on the mental health.\n",
    "- Create a new column `workload_level` that labels each entry as \"High\" if the `Hours_Worked_Per_Week` is above its mean, otherwise \"Low.\" (5 marks)\n",
    "- Group the dataset by `Industry` and calculate the average `Hours_Worked_Per_Week` for each combination. (5 marks)\n",
    "- Use a bar chart to display the average `Stress_Level` for each job role, with separate bars for high and low stress levels. (5 marks)\n",
    "- Analyze the results: Which job roles and workload levels appear to have the greatest impact on mental health? (5 marks)\n"
   ]
  },
  {
   "cell_type": "code",
   "execution_count": null,
   "metadata": {
    "id": "UeHUHXrK_z5d"
   },
   "outputs": [],
   "source": [
    "# Write code here"
   ]
  }
 ],
 "metadata": {
  "colab": {
   "authorship_tag": "ABX9TyPxgQWbcz0VylzXsR1503Zj",
   "collapsed_sections": [
    "jXkjbG86QL5G",
    "3ZF33AOoRP9Z",
    "M8GDnps-RR9q",
    "knNIuhCoSFNx",
    "osg640SM-ySa",
    "FpJ9_gGH_g9Z",
    "kydBDNX0AWbd",
    "z9mN8HDMCreb",
    "GnePX9mfC-6I",
    "uWZZN2JGDPoQ",
    "u6rhIsN6DzXO",
    "atghBU1UEFja",
    "SRu7LPAYEOjw",
    "ZT4ReqO1EWyJ"
   ],
   "include_colab_link": true,
   "provenance": []
  },
  "kernelspec": {
   "display_name": "Python 3",
   "name": "python3"
  },
  "language_info": {
   "name": "python"
  }
 },
 "nbformat": 4,
 "nbformat_minor": 0
}
