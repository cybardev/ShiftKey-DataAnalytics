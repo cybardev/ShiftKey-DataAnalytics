{
 "cells": [
  {
   "cell_type": "markdown",
   "metadata": {
    "colab_type": "text",
    "id": "view-in-github"
   },
   "source": [
    "<a href=\"https://colab.research.google.com/github/shiftkey-labs/PythonDA-course/blob/main/Week%203%20%26%204/Week_3_%26_4_Pandas%2C_NumPy%2C_Matplotlib_(updated_06_Nov).ipynb\" target=\"_parent\"><img src=\"https://colab.research.google.com/assets/colab-badge.svg\" alt=\"Open In Colab\"/></a>"
   ]
  },
  {
   "cell_type": "markdown",
   "id": "TKqMg7FJVD7J",
   "metadata": {
    "id": "TKqMg7FJVD7J"
   },
   "source": [
    "#**ShiftKey Labs Academy UP - Foundations of Data Analytics with Python**\n",
    "\n",
    "Certification by ShiftKey Labs. Content created by Sahil Chawla.\n",
    "\n",
    "---\n",
    "\n",
    "Throughout the course, we'll use Google Colab to write Python code, explore essential programming concepts, and dive into data manipulation, analysis, and visualization using popular libraries like Pandas, NumPy, and Matplotlib. Each session will build upon the previous, and the notebook will be updated with answers and solutions as we progress through the course."
   ]
  },
  {
   "cell_type": "markdown",
   "id": "446dfc11",
   "metadata": {
    "id": "446dfc11"
   },
   "source": [
    "# Week 3 - Introduction to Pandas\n",
    "\n",
    "Pandas is a powerful data analysis and manipulation library built on top of Python.\n",
    "\n",
    "It provides essential data structures like **Series** and **DataFrame** to work with tabular data efficiently."
   ]
  },
  {
   "cell_type": "markdown",
   "id": "bdf12c71",
   "metadata": {
    "id": "bdf12c71"
   },
   "source": [
    "## Section 1: Introduction to Pandas\n"
   ]
  },
  {
   "cell_type": "markdown",
   "id": "HZiTW2TCbLK4",
   "metadata": {
    "id": "HZiTW2TCbLK4"
   },
   "source": [
    "### 1.1 Importing libraries\n",
    "\n"
   ]
  },
  {
   "cell_type": "code",
   "execution_count": 48,
   "id": "EvpKOf959Sw1",
   "metadata": {
    "id": "EvpKOf959Sw1"
   },
   "outputs": [],
   "source": [
    "# Importing the Pandas Library\n",
    "import pandas as pd"
   ]
  },
  {
   "cell_type": "markdown",
   "id": "UgPT1HZLbLDx",
   "metadata": {
    "id": "UgPT1HZLbLDx"
   },
   "source": [
    "### 1.2 Series\n",
    "A **Series** is a one-dimensional labeled array capable of holding any data type.\n",
    "\n",
    "Think of it like a column in a spreadsheet.\n",
    "\n",
    "- Creating a series\n",
    "  \n",
    "    Syntax: `series_name = pd.series(list_name)`\n",
    "- Accessing elements\n",
    "\n",
    "    Syntax: `series_name[index]`\n",
    "\n",
    "\n",
    "\n"
   ]
  },
  {
   "cell_type": "code",
   "execution_count": 49,
   "id": "yK5gJN97-2IX",
   "metadata": {
    "colab": {
     "base_uri": "https://localhost:8080/"
    },
    "id": "yK5gJN97-2IX",
    "outputId": "0d5b8440-1182-430f-c337-0c0162d1bbe9"
   },
   "outputs": [
    {
     "name": "stdout",
     "output_type": "stream",
     "text": [
      "0    10\n",
      "1    20\n",
      "2    30\n",
      "3    40\n",
      "dtype: int64\n"
     ]
    }
   ],
   "source": [
    "# Creating a Series from a list\n",
    "num_list = [10, 20, 30, 40]\n",
    "numbers = pd.Series(num_list)\n",
    "print(numbers)"
   ]
  },
  {
   "cell_type": "code",
   "execution_count": 50,
   "id": "xE6kcfkO_RoF",
   "metadata": {
    "colab": {
     "base_uri": "https://localhost:8080/"
    },
    "id": "xE6kcfkO_RoF",
    "outputId": "d6006e7a-3fa5-4ac2-bd59-24674679253f"
   },
   "outputs": [
    {
     "name": "stdout",
     "output_type": "stream",
     "text": [
      "10\n",
      "0    10\n",
      "1    20\n",
      "2    30\n",
      "3    40\n",
      "dtype: int64\n"
     ]
    }
   ],
   "source": [
    "print(numbers[0])\n",
    "print(numbers[0:4])"
   ]
  },
  {
   "cell_type": "markdown",
   "id": "FgoHTQxybK9A",
   "metadata": {
    "id": "FgoHTQxybK9A"
   },
   "source": [
    "### 1.3 DataFrame\n",
    "A DataFrame is a two-dimensional labeled data structure with columns of potentially different data types. It is like a table in a database or an Excel spreadsheet.\n",
    "\n",
    "- Creating a DataFrame:\n",
    "  \n",
    "    Syntax: `df = pd.DataFrame(dict_name)`\n",
    "- Accessing Columns:\n",
    "  \n",
    "    Syntax: `df[\"Column_Name\"]`\n",
    "- Accessing rows:\n",
    "  - `loc` gets rows (and/or columns) with particular labels.\n",
    "\n",
    "    Syntax: `df.loc[0] # value at index label 0`\n",
    "\n",
    "  - `iloc` gets rows (and/or columns) at integer locations.\n",
    "\n",
    "    Syntax: `df.iloc[0]   # value at index location 0`\n",
    "\n",
    "\n"
   ]
  },
  {
   "cell_type": "code",
   "execution_count": 51,
   "id": "R3_agB79RQ1o",
   "metadata": {
    "id": "R3_agB79RQ1o"
   },
   "outputs": [],
   "source": [
    "data = {\n",
    "    \"Name\": [\"Alice\", \"Bob\", \"Charlie\"],\n",
    "    \"Age\": [24, 27, 22],\n",
    "    \"City\": [\"New York\", \"San Francisco\", \"Boston\"]\n",
    "}"
   ]
  },
  {
   "cell_type": "code",
   "execution_count": 52,
   "id": "1NJsP8GYRqD9",
   "metadata": {
    "id": "1NJsP8GYRqD9"
   },
   "outputs": [
    {
     "name": "stdout",
     "output_type": "stream",
     "text": [
      "\n",
      " People dataframe:\n",
      "\n",
      "       Name  Age           City\n",
      "3    Alice   24       New York\n",
      "1      Bob   27  San Francisco\n",
      "2  Charlie   22         Boston\n"
     ]
    }
   ],
   "source": [
    "# Creating a DataFrame from a Dictionary\n",
    "df = pd.DataFrame(data, index = [3,1,2])\n",
    "print(\"\\n People dataframe:\\n\\n\", df)"
   ]
  },
  {
   "cell_type": "code",
   "execution_count": 53,
   "id": "HiIX_ye-RucT",
   "metadata": {
    "id": "HiIX_ye-RucT"
   },
   "outputs": [
    {
     "name": "stdout",
     "output_type": "stream",
     "text": [
      "\n",
      "Accessing 'Name' column:\n",
      "\n",
      " 3      Alice\n",
      "1        Bob\n",
      "2    Charlie\n",
      "Name: Name, dtype: object\n",
      "\n",
      "Accessing 'Age' column:\n",
      "\n",
      " 3    24\n",
      "1    27\n",
      "2    22\n",
      "Name: Age, dtype: int64\n"
     ]
    }
   ],
   "source": [
    "# Accessing Columns\n",
    "# Name column\n",
    "name = df[\"Name\"]\n",
    "print(\"\\nAccessing 'Name' column:\\n\\n\", name)\n",
    "\n",
    "# Age column\n",
    "print(\"\\nAccessing 'Age' column:\\n\\n\", df[\"Age\"])"
   ]
  },
  {
   "cell_type": "code",
   "execution_count": 54,
   "id": "nr5UXfwPWKrg",
   "metadata": {
    "id": "nr5UXfwPWKrg"
   },
   "outputs": [
    {
     "data": {
      "text/plain": [
       "3    24\n",
       "1    27\n",
       "2    22\n",
       "Name: Age, dtype: int64"
      ]
     },
     "execution_count": 54,
     "metadata": {},
     "output_type": "execute_result"
    }
   ],
   "source": [
    "df\n",
    "df[\"Age\"]"
   ]
  },
  {
   "cell_type": "code",
   "execution_count": 55,
   "id": "yVli1zKJSn0E",
   "metadata": {
    "id": "yVli1zKJSn0E"
   },
   "outputs": [
    {
     "name": "stdout",
     "output_type": "stream",
     "text": [
      "\n",
      "Accessing row using iloc:\n",
      " Name       Alice\n",
      "Age           24\n",
      "City    New York\n",
      "Name: 3, dtype: object\n",
      "\n",
      "Accessing row using loc:\n",
      " Name              Bob\n",
      "Age                27\n",
      "City    San Francisco\n",
      "Name: 1, dtype: object\n"
     ]
    }
   ],
   "source": [
    "# Accessing Rows using .iloc and .loc\n",
    "# iloc uses the integer index position\n",
    "print(\"\\nAccessing row using iloc:\\n\", df.iloc[0])\n",
    "\n",
    "# loc uses the assigned position\n",
    "print(\"\\nAccessing row using loc:\\n\", df.loc[1])"
   ]
  },
  {
   "cell_type": "markdown",
   "id": "FtLBjFqP88Nh",
   "metadata": {
    "id": "FtLBjFqP88Nh"
   },
   "source": [
    "## Section 2: DataFrame Operations\n",
    "\n",
    "To illustrate DataFrame operations and data manipulation with a real dataset, let's use a commonly available dataset like the **Iris dataset**. It is a well-known dataset containing measurements of different species of the Iris flower.\n",
    "\n",
    "The Iris dataset contains 150 rows and 5 columns:\n",
    "\n",
    "1. sepal.length: Sepal length in centimeters.\n",
    "2. sepal.width: Sepal width in centimeters.\n",
    "3. petal.length: Petal length in centimeters.\n",
    "4. petal.width: Petal width in centimeters.\n",
    "5. variety: Species of the flower (Setosa, Versicolor, or Virginica)."
   ]
  },
  {
   "cell_type": "markdown",
   "id": "7MJNdzUS9Ivs",
   "metadata": {
    "id": "7MJNdzUS9Ivs"
   },
   "source": [
    "### 2.1 Importing Data\n",
    "\n",
    "1. Using upload() function\n",
    "\n",
    "```\n",
    "from google.colab import files\n",
    "uploaded = files.upload()\n",
    "```\n",
    "\n",
    "2. Manually importing data\n",
    "- Click on directory icon\n",
    "- Click on the upload button\n",
    "- Select the file and click open\n"
   ]
  },
  {
   "cell_type": "code",
   "execution_count": 56,
   "id": "E-OSs9j-XOHP",
   "metadata": {
    "colab": {
     "base_uri": "https://localhost:8080/",
     "height": 73
    },
    "id": "E-OSs9j-XOHP",
    "outputId": "a3b500a1-8e79-4409-f4c1-4c007ff99e71"
   },
   "outputs": [],
   "source": [
    "# from google.colab import files\n",
    "# uploaded = files.upload()"
   ]
  },
  {
   "cell_type": "markdown",
   "id": "vogPCFQdWtom",
   "metadata": {
    "id": "vogPCFQdWtom"
   },
   "source": [
    "### 2.2 Reading Data\n",
    "\n",
    "Read a file from a given path or URL and loads it into a DataFrame. This function is the most common way to read data into a Pandas DataFrame.\n",
    "\n",
    "Reading a CSV File (Use a .CSV file path if available)\n",
    "\n",
    "Syntax:  `df = pd.read_csv(\"data.csv\")`\n",
    "\n",
    "Reading an Excel File (Use a .xls file path if available)\n",
    "\n",
    "Syntax:  `df = pd.read_excel(\"data.xls\")`"
   ]
  },
  {
   "cell_type": "code",
   "execution_count": 57,
   "id": "Brc97nB-XQON",
   "metadata": {
    "id": "Brc97nB-XQON"
   },
   "outputs": [],
   "source": [
    "df = pd.read_csv(\"iris_ds.csv\")"
   ]
  },
  {
   "cell_type": "markdown",
   "id": "4UInm0pZpbSU",
   "metadata": {
    "id": "4UInm0pZpbSU"
   },
   "source": [
    "### 2.3 Exploring and Analyzing Data\n",
    "\n",
    "1. Viewing the first few rows - ```head()``` function\n",
    "2. Viewing the last few rows - ```tail()``` function\n",
    "3. Retrive basic information (Column names, null values in each column and DataType of each column) - ```info()``` function\n",
    "4. Statistical Summary of Numerical Columns - ```describe()``` function"
   ]
  },
  {
   "cell_type": "code",
   "execution_count": 58,
   "id": "88Srx0edpaiM",
   "metadata": {
    "colab": {
     "base_uri": "https://localhost:8080/",
     "height": 241
    },
    "id": "88Srx0edpaiM",
    "outputId": "715f3802-8e81-40b3-af3e-451eeea4afe7"
   },
   "outputs": [
    {
     "name": "stdout",
     "output_type": "stream",
     "text": [
      "First few rows of Iris dataframe:\n",
      "\n"
     ]
    },
    {
     "data": {
      "text/html": [
       "<div>\n",
       "<style scoped>\n",
       "    .dataframe tbody tr th:only-of-type {\n",
       "        vertical-align: middle;\n",
       "    }\n",
       "\n",
       "    .dataframe tbody tr th {\n",
       "        vertical-align: top;\n",
       "    }\n",
       "\n",
       "    .dataframe thead th {\n",
       "        text-align: right;\n",
       "    }\n",
       "</style>\n",
       "<table border=\"1\" class=\"dataframe\">\n",
       "  <thead>\n",
       "    <tr style=\"text-align: right;\">\n",
       "      <th></th>\n",
       "      <th>sepal.length</th>\n",
       "      <th>sepal.width</th>\n",
       "      <th>petal.length</th>\n",
       "      <th>petal.width</th>\n",
       "      <th>variety</th>\n",
       "    </tr>\n",
       "  </thead>\n",
       "  <tbody>\n",
       "    <tr>\n",
       "      <th>0</th>\n",
       "      <td>5.1</td>\n",
       "      <td>3.5</td>\n",
       "      <td>1.4</td>\n",
       "      <td>0.2</td>\n",
       "      <td>Setosa</td>\n",
       "    </tr>\n",
       "    <tr>\n",
       "      <th>1</th>\n",
       "      <td>4.9</td>\n",
       "      <td>3.0</td>\n",
       "      <td>1.4</td>\n",
       "      <td>0.2</td>\n",
       "      <td>Setosa</td>\n",
       "    </tr>\n",
       "    <tr>\n",
       "      <th>2</th>\n",
       "      <td>4.7</td>\n",
       "      <td>3.2</td>\n",
       "      <td>1.3</td>\n",
       "      <td>0.2</td>\n",
       "      <td>Setosa</td>\n",
       "    </tr>\n",
       "    <tr>\n",
       "      <th>3</th>\n",
       "      <td>4.6</td>\n",
       "      <td>3.1</td>\n",
       "      <td>1.5</td>\n",
       "      <td>0.2</td>\n",
       "      <td>Setosa</td>\n",
       "    </tr>\n",
       "    <tr>\n",
       "      <th>4</th>\n",
       "      <td>5.0</td>\n",
       "      <td>3.6</td>\n",
       "      <td>1.4</td>\n",
       "      <td>0.2</td>\n",
       "      <td>Setosa</td>\n",
       "    </tr>\n",
       "  </tbody>\n",
       "</table>\n",
       "</div>"
      ],
      "text/plain": [
       "   sepal.length  sepal.width  petal.length  petal.width variety\n",
       "0           5.1          3.5           1.4          0.2  Setosa\n",
       "1           4.9          3.0           1.4          0.2  Setosa\n",
       "2           4.7          3.2           1.3          0.2  Setosa\n",
       "3           4.6          3.1           1.5          0.2  Setosa\n",
       "4           5.0          3.6           1.4          0.2  Setosa"
      ]
     },
     "execution_count": 58,
     "metadata": {},
     "output_type": "execute_result"
    }
   ],
   "source": [
    "# First few rows\n",
    "print(\"First few rows of Iris dataframe:\\n\")\n",
    "head_rows = df.head()\n",
    "head_rows"
   ]
  },
  {
   "cell_type": "code",
   "execution_count": 59,
   "id": "bLy3dkg2ryFw",
   "metadata": {
    "colab": {
     "base_uri": "https://localhost:8080/",
     "height": 554
    },
    "id": "bLy3dkg2ryFw",
    "outputId": "df244b63-6b6e-4b02-d557-1a52a31dcd44"
   },
   "outputs": [
    {
     "name": "stdout",
     "output_type": "stream",
     "text": [
      "First 15 rows of Iris dataframe:\n",
      "\n"
     ]
    },
    {
     "data": {
      "text/html": [
       "<div>\n",
       "<style scoped>\n",
       "    .dataframe tbody tr th:only-of-type {\n",
       "        vertical-align: middle;\n",
       "    }\n",
       "\n",
       "    .dataframe tbody tr th {\n",
       "        vertical-align: top;\n",
       "    }\n",
       "\n",
       "    .dataframe thead th {\n",
       "        text-align: right;\n",
       "    }\n",
       "</style>\n",
       "<table border=\"1\" class=\"dataframe\">\n",
       "  <thead>\n",
       "    <tr style=\"text-align: right;\">\n",
       "      <th></th>\n",
       "      <th>sepal.length</th>\n",
       "      <th>sepal.width</th>\n",
       "      <th>petal.length</th>\n",
       "      <th>petal.width</th>\n",
       "      <th>variety</th>\n",
       "    </tr>\n",
       "  </thead>\n",
       "  <tbody>\n",
       "    <tr>\n",
       "      <th>0</th>\n",
       "      <td>5.1</td>\n",
       "      <td>3.5</td>\n",
       "      <td>1.4</td>\n",
       "      <td>0.2</td>\n",
       "      <td>Setosa</td>\n",
       "    </tr>\n",
       "    <tr>\n",
       "      <th>1</th>\n",
       "      <td>4.9</td>\n",
       "      <td>3.0</td>\n",
       "      <td>1.4</td>\n",
       "      <td>0.2</td>\n",
       "      <td>Setosa</td>\n",
       "    </tr>\n",
       "    <tr>\n",
       "      <th>2</th>\n",
       "      <td>4.7</td>\n",
       "      <td>3.2</td>\n",
       "      <td>1.3</td>\n",
       "      <td>0.2</td>\n",
       "      <td>Setosa</td>\n",
       "    </tr>\n",
       "    <tr>\n",
       "      <th>3</th>\n",
       "      <td>4.6</td>\n",
       "      <td>3.1</td>\n",
       "      <td>1.5</td>\n",
       "      <td>0.2</td>\n",
       "      <td>Setosa</td>\n",
       "    </tr>\n",
       "    <tr>\n",
       "      <th>4</th>\n",
       "      <td>5.0</td>\n",
       "      <td>3.6</td>\n",
       "      <td>1.4</td>\n",
       "      <td>0.2</td>\n",
       "      <td>Setosa</td>\n",
       "    </tr>\n",
       "    <tr>\n",
       "      <th>5</th>\n",
       "      <td>5.4</td>\n",
       "      <td>3.9</td>\n",
       "      <td>1.7</td>\n",
       "      <td>0.4</td>\n",
       "      <td>Setosa</td>\n",
       "    </tr>\n",
       "    <tr>\n",
       "      <th>6</th>\n",
       "      <td>4.6</td>\n",
       "      <td>3.4</td>\n",
       "      <td>1.4</td>\n",
       "      <td>0.3</td>\n",
       "      <td>Setosa</td>\n",
       "    </tr>\n",
       "    <tr>\n",
       "      <th>7</th>\n",
       "      <td>5.0</td>\n",
       "      <td>3.4</td>\n",
       "      <td>1.5</td>\n",
       "      <td>0.2</td>\n",
       "      <td>Setosa</td>\n",
       "    </tr>\n",
       "    <tr>\n",
       "      <th>8</th>\n",
       "      <td>4.4</td>\n",
       "      <td>2.9</td>\n",
       "      <td>1.4</td>\n",
       "      <td>0.2</td>\n",
       "      <td>Setosa</td>\n",
       "    </tr>\n",
       "    <tr>\n",
       "      <th>9</th>\n",
       "      <td>4.9</td>\n",
       "      <td>3.1</td>\n",
       "      <td>1.5</td>\n",
       "      <td>0.1</td>\n",
       "      <td>Setosa</td>\n",
       "    </tr>\n",
       "    <tr>\n",
       "      <th>10</th>\n",
       "      <td>5.4</td>\n",
       "      <td>3.7</td>\n",
       "      <td>1.5</td>\n",
       "      <td>0.2</td>\n",
       "      <td>Setosa</td>\n",
       "    </tr>\n",
       "    <tr>\n",
       "      <th>11</th>\n",
       "      <td>4.8</td>\n",
       "      <td>3.4</td>\n",
       "      <td>1.6</td>\n",
       "      <td>0.2</td>\n",
       "      <td>Setosa</td>\n",
       "    </tr>\n",
       "    <tr>\n",
       "      <th>12</th>\n",
       "      <td>4.8</td>\n",
       "      <td>3.0</td>\n",
       "      <td>1.4</td>\n",
       "      <td>0.1</td>\n",
       "      <td>Setosa</td>\n",
       "    </tr>\n",
       "    <tr>\n",
       "      <th>13</th>\n",
       "      <td>4.3</td>\n",
       "      <td>3.0</td>\n",
       "      <td>1.1</td>\n",
       "      <td>0.1</td>\n",
       "      <td>Setosa</td>\n",
       "    </tr>\n",
       "    <tr>\n",
       "      <th>14</th>\n",
       "      <td>5.8</td>\n",
       "      <td>4.0</td>\n",
       "      <td>1.2</td>\n",
       "      <td>0.2</td>\n",
       "      <td>Setosa</td>\n",
       "    </tr>\n",
       "  </tbody>\n",
       "</table>\n",
       "</div>"
      ],
      "text/plain": [
       "    sepal.length  sepal.width  petal.length  petal.width variety\n",
       "0            5.1          3.5           1.4          0.2  Setosa\n",
       "1            4.9          3.0           1.4          0.2  Setosa\n",
       "2            4.7          3.2           1.3          0.2  Setosa\n",
       "3            4.6          3.1           1.5          0.2  Setosa\n",
       "4            5.0          3.6           1.4          0.2  Setosa\n",
       "5            5.4          3.9           1.7          0.4  Setosa\n",
       "6            4.6          3.4           1.4          0.3  Setosa\n",
       "7            5.0          3.4           1.5          0.2  Setosa\n",
       "8            4.4          2.9           1.4          0.2  Setosa\n",
       "9            4.9          3.1           1.5          0.1  Setosa\n",
       "10           5.4          3.7           1.5          0.2  Setosa\n",
       "11           4.8          3.4           1.6          0.2  Setosa\n",
       "12           4.8          3.0           1.4          0.1  Setosa\n",
       "13           4.3          3.0           1.1          0.1  Setosa\n",
       "14           5.8          4.0           1.2          0.2  Setosa"
      ]
     },
     "execution_count": 59,
     "metadata": {},
     "output_type": "execute_result"
    }
   ],
   "source": [
    "# First n rows\n",
    "print(\"First 15 rows of Iris dataframe:\\n\")\n",
    "head_15_rows = df.head(15)\n",
    "head_15_rows"
   ]
  },
  {
   "cell_type": "code",
   "execution_count": 60,
   "id": "TzY3Q1FEr2j1",
   "metadata": {
    "colab": {
     "base_uri": "https://localhost:8080/",
     "height": 241
    },
    "id": "TzY3Q1FEr2j1",
    "outputId": "64e94029-49d0-4812-81f3-d319e6c4023a"
   },
   "outputs": [
    {
     "name": "stdout",
     "output_type": "stream",
     "text": [
      "Last few rows of Iris dataframe:\n",
      "\n"
     ]
    },
    {
     "data": {
      "text/html": [
       "<div>\n",
       "<style scoped>\n",
       "    .dataframe tbody tr th:only-of-type {\n",
       "        vertical-align: middle;\n",
       "    }\n",
       "\n",
       "    .dataframe tbody tr th {\n",
       "        vertical-align: top;\n",
       "    }\n",
       "\n",
       "    .dataframe thead th {\n",
       "        text-align: right;\n",
       "    }\n",
       "</style>\n",
       "<table border=\"1\" class=\"dataframe\">\n",
       "  <thead>\n",
       "    <tr style=\"text-align: right;\">\n",
       "      <th></th>\n",
       "      <th>sepal.length</th>\n",
       "      <th>sepal.width</th>\n",
       "      <th>petal.length</th>\n",
       "      <th>petal.width</th>\n",
       "      <th>variety</th>\n",
       "    </tr>\n",
       "  </thead>\n",
       "  <tbody>\n",
       "    <tr>\n",
       "      <th>145</th>\n",
       "      <td>6.7</td>\n",
       "      <td>3.0</td>\n",
       "      <td>5.2</td>\n",
       "      <td>2.3</td>\n",
       "      <td>Virginica</td>\n",
       "    </tr>\n",
       "    <tr>\n",
       "      <th>146</th>\n",
       "      <td>6.3</td>\n",
       "      <td>2.5</td>\n",
       "      <td>5.0</td>\n",
       "      <td>1.9</td>\n",
       "      <td>Virginica</td>\n",
       "    </tr>\n",
       "    <tr>\n",
       "      <th>147</th>\n",
       "      <td>6.5</td>\n",
       "      <td>3.0</td>\n",
       "      <td>5.2</td>\n",
       "      <td>2.0</td>\n",
       "      <td>Virginica</td>\n",
       "    </tr>\n",
       "    <tr>\n",
       "      <th>148</th>\n",
       "      <td>6.2</td>\n",
       "      <td>3.4</td>\n",
       "      <td>5.4</td>\n",
       "      <td>2.3</td>\n",
       "      <td>Virginica</td>\n",
       "    </tr>\n",
       "    <tr>\n",
       "      <th>149</th>\n",
       "      <td>5.9</td>\n",
       "      <td>3.0</td>\n",
       "      <td>5.1</td>\n",
       "      <td>1.8</td>\n",
       "      <td>Virginica</td>\n",
       "    </tr>\n",
       "  </tbody>\n",
       "</table>\n",
       "</div>"
      ],
      "text/plain": [
       "     sepal.length  sepal.width  petal.length  petal.width    variety\n",
       "145           6.7          3.0           5.2          2.3  Virginica\n",
       "146           6.3          2.5           5.0          1.9  Virginica\n",
       "147           6.5          3.0           5.2          2.0  Virginica\n",
       "148           6.2          3.4           5.4          2.3  Virginica\n",
       "149           5.9          3.0           5.1          1.8  Virginica"
      ]
     },
     "execution_count": 60,
     "metadata": {},
     "output_type": "execute_result"
    }
   ],
   "source": [
    "# Last few rows\n",
    "print(\"Last few rows of Iris dataframe:\\n\")\n",
    "tail_rows = df.tail()\n",
    "tail_rows"
   ]
  },
  {
   "cell_type": "code",
   "execution_count": 61,
   "id": "0KlUA4iWsEKz",
   "metadata": {
    "id": "0KlUA4iWsEKz"
   },
   "outputs": [
    {
     "name": "stdout",
     "output_type": "stream",
     "text": [
      "Last 2 rows of Iris dataframe:\n",
      "\n"
     ]
    },
    {
     "data": {
      "text/html": [
       "<div>\n",
       "<style scoped>\n",
       "    .dataframe tbody tr th:only-of-type {\n",
       "        vertical-align: middle;\n",
       "    }\n",
       "\n",
       "    .dataframe tbody tr th {\n",
       "        vertical-align: top;\n",
       "    }\n",
       "\n",
       "    .dataframe thead th {\n",
       "        text-align: right;\n",
       "    }\n",
       "</style>\n",
       "<table border=\"1\" class=\"dataframe\">\n",
       "  <thead>\n",
       "    <tr style=\"text-align: right;\">\n",
       "      <th></th>\n",
       "      <th>sepal.length</th>\n",
       "      <th>sepal.width</th>\n",
       "      <th>petal.length</th>\n",
       "      <th>petal.width</th>\n",
       "      <th>variety</th>\n",
       "    </tr>\n",
       "  </thead>\n",
       "  <tbody>\n",
       "    <tr>\n",
       "      <th>148</th>\n",
       "      <td>6.2</td>\n",
       "      <td>3.4</td>\n",
       "      <td>5.4</td>\n",
       "      <td>2.3</td>\n",
       "      <td>Virginica</td>\n",
       "    </tr>\n",
       "    <tr>\n",
       "      <th>149</th>\n",
       "      <td>5.9</td>\n",
       "      <td>3.0</td>\n",
       "      <td>5.1</td>\n",
       "      <td>1.8</td>\n",
       "      <td>Virginica</td>\n",
       "    </tr>\n",
       "  </tbody>\n",
       "</table>\n",
       "</div>"
      ],
      "text/plain": [
       "     sepal.length  sepal.width  petal.length  petal.width    variety\n",
       "148           6.2          3.4           5.4          2.3  Virginica\n",
       "149           5.9          3.0           5.1          1.8  Virginica"
      ]
     },
     "execution_count": 61,
     "metadata": {},
     "output_type": "execute_result"
    }
   ],
   "source": [
    "# Last n rows\n",
    "print(\"Last 2 rows of Iris dataframe:\\n\")\n",
    "df.tail(2)"
   ]
  },
  {
   "cell_type": "code",
   "execution_count": 62,
   "id": "cLgYqffJsjgw",
   "metadata": {
    "id": "cLgYqffJsjgw"
   },
   "outputs": [
    {
     "name": "stdout",
     "output_type": "stream",
     "text": [
      "Basic DataFrame information:\n",
      "\n",
      "<class 'pandas.core.frame.DataFrame'>\n",
      "RangeIndex: 150 entries, 0 to 149\n",
      "Data columns (total 5 columns):\n",
      " #   Column        Non-Null Count  Dtype  \n",
      "---  ------        --------------  -----  \n",
      " 0   sepal.length  150 non-null    float64\n",
      " 1   sepal.width   150 non-null    float64\n",
      " 2   petal.length  150 non-null    float64\n",
      " 3   petal.width   150 non-null    float64\n",
      " 4   variety       150 non-null    object \n",
      "dtypes: float64(4), object(1)\n",
      "memory usage: 6.0+ KB\n"
     ]
    }
   ],
   "source": [
    "# Information about the DataFrame\n",
    "print(\"Basic DataFrame information:\\n\")\n",
    "df.info()"
   ]
  },
  {
   "cell_type": "code",
   "execution_count": 63,
   "id": "h0RgTa3Ds9hi",
   "metadata": {
    "colab": {
     "base_uri": "https://localhost:8080/",
     "height": 352
    },
    "id": "h0RgTa3Ds9hi",
    "outputId": "32947657-acc6-481f-e408-17d34612e989"
   },
   "outputs": [
    {
     "name": "stdout",
     "output_type": "stream",
     "text": [
      "\n",
      "Statistical summary:\n",
      "\n"
     ]
    },
    {
     "data": {
      "text/html": [
       "<div>\n",
       "<style scoped>\n",
       "    .dataframe tbody tr th:only-of-type {\n",
       "        vertical-align: middle;\n",
       "    }\n",
       "\n",
       "    .dataframe tbody tr th {\n",
       "        vertical-align: top;\n",
       "    }\n",
       "\n",
       "    .dataframe thead th {\n",
       "        text-align: right;\n",
       "    }\n",
       "</style>\n",
       "<table border=\"1\" class=\"dataframe\">\n",
       "  <thead>\n",
       "    <tr style=\"text-align: right;\">\n",
       "      <th></th>\n",
       "      <th>sepal.length</th>\n",
       "      <th>sepal.width</th>\n",
       "      <th>petal.length</th>\n",
       "      <th>petal.width</th>\n",
       "    </tr>\n",
       "  </thead>\n",
       "  <tbody>\n",
       "    <tr>\n",
       "      <th>count</th>\n",
       "      <td>150.000000</td>\n",
       "      <td>150.000000</td>\n",
       "      <td>150.000000</td>\n",
       "      <td>150.000000</td>\n",
       "    </tr>\n",
       "    <tr>\n",
       "      <th>mean</th>\n",
       "      <td>5.843333</td>\n",
       "      <td>3.057333</td>\n",
       "      <td>3.758000</td>\n",
       "      <td>1.199333</td>\n",
       "    </tr>\n",
       "    <tr>\n",
       "      <th>std</th>\n",
       "      <td>0.828066</td>\n",
       "      <td>0.435866</td>\n",
       "      <td>1.765298</td>\n",
       "      <td>0.762238</td>\n",
       "    </tr>\n",
       "    <tr>\n",
       "      <th>min</th>\n",
       "      <td>4.300000</td>\n",
       "      <td>2.000000</td>\n",
       "      <td>1.000000</td>\n",
       "      <td>0.100000</td>\n",
       "    </tr>\n",
       "    <tr>\n",
       "      <th>25%</th>\n",
       "      <td>5.100000</td>\n",
       "      <td>2.800000</td>\n",
       "      <td>1.600000</td>\n",
       "      <td>0.300000</td>\n",
       "    </tr>\n",
       "    <tr>\n",
       "      <th>50%</th>\n",
       "      <td>5.800000</td>\n",
       "      <td>3.000000</td>\n",
       "      <td>4.350000</td>\n",
       "      <td>1.300000</td>\n",
       "    </tr>\n",
       "    <tr>\n",
       "      <th>75%</th>\n",
       "      <td>6.400000</td>\n",
       "      <td>3.300000</td>\n",
       "      <td>5.100000</td>\n",
       "      <td>1.800000</td>\n",
       "    </tr>\n",
       "    <tr>\n",
       "      <th>max</th>\n",
       "      <td>7.900000</td>\n",
       "      <td>4.400000</td>\n",
       "      <td>6.900000</td>\n",
       "      <td>2.500000</td>\n",
       "    </tr>\n",
       "  </tbody>\n",
       "</table>\n",
       "</div>"
      ],
      "text/plain": [
       "       sepal.length  sepal.width  petal.length  petal.width\n",
       "count    150.000000   150.000000    150.000000   150.000000\n",
       "mean       5.843333     3.057333      3.758000     1.199333\n",
       "std        0.828066     0.435866      1.765298     0.762238\n",
       "min        4.300000     2.000000      1.000000     0.100000\n",
       "25%        5.100000     2.800000      1.600000     0.300000\n",
       "50%        5.800000     3.000000      4.350000     1.300000\n",
       "75%        6.400000     3.300000      5.100000     1.800000\n",
       "max        7.900000     4.400000      6.900000     2.500000"
      ]
     },
     "execution_count": 63,
     "metadata": {},
     "output_type": "execute_result"
    }
   ],
   "source": [
    "# Summary for numerical columns\n",
    "print(\"\\nStatistical summary:\\n\")\n",
    "df.describe()"
   ]
  },
  {
   "cell_type": "markdown",
   "id": "uJDAsOC4tjep",
   "metadata": {
    "id": "uJDAsOC4tjep"
   },
   "source": [
    "### 2.4 Selecting and Filtering Data\n",
    "\n",
    "1. Selecting columns: This is done by passing a list of column names to the DataFrame.\n",
    "\n",
    "   ```name = df[[\"col1\", \"col2\"]]```\n",
    "\n",
    "2. Filtering Rows Based on Condition\n",
    "  \n",
    "  ``` name = df[df[\"col\"] condition]```\n",
    "\n",
    "3. Fltering Rows Based on Multiple Conditions: Multiple conditions can be combined using logical operators (& for and, | for or) to filter rows that meet specific criteria. The conditions must be enclosed in parentheses ()\n",
    "\n",
    "  ``` name = df[(df[\"col\"] condition) operator (df[\"col\"] condition)]```\n"
   ]
  },
  {
   "cell_type": "code",
   "execution_count": 64,
   "id": "kxaPRnvhtisS",
   "metadata": {
    "colab": {
     "base_uri": "https://localhost:8080/",
     "height": 424
    },
    "id": "kxaPRnvhtisS",
    "outputId": "564a63f1-0f17-4340-a7e5-3a20a3ad80f3"
   },
   "outputs": [
    {
     "data": {
      "text/html": [
       "<div>\n",
       "<style scoped>\n",
       "    .dataframe tbody tr th:only-of-type {\n",
       "        vertical-align: middle;\n",
       "    }\n",
       "\n",
       "    .dataframe tbody tr th {\n",
       "        vertical-align: top;\n",
       "    }\n",
       "\n",
       "    .dataframe thead th {\n",
       "        text-align: right;\n",
       "    }\n",
       "</style>\n",
       "<table border=\"1\" class=\"dataframe\">\n",
       "  <thead>\n",
       "    <tr style=\"text-align: right;\">\n",
       "      <th></th>\n",
       "      <th>sepal.length</th>\n",
       "      <th>variety</th>\n",
       "    </tr>\n",
       "  </thead>\n",
       "  <tbody>\n",
       "    <tr>\n",
       "      <th>0</th>\n",
       "      <td>5.1</td>\n",
       "      <td>Setosa</td>\n",
       "    </tr>\n",
       "    <tr>\n",
       "      <th>1</th>\n",
       "      <td>4.9</td>\n",
       "      <td>Setosa</td>\n",
       "    </tr>\n",
       "    <tr>\n",
       "      <th>2</th>\n",
       "      <td>4.7</td>\n",
       "      <td>Setosa</td>\n",
       "    </tr>\n",
       "    <tr>\n",
       "      <th>3</th>\n",
       "      <td>4.6</td>\n",
       "      <td>Setosa</td>\n",
       "    </tr>\n",
       "    <tr>\n",
       "      <th>4</th>\n",
       "      <td>5.0</td>\n",
       "      <td>Setosa</td>\n",
       "    </tr>\n",
       "    <tr>\n",
       "      <th>...</th>\n",
       "      <td>...</td>\n",
       "      <td>...</td>\n",
       "    </tr>\n",
       "    <tr>\n",
       "      <th>145</th>\n",
       "      <td>6.7</td>\n",
       "      <td>Virginica</td>\n",
       "    </tr>\n",
       "    <tr>\n",
       "      <th>146</th>\n",
       "      <td>6.3</td>\n",
       "      <td>Virginica</td>\n",
       "    </tr>\n",
       "    <tr>\n",
       "      <th>147</th>\n",
       "      <td>6.5</td>\n",
       "      <td>Virginica</td>\n",
       "    </tr>\n",
       "    <tr>\n",
       "      <th>148</th>\n",
       "      <td>6.2</td>\n",
       "      <td>Virginica</td>\n",
       "    </tr>\n",
       "    <tr>\n",
       "      <th>149</th>\n",
       "      <td>5.9</td>\n",
       "      <td>Virginica</td>\n",
       "    </tr>\n",
       "  </tbody>\n",
       "</table>\n",
       "<p>150 rows × 2 columns</p>\n",
       "</div>"
      ],
      "text/plain": [
       "     sepal.length    variety\n",
       "0             5.1     Setosa\n",
       "1             4.9     Setosa\n",
       "2             4.7     Setosa\n",
       "3             4.6     Setosa\n",
       "4             5.0     Setosa\n",
       "..            ...        ...\n",
       "145           6.7  Virginica\n",
       "146           6.3  Virginica\n",
       "147           6.5  Virginica\n",
       "148           6.2  Virginica\n",
       "149           5.9  Virginica\n",
       "\n",
       "[150 rows x 2 columns]"
      ]
     },
     "execution_count": 64,
     "metadata": {},
     "output_type": "execute_result"
    }
   ],
   "source": [
    "# Selecting sepal.length and variety column\n",
    "\n",
    "cols = df[[\"sepal.length\", \"variety\"]]\n",
    "cols"
   ]
  },
  {
   "cell_type": "code",
   "execution_count": 65,
   "id": "Z1OdEXWfv27z",
   "metadata": {
    "colab": {
     "base_uri": "https://localhost:8080/",
     "height": 476
    },
    "id": "Z1OdEXWfv27z",
    "outputId": "54b2bbfa-f9ba-42d6-9299-efbd00b0f764"
   },
   "outputs": [
    {
     "name": "stdout",
     "output_type": "stream",
     "text": [
      "\n",
      "Rows where Sepal Length > 5.5:\n",
      "\n"
     ]
    },
    {
     "data": {
      "text/html": [
       "<div>\n",
       "<style scoped>\n",
       "    .dataframe tbody tr th:only-of-type {\n",
       "        vertical-align: middle;\n",
       "    }\n",
       "\n",
       "    .dataframe tbody tr th {\n",
       "        vertical-align: top;\n",
       "    }\n",
       "\n",
       "    .dataframe thead th {\n",
       "        text-align: right;\n",
       "    }\n",
       "</style>\n",
       "<table border=\"1\" class=\"dataframe\">\n",
       "  <thead>\n",
       "    <tr style=\"text-align: right;\">\n",
       "      <th></th>\n",
       "      <th>sepal.length</th>\n",
       "      <th>sepal.width</th>\n",
       "      <th>petal.length</th>\n",
       "      <th>petal.width</th>\n",
       "      <th>variety</th>\n",
       "    </tr>\n",
       "  </thead>\n",
       "  <tbody>\n",
       "    <tr>\n",
       "      <th>14</th>\n",
       "      <td>5.8</td>\n",
       "      <td>4.0</td>\n",
       "      <td>1.2</td>\n",
       "      <td>0.2</td>\n",
       "      <td>Setosa</td>\n",
       "    </tr>\n",
       "    <tr>\n",
       "      <th>15</th>\n",
       "      <td>5.7</td>\n",
       "      <td>4.4</td>\n",
       "      <td>1.5</td>\n",
       "      <td>0.4</td>\n",
       "      <td>Setosa</td>\n",
       "    </tr>\n",
       "    <tr>\n",
       "      <th>18</th>\n",
       "      <td>5.7</td>\n",
       "      <td>3.8</td>\n",
       "      <td>1.7</td>\n",
       "      <td>0.3</td>\n",
       "      <td>Setosa</td>\n",
       "    </tr>\n",
       "    <tr>\n",
       "      <th>50</th>\n",
       "      <td>7.0</td>\n",
       "      <td>3.2</td>\n",
       "      <td>4.7</td>\n",
       "      <td>1.4</td>\n",
       "      <td>Versicolor</td>\n",
       "    </tr>\n",
       "    <tr>\n",
       "      <th>51</th>\n",
       "      <td>6.4</td>\n",
       "      <td>3.2</td>\n",
       "      <td>4.5</td>\n",
       "      <td>1.5</td>\n",
       "      <td>Versicolor</td>\n",
       "    </tr>\n",
       "    <tr>\n",
       "      <th>...</th>\n",
       "      <td>...</td>\n",
       "      <td>...</td>\n",
       "      <td>...</td>\n",
       "      <td>...</td>\n",
       "      <td>...</td>\n",
       "    </tr>\n",
       "    <tr>\n",
       "      <th>145</th>\n",
       "      <td>6.7</td>\n",
       "      <td>3.0</td>\n",
       "      <td>5.2</td>\n",
       "      <td>2.3</td>\n",
       "      <td>Virginica</td>\n",
       "    </tr>\n",
       "    <tr>\n",
       "      <th>146</th>\n",
       "      <td>6.3</td>\n",
       "      <td>2.5</td>\n",
       "      <td>5.0</td>\n",
       "      <td>1.9</td>\n",
       "      <td>Virginica</td>\n",
       "    </tr>\n",
       "    <tr>\n",
       "      <th>147</th>\n",
       "      <td>6.5</td>\n",
       "      <td>3.0</td>\n",
       "      <td>5.2</td>\n",
       "      <td>2.0</td>\n",
       "      <td>Virginica</td>\n",
       "    </tr>\n",
       "    <tr>\n",
       "      <th>148</th>\n",
       "      <td>6.2</td>\n",
       "      <td>3.4</td>\n",
       "      <td>5.4</td>\n",
       "      <td>2.3</td>\n",
       "      <td>Virginica</td>\n",
       "    </tr>\n",
       "    <tr>\n",
       "      <th>149</th>\n",
       "      <td>5.9</td>\n",
       "      <td>3.0</td>\n",
       "      <td>5.1</td>\n",
       "      <td>1.8</td>\n",
       "      <td>Virginica</td>\n",
       "    </tr>\n",
       "  </tbody>\n",
       "</table>\n",
       "<p>91 rows × 5 columns</p>\n",
       "</div>"
      ],
      "text/plain": [
       "     sepal.length  sepal.width  petal.length  petal.width     variety\n",
       "14            5.8          4.0           1.2          0.2      Setosa\n",
       "15            5.7          4.4           1.5          0.4      Setosa\n",
       "18            5.7          3.8           1.7          0.3      Setosa\n",
       "50            7.0          3.2           4.7          1.4  Versicolor\n",
       "51            6.4          3.2           4.5          1.5  Versicolor\n",
       "..            ...          ...           ...          ...         ...\n",
       "145           6.7          3.0           5.2          2.3   Virginica\n",
       "146           6.3          2.5           5.0          1.9   Virginica\n",
       "147           6.5          3.0           5.2          2.0   Virginica\n",
       "148           6.2          3.4           5.4          2.3   Virginica\n",
       "149           5.9          3.0           5.1          1.8   Virginica\n",
       "\n",
       "[91 rows x 5 columns]"
      ]
     },
     "execution_count": 65,
     "metadata": {},
     "output_type": "execute_result"
    }
   ],
   "source": [
    "# Filtering rows based on single condition\n",
    "\n",
    "filtered_df_seplen = df[df[\"sepal.length\"] > 5.5]\n",
    "print(\"\\nRows where Sepal Length > 5.5:\\n\")\n",
    "filtered_df_seplen"
   ]
  },
  {
   "cell_type": "code",
   "execution_count": 66,
   "id": "7MmXY_uSwsFQ",
   "metadata": {
    "id": "7MmXY_uSwsFQ"
   },
   "outputs": [
    {
     "name": "stdout",
     "output_type": "stream",
     "text": [
      "\n",
      "Rows with Sepal Length > 5.5 and Variety 'setosa':\n",
      "\n"
     ]
    },
    {
     "data": {
      "text/html": [
       "<div>\n",
       "<style scoped>\n",
       "    .dataframe tbody tr th:only-of-type {\n",
       "        vertical-align: middle;\n",
       "    }\n",
       "\n",
       "    .dataframe tbody tr th {\n",
       "        vertical-align: top;\n",
       "    }\n",
       "\n",
       "    .dataframe thead th {\n",
       "        text-align: right;\n",
       "    }\n",
       "</style>\n",
       "<table border=\"1\" class=\"dataframe\">\n",
       "  <thead>\n",
       "    <tr style=\"text-align: right;\">\n",
       "      <th></th>\n",
       "      <th>sepal.length</th>\n",
       "      <th>sepal.width</th>\n",
       "      <th>petal.length</th>\n",
       "      <th>petal.width</th>\n",
       "      <th>variety</th>\n",
       "    </tr>\n",
       "  </thead>\n",
       "  <tbody>\n",
       "    <tr>\n",
       "      <th>14</th>\n",
       "      <td>5.8</td>\n",
       "      <td>4.0</td>\n",
       "      <td>1.2</td>\n",
       "      <td>0.2</td>\n",
       "      <td>Setosa</td>\n",
       "    </tr>\n",
       "    <tr>\n",
       "      <th>15</th>\n",
       "      <td>5.7</td>\n",
       "      <td>4.4</td>\n",
       "      <td>1.5</td>\n",
       "      <td>0.4</td>\n",
       "      <td>Setosa</td>\n",
       "    </tr>\n",
       "    <tr>\n",
       "      <th>18</th>\n",
       "      <td>5.7</td>\n",
       "      <td>3.8</td>\n",
       "      <td>1.7</td>\n",
       "      <td>0.3</td>\n",
       "      <td>Setosa</td>\n",
       "    </tr>\n",
       "  </tbody>\n",
       "</table>\n",
       "</div>"
      ],
      "text/plain": [
       "    sepal.length  sepal.width  petal.length  petal.width variety\n",
       "14           5.8          4.0           1.2          0.2  Setosa\n",
       "15           5.7          4.4           1.5          0.4  Setosa\n",
       "18           5.7          3.8           1.7          0.3  Setosa"
      ]
     },
     "execution_count": 66,
     "metadata": {},
     "output_type": "execute_result"
    }
   ],
   "source": [
    "# Filtering Rows Based on Multiple Conditions\n",
    "\n",
    "filtered_setosa = df[(df[\"sepal.length\"] > 5.5) & (df[\"variety\"] == \"Setosa\")]\n",
    "print(\"\\nRows with Sepal Length > 5.5 and Variety 'setosa':\\n\")\n",
    "filtered_setosa"
   ]
  },
  {
   "cell_type": "markdown",
   "id": "MeDFgsPBxP8h",
   "metadata": {
    "id": "MeDFgsPBxP8h"
   },
   "source": [
    "### 2.5 Sorting and Renaming\n",
    "\n",
    "1. Sorting Data by a Column: The ```sort_values()``` function sorts the DataFrame by a specified column. Optional parameter can be added, reference [`sort_values()` documentation](https://pandas.pydata.org/docs/reference/api/pandas.DataFrame.sort_values.html)\n",
    "\n",
    "  Syntax: `name = df.sort_values(by=\"col_name\", parameter)`\n",
    "\n",
    "2. Renaming Columns: Changes the name of one or more columns. The `inplace=True` parameter modifies the DataFrame in place without creating a copy.\n",
    "\n",
    "  Syntax:\n",
    "  ```df.rename(columns={\"Old name\": \"New name\"}, inplace=True)```\n",
    "\n"
   ]
  },
  {
   "cell_type": "code",
   "execution_count": 67,
   "id": "aCwy2Nb1yHK4",
   "metadata": {
    "colab": {
     "base_uri": "https://localhost:8080/"
    },
    "id": "aCwy2Nb1yHK4",
    "outputId": "b26ccbe8-9fd4-4654-fe47-5f16bc0b6918"
   },
   "outputs": [
    {
     "name": "stdout",
     "output_type": "stream",
     "text": [
      "\n",
      "DataFrame sorted by Petal Width in ascending order:\n",
      "\n"
     ]
    },
    {
     "data": {
      "text/html": [
       "<div>\n",
       "<style scoped>\n",
       "    .dataframe tbody tr th:only-of-type {\n",
       "        vertical-align: middle;\n",
       "    }\n",
       "\n",
       "    .dataframe tbody tr th {\n",
       "        vertical-align: top;\n",
       "    }\n",
       "\n",
       "    .dataframe thead th {\n",
       "        text-align: right;\n",
       "    }\n",
       "</style>\n",
       "<table border=\"1\" class=\"dataframe\">\n",
       "  <thead>\n",
       "    <tr style=\"text-align: right;\">\n",
       "      <th></th>\n",
       "      <th>sepal.length</th>\n",
       "      <th>sepal.width</th>\n",
       "      <th>petal.length</th>\n",
       "      <th>petal.width</th>\n",
       "      <th>variety</th>\n",
       "    </tr>\n",
       "  </thead>\n",
       "  <tbody>\n",
       "    <tr>\n",
       "      <th>32</th>\n",
       "      <td>5.2</td>\n",
       "      <td>4.1</td>\n",
       "      <td>1.5</td>\n",
       "      <td>0.1</td>\n",
       "      <td>Setosa</td>\n",
       "    </tr>\n",
       "    <tr>\n",
       "      <th>13</th>\n",
       "      <td>4.3</td>\n",
       "      <td>3.0</td>\n",
       "      <td>1.1</td>\n",
       "      <td>0.1</td>\n",
       "      <td>Setosa</td>\n",
       "    </tr>\n",
       "    <tr>\n",
       "      <th>37</th>\n",
       "      <td>4.9</td>\n",
       "      <td>3.6</td>\n",
       "      <td>1.4</td>\n",
       "      <td>0.1</td>\n",
       "      <td>Setosa</td>\n",
       "    </tr>\n",
       "    <tr>\n",
       "      <th>9</th>\n",
       "      <td>4.9</td>\n",
       "      <td>3.1</td>\n",
       "      <td>1.5</td>\n",
       "      <td>0.1</td>\n",
       "      <td>Setosa</td>\n",
       "    </tr>\n",
       "    <tr>\n",
       "      <th>12</th>\n",
       "      <td>4.8</td>\n",
       "      <td>3.0</td>\n",
       "      <td>1.4</td>\n",
       "      <td>0.1</td>\n",
       "      <td>Setosa</td>\n",
       "    </tr>\n",
       "    <tr>\n",
       "      <th>...</th>\n",
       "      <td>...</td>\n",
       "      <td>...</td>\n",
       "      <td>...</td>\n",
       "      <td>...</td>\n",
       "      <td>...</td>\n",
       "    </tr>\n",
       "    <tr>\n",
       "      <th>140</th>\n",
       "      <td>6.7</td>\n",
       "      <td>3.1</td>\n",
       "      <td>5.6</td>\n",
       "      <td>2.4</td>\n",
       "      <td>Virginica</td>\n",
       "    </tr>\n",
       "    <tr>\n",
       "      <th>114</th>\n",
       "      <td>5.8</td>\n",
       "      <td>2.8</td>\n",
       "      <td>5.1</td>\n",
       "      <td>2.4</td>\n",
       "      <td>Virginica</td>\n",
       "    </tr>\n",
       "    <tr>\n",
       "      <th>100</th>\n",
       "      <td>6.3</td>\n",
       "      <td>3.3</td>\n",
       "      <td>6.0</td>\n",
       "      <td>2.5</td>\n",
       "      <td>Virginica</td>\n",
       "    </tr>\n",
       "    <tr>\n",
       "      <th>144</th>\n",
       "      <td>6.7</td>\n",
       "      <td>3.3</td>\n",
       "      <td>5.7</td>\n",
       "      <td>2.5</td>\n",
       "      <td>Virginica</td>\n",
       "    </tr>\n",
       "    <tr>\n",
       "      <th>109</th>\n",
       "      <td>7.2</td>\n",
       "      <td>3.6</td>\n",
       "      <td>6.1</td>\n",
       "      <td>2.5</td>\n",
       "      <td>Virginica</td>\n",
       "    </tr>\n",
       "  </tbody>\n",
       "</table>\n",
       "<p>150 rows × 5 columns</p>\n",
       "</div>"
      ],
      "text/plain": [
       "     sepal.length  sepal.width  petal.length  petal.width    variety\n",
       "32            5.2          4.1           1.5          0.1     Setosa\n",
       "13            4.3          3.0           1.1          0.1     Setosa\n",
       "37            4.9          3.6           1.4          0.1     Setosa\n",
       "9             4.9          3.1           1.5          0.1     Setosa\n",
       "12            4.8          3.0           1.4          0.1     Setosa\n",
       "..            ...          ...           ...          ...        ...\n",
       "140           6.7          3.1           5.6          2.4  Virginica\n",
       "114           5.8          2.8           5.1          2.4  Virginica\n",
       "100           6.3          3.3           6.0          2.5  Virginica\n",
       "144           6.7          3.3           5.7          2.5  Virginica\n",
       "109           7.2          3.6           6.1          2.5  Virginica\n",
       "\n",
       "[150 rows x 5 columns]"
      ]
     },
     "execution_count": 67,
     "metadata": {},
     "output_type": "execute_result"
    }
   ],
   "source": [
    "# Sorting Data by Petal Width in ascending order\n",
    "sorted_df = df.sort_values(by=\"petal.width\", ascending=True)\n",
    "print(\"\\nDataFrame sorted by Petal Width in ascending order:\\n\")\n",
    "sorted_df"
   ]
  },
  {
   "cell_type": "code",
   "execution_count": 68,
   "id": "-w8kJIKPyV0E",
   "metadata": {
    "colab": {
     "base_uri": "https://localhost:8080/"
    },
    "id": "-w8kJIKPyV0E",
    "outputId": "53709f16-dbe8-41a9-e9df-e385ea9c1808"
   },
   "outputs": [
    {
     "name": "stdout",
     "output_type": "stream",
     "text": [
      "\n",
      "DataFrame sorted by Petal Width in descending order:\n",
      "\n"
     ]
    },
    {
     "data": {
      "text/html": [
       "<div>\n",
       "<style scoped>\n",
       "    .dataframe tbody tr th:only-of-type {\n",
       "        vertical-align: middle;\n",
       "    }\n",
       "\n",
       "    .dataframe tbody tr th {\n",
       "        vertical-align: top;\n",
       "    }\n",
       "\n",
       "    .dataframe thead th {\n",
       "        text-align: right;\n",
       "    }\n",
       "</style>\n",
       "<table border=\"1\" class=\"dataframe\">\n",
       "  <thead>\n",
       "    <tr style=\"text-align: right;\">\n",
       "      <th></th>\n",
       "      <th>sepal.length</th>\n",
       "      <th>sepal.width</th>\n",
       "      <th>petal.length</th>\n",
       "      <th>petal.width</th>\n",
       "      <th>variety</th>\n",
       "    </tr>\n",
       "  </thead>\n",
       "  <tbody>\n",
       "    <tr>\n",
       "      <th>100</th>\n",
       "      <td>6.3</td>\n",
       "      <td>3.3</td>\n",
       "      <td>6.0</td>\n",
       "      <td>2.5</td>\n",
       "      <td>Virginica</td>\n",
       "    </tr>\n",
       "    <tr>\n",
       "      <th>109</th>\n",
       "      <td>7.2</td>\n",
       "      <td>3.6</td>\n",
       "      <td>6.1</td>\n",
       "      <td>2.5</td>\n",
       "      <td>Virginica</td>\n",
       "    </tr>\n",
       "    <tr>\n",
       "      <th>144</th>\n",
       "      <td>6.7</td>\n",
       "      <td>3.3</td>\n",
       "      <td>5.7</td>\n",
       "      <td>2.5</td>\n",
       "      <td>Virginica</td>\n",
       "    </tr>\n",
       "    <tr>\n",
       "      <th>114</th>\n",
       "      <td>5.8</td>\n",
       "      <td>2.8</td>\n",
       "      <td>5.1</td>\n",
       "      <td>2.4</td>\n",
       "      <td>Virginica</td>\n",
       "    </tr>\n",
       "    <tr>\n",
       "      <th>140</th>\n",
       "      <td>6.7</td>\n",
       "      <td>3.1</td>\n",
       "      <td>5.6</td>\n",
       "      <td>2.4</td>\n",
       "      <td>Virginica</td>\n",
       "    </tr>\n",
       "    <tr>\n",
       "      <th>...</th>\n",
       "      <td>...</td>\n",
       "      <td>...</td>\n",
       "      <td>...</td>\n",
       "      <td>...</td>\n",
       "      <td>...</td>\n",
       "    </tr>\n",
       "    <tr>\n",
       "      <th>12</th>\n",
       "      <td>4.8</td>\n",
       "      <td>3.0</td>\n",
       "      <td>1.4</td>\n",
       "      <td>0.1</td>\n",
       "      <td>Setosa</td>\n",
       "    </tr>\n",
       "    <tr>\n",
       "      <th>13</th>\n",
       "      <td>4.3</td>\n",
       "      <td>3.0</td>\n",
       "      <td>1.1</td>\n",
       "      <td>0.1</td>\n",
       "      <td>Setosa</td>\n",
       "    </tr>\n",
       "    <tr>\n",
       "      <th>37</th>\n",
       "      <td>4.9</td>\n",
       "      <td>3.6</td>\n",
       "      <td>1.4</td>\n",
       "      <td>0.1</td>\n",
       "      <td>Setosa</td>\n",
       "    </tr>\n",
       "    <tr>\n",
       "      <th>32</th>\n",
       "      <td>5.2</td>\n",
       "      <td>4.1</td>\n",
       "      <td>1.5</td>\n",
       "      <td>0.1</td>\n",
       "      <td>Setosa</td>\n",
       "    </tr>\n",
       "    <tr>\n",
       "      <th>9</th>\n",
       "      <td>4.9</td>\n",
       "      <td>3.1</td>\n",
       "      <td>1.5</td>\n",
       "      <td>0.1</td>\n",
       "      <td>Setosa</td>\n",
       "    </tr>\n",
       "  </tbody>\n",
       "</table>\n",
       "<p>150 rows × 5 columns</p>\n",
       "</div>"
      ],
      "text/plain": [
       "     sepal.length  sepal.width  petal.length  petal.width    variety\n",
       "100           6.3          3.3           6.0          2.5  Virginica\n",
       "109           7.2          3.6           6.1          2.5  Virginica\n",
       "144           6.7          3.3           5.7          2.5  Virginica\n",
       "114           5.8          2.8           5.1          2.4  Virginica\n",
       "140           6.7          3.1           5.6          2.4  Virginica\n",
       "..            ...          ...           ...          ...        ...\n",
       "12            4.8          3.0           1.4          0.1     Setosa\n",
       "13            4.3          3.0           1.1          0.1     Setosa\n",
       "37            4.9          3.6           1.4          0.1     Setosa\n",
       "32            5.2          4.1           1.5          0.1     Setosa\n",
       "9             4.9          3.1           1.5          0.1     Setosa\n",
       "\n",
       "[150 rows x 5 columns]"
      ]
     },
     "execution_count": 68,
     "metadata": {},
     "output_type": "execute_result"
    }
   ],
   "source": [
    "# Sorting Data by Petal Width in descending order\n",
    "sorted_df = df.sort_values(by=\"petal.width\", ascending=False)\n",
    "print(\"\\nDataFrame sorted by Petal Width in descending order:\\n\")\n",
    "sorted_df"
   ]
  },
  {
   "cell_type": "markdown",
   "id": "OvXt2Uix0RDx",
   "metadata": {
    "id": "OvXt2Uix0RDx"
   },
   "source": [
    "## Section 3: Data Manipulation with Pandas"
   ]
  },
  {
   "cell_type": "markdown",
   "id": "fw2cTXUt0XqK",
   "metadata": {
    "id": "fw2cTXUt0XqK"
   },
   "source": [
    "### 3.1 Adding New Columns"
   ]
  },
  {
   "cell_type": "code",
   "execution_count": 69,
   "id": "AERLgTvN0gvM",
   "metadata": {
    "colab": {
     "base_uri": "https://localhost:8080/"
    },
    "id": "AERLgTvN0gvM",
    "outputId": "066713f0-fbc5-4f9b-c643-dfdf1fccba8b"
   },
   "outputs": [
    {
     "name": "stdout",
     "output_type": "stream",
     "text": [
      "\n",
      "DataFrame with new column 'Sepal Area (cm^2)':\n",
      "\n"
     ]
    },
    {
     "data": {
      "text/html": [
       "<div>\n",
       "<style scoped>\n",
       "    .dataframe tbody tr th:only-of-type {\n",
       "        vertical-align: middle;\n",
       "    }\n",
       "\n",
       "    .dataframe tbody tr th {\n",
       "        vertical-align: top;\n",
       "    }\n",
       "\n",
       "    .dataframe thead th {\n",
       "        text-align: right;\n",
       "    }\n",
       "</style>\n",
       "<table border=\"1\" class=\"dataframe\">\n",
       "  <thead>\n",
       "    <tr style=\"text-align: right;\">\n",
       "      <th></th>\n",
       "      <th>sepal.length</th>\n",
       "      <th>sepal.width</th>\n",
       "      <th>petal.length</th>\n",
       "      <th>petal.width</th>\n",
       "      <th>variety</th>\n",
       "      <th>Sepal Area (cm^2)</th>\n",
       "    </tr>\n",
       "  </thead>\n",
       "  <tbody>\n",
       "    <tr>\n",
       "      <th>0</th>\n",
       "      <td>5.1</td>\n",
       "      <td>3.5</td>\n",
       "      <td>1.4</td>\n",
       "      <td>0.2</td>\n",
       "      <td>Setosa</td>\n",
       "      <td>17.85</td>\n",
       "    </tr>\n",
       "    <tr>\n",
       "      <th>1</th>\n",
       "      <td>4.9</td>\n",
       "      <td>3.0</td>\n",
       "      <td>1.4</td>\n",
       "      <td>0.2</td>\n",
       "      <td>Setosa</td>\n",
       "      <td>14.70</td>\n",
       "    </tr>\n",
       "    <tr>\n",
       "      <th>2</th>\n",
       "      <td>4.7</td>\n",
       "      <td>3.2</td>\n",
       "      <td>1.3</td>\n",
       "      <td>0.2</td>\n",
       "      <td>Setosa</td>\n",
       "      <td>15.04</td>\n",
       "    </tr>\n",
       "    <tr>\n",
       "      <th>3</th>\n",
       "      <td>4.6</td>\n",
       "      <td>3.1</td>\n",
       "      <td>1.5</td>\n",
       "      <td>0.2</td>\n",
       "      <td>Setosa</td>\n",
       "      <td>14.26</td>\n",
       "    </tr>\n",
       "    <tr>\n",
       "      <th>4</th>\n",
       "      <td>5.0</td>\n",
       "      <td>3.6</td>\n",
       "      <td>1.4</td>\n",
       "      <td>0.2</td>\n",
       "      <td>Setosa</td>\n",
       "      <td>18.00</td>\n",
       "    </tr>\n",
       "    <tr>\n",
       "      <th>...</th>\n",
       "      <td>...</td>\n",
       "      <td>...</td>\n",
       "      <td>...</td>\n",
       "      <td>...</td>\n",
       "      <td>...</td>\n",
       "      <td>...</td>\n",
       "    </tr>\n",
       "    <tr>\n",
       "      <th>145</th>\n",
       "      <td>6.7</td>\n",
       "      <td>3.0</td>\n",
       "      <td>5.2</td>\n",
       "      <td>2.3</td>\n",
       "      <td>Virginica</td>\n",
       "      <td>20.10</td>\n",
       "    </tr>\n",
       "    <tr>\n",
       "      <th>146</th>\n",
       "      <td>6.3</td>\n",
       "      <td>2.5</td>\n",
       "      <td>5.0</td>\n",
       "      <td>1.9</td>\n",
       "      <td>Virginica</td>\n",
       "      <td>15.75</td>\n",
       "    </tr>\n",
       "    <tr>\n",
       "      <th>147</th>\n",
       "      <td>6.5</td>\n",
       "      <td>3.0</td>\n",
       "      <td>5.2</td>\n",
       "      <td>2.0</td>\n",
       "      <td>Virginica</td>\n",
       "      <td>19.50</td>\n",
       "    </tr>\n",
       "    <tr>\n",
       "      <th>148</th>\n",
       "      <td>6.2</td>\n",
       "      <td>3.4</td>\n",
       "      <td>5.4</td>\n",
       "      <td>2.3</td>\n",
       "      <td>Virginica</td>\n",
       "      <td>21.08</td>\n",
       "    </tr>\n",
       "    <tr>\n",
       "      <th>149</th>\n",
       "      <td>5.9</td>\n",
       "      <td>3.0</td>\n",
       "      <td>5.1</td>\n",
       "      <td>1.8</td>\n",
       "      <td>Virginica</td>\n",
       "      <td>17.70</td>\n",
       "    </tr>\n",
       "  </tbody>\n",
       "</table>\n",
       "<p>150 rows × 6 columns</p>\n",
       "</div>"
      ],
      "text/plain": [
       "     sepal.length  sepal.width  petal.length  petal.width    variety  \\\n",
       "0             5.1          3.5           1.4          0.2     Setosa   \n",
       "1             4.9          3.0           1.4          0.2     Setosa   \n",
       "2             4.7          3.2           1.3          0.2     Setosa   \n",
       "3             4.6          3.1           1.5          0.2     Setosa   \n",
       "4             5.0          3.6           1.4          0.2     Setosa   \n",
       "..            ...          ...           ...          ...        ...   \n",
       "145           6.7          3.0           5.2          2.3  Virginica   \n",
       "146           6.3          2.5           5.0          1.9  Virginica   \n",
       "147           6.5          3.0           5.2          2.0  Virginica   \n",
       "148           6.2          3.4           5.4          2.3  Virginica   \n",
       "149           5.9          3.0           5.1          1.8  Virginica   \n",
       "\n",
       "     Sepal Area (cm^2)  \n",
       "0                17.85  \n",
       "1                14.70  \n",
       "2                15.04  \n",
       "3                14.26  \n",
       "4                18.00  \n",
       "..                 ...  \n",
       "145              20.10  \n",
       "146              15.75  \n",
       "147              19.50  \n",
       "148              21.08  \n",
       "149              17.70  \n",
       "\n",
       "[150 rows x 6 columns]"
      ]
     },
     "execution_count": 69,
     "metadata": {},
     "output_type": "execute_result"
    }
   ],
   "source": [
    "# Creating a New Column for Sepal Area\n",
    "df[\"Sepal Area (cm^2)\"] = df[\"sepal.length\"] * df[\"sepal.width\"]\n",
    "print(\"\\nDataFrame with new column 'Sepal Area (cm^2)':\\n\")\n",
    "df"
   ]
  },
  {
   "cell_type": "markdown",
   "id": "fV8d5_HI0598",
   "metadata": {
    "id": "fV8d5_HI0598"
   },
   "source": [
    "### 3.2 Grouping Data\n",
    "\n",
    "1. `groupby()`: Groups data based on a specific column.\n",
    "  \n",
    "  Syntax: `name = df.groupby(\"column_name\")`\n",
    "2. `mean()`: Calculates the mean of all numerical columns for each group.\n",
    "\n",
    "3. `count()`: Counts the number of non-zero rows"
   ]
  },
  {
   "cell_type": "code",
   "execution_count": 70,
   "id": "s8hDBO301n-G",
   "metadata": {
    "colab": {
     "base_uri": "https://localhost:8080/"
    },
    "id": "s8hDBO301n-G",
    "outputId": "d71b2e62-dffc-4f9e-bd30-bdce35116ac9"
   },
   "outputs": [
    {
     "name": "stdout",
     "output_type": "stream",
     "text": [
      "\n",
      "Grouped data by 'Variety' (Average values):\n",
      "\n"
     ]
    },
    {
     "data": {
      "text/html": [
       "<div>\n",
       "<style scoped>\n",
       "    .dataframe tbody tr th:only-of-type {\n",
       "        vertical-align: middle;\n",
       "    }\n",
       "\n",
       "    .dataframe tbody tr th {\n",
       "        vertical-align: top;\n",
       "    }\n",
       "\n",
       "    .dataframe thead th {\n",
       "        text-align: right;\n",
       "    }\n",
       "</style>\n",
       "<table border=\"1\" class=\"dataframe\">\n",
       "  <thead>\n",
       "    <tr style=\"text-align: right;\">\n",
       "      <th></th>\n",
       "      <th>sepal.length</th>\n",
       "      <th>sepal.width</th>\n",
       "      <th>petal.length</th>\n",
       "      <th>petal.width</th>\n",
       "      <th>Sepal Area (cm^2)</th>\n",
       "    </tr>\n",
       "    <tr>\n",
       "      <th>variety</th>\n",
       "      <th></th>\n",
       "      <th></th>\n",
       "      <th></th>\n",
       "      <th></th>\n",
       "      <th></th>\n",
       "    </tr>\n",
       "  </thead>\n",
       "  <tbody>\n",
       "    <tr>\n",
       "      <th>Setosa</th>\n",
       "      <td>50</td>\n",
       "      <td>50</td>\n",
       "      <td>50</td>\n",
       "      <td>50</td>\n",
       "      <td>50</td>\n",
       "    </tr>\n",
       "    <tr>\n",
       "      <th>Versicolor</th>\n",
       "      <td>50</td>\n",
       "      <td>50</td>\n",
       "      <td>50</td>\n",
       "      <td>50</td>\n",
       "      <td>50</td>\n",
       "    </tr>\n",
       "    <tr>\n",
       "      <th>Virginica</th>\n",
       "      <td>50</td>\n",
       "      <td>50</td>\n",
       "      <td>50</td>\n",
       "      <td>50</td>\n",
       "      <td>50</td>\n",
       "    </tr>\n",
       "  </tbody>\n",
       "</table>\n",
       "</div>"
      ],
      "text/plain": [
       "            sepal.length  sepal.width  petal.length  petal.width  \\\n",
       "variety                                                            \n",
       "Setosa                50           50            50           50   \n",
       "Versicolor            50           50            50           50   \n",
       "Virginica             50           50            50           50   \n",
       "\n",
       "            Sepal Area (cm^2)  \n",
       "variety                        \n",
       "Setosa                     50  \n",
       "Versicolor                 50  \n",
       "Virginica                  50  "
      ]
     },
     "execution_count": 70,
     "metadata": {},
     "output_type": "execute_result"
    }
   ],
   "source": [
    "# Grouping and Aggregating by Species\n",
    "grouped_data = df.groupby(\"variety\").count()\n",
    "print(\"\\nGrouped data by 'Variety' (Average values):\\n\")\n",
    "grouped_data"
   ]
  },
  {
   "cell_type": "markdown",
   "id": "wYpKpac02rYL",
   "metadata": {
    "id": "wYpKpac02rYL"
   },
   "source": [
    "### 3.3 Get total number of null values in every column\n",
    "\n",
    "The `isna()` function is used to calculate if the value in that column-row is a null value, return True if value is null else False if not null.\n",
    "\n",
    "\n",
    "\n"
   ]
  },
  {
   "cell_type": "code",
   "execution_count": 71,
   "id": "xzJdOBL95cug",
   "metadata": {
    "colab": {
     "base_uri": "https://localhost:8080/"
    },
    "id": "xzJdOBL95cug",
    "outputId": "41095f7a-6af4-44bc-e555-261e5983251f"
   },
   "outputs": [
    {
     "data": {
      "text/html": [
       "<div>\n",
       "<style scoped>\n",
       "    .dataframe tbody tr th:only-of-type {\n",
       "        vertical-align: middle;\n",
       "    }\n",
       "\n",
       "    .dataframe tbody tr th {\n",
       "        vertical-align: top;\n",
       "    }\n",
       "\n",
       "    .dataframe thead th {\n",
       "        text-align: right;\n",
       "    }\n",
       "</style>\n",
       "<table border=\"1\" class=\"dataframe\">\n",
       "  <thead>\n",
       "    <tr style=\"text-align: right;\">\n",
       "      <th></th>\n",
       "      <th>sepal.length</th>\n",
       "      <th>sepal.width</th>\n",
       "      <th>petal.length</th>\n",
       "      <th>petal.width</th>\n",
       "      <th>variety</th>\n",
       "      <th>Sepal Area (cm^2)</th>\n",
       "    </tr>\n",
       "  </thead>\n",
       "  <tbody>\n",
       "    <tr>\n",
       "      <th>0</th>\n",
       "      <td>False</td>\n",
       "      <td>False</td>\n",
       "      <td>False</td>\n",
       "      <td>False</td>\n",
       "      <td>False</td>\n",
       "      <td>False</td>\n",
       "    </tr>\n",
       "    <tr>\n",
       "      <th>1</th>\n",
       "      <td>False</td>\n",
       "      <td>False</td>\n",
       "      <td>False</td>\n",
       "      <td>False</td>\n",
       "      <td>False</td>\n",
       "      <td>False</td>\n",
       "    </tr>\n",
       "    <tr>\n",
       "      <th>2</th>\n",
       "      <td>False</td>\n",
       "      <td>False</td>\n",
       "      <td>False</td>\n",
       "      <td>False</td>\n",
       "      <td>False</td>\n",
       "      <td>False</td>\n",
       "    </tr>\n",
       "    <tr>\n",
       "      <th>3</th>\n",
       "      <td>False</td>\n",
       "      <td>False</td>\n",
       "      <td>False</td>\n",
       "      <td>False</td>\n",
       "      <td>False</td>\n",
       "      <td>False</td>\n",
       "    </tr>\n",
       "    <tr>\n",
       "      <th>4</th>\n",
       "      <td>False</td>\n",
       "      <td>False</td>\n",
       "      <td>False</td>\n",
       "      <td>False</td>\n",
       "      <td>False</td>\n",
       "      <td>False</td>\n",
       "    </tr>\n",
       "    <tr>\n",
       "      <th>...</th>\n",
       "      <td>...</td>\n",
       "      <td>...</td>\n",
       "      <td>...</td>\n",
       "      <td>...</td>\n",
       "      <td>...</td>\n",
       "      <td>...</td>\n",
       "    </tr>\n",
       "    <tr>\n",
       "      <th>145</th>\n",
       "      <td>False</td>\n",
       "      <td>False</td>\n",
       "      <td>False</td>\n",
       "      <td>False</td>\n",
       "      <td>False</td>\n",
       "      <td>False</td>\n",
       "    </tr>\n",
       "    <tr>\n",
       "      <th>146</th>\n",
       "      <td>False</td>\n",
       "      <td>False</td>\n",
       "      <td>False</td>\n",
       "      <td>False</td>\n",
       "      <td>False</td>\n",
       "      <td>False</td>\n",
       "    </tr>\n",
       "    <tr>\n",
       "      <th>147</th>\n",
       "      <td>False</td>\n",
       "      <td>False</td>\n",
       "      <td>False</td>\n",
       "      <td>False</td>\n",
       "      <td>False</td>\n",
       "      <td>False</td>\n",
       "    </tr>\n",
       "    <tr>\n",
       "      <th>148</th>\n",
       "      <td>False</td>\n",
       "      <td>False</td>\n",
       "      <td>False</td>\n",
       "      <td>False</td>\n",
       "      <td>False</td>\n",
       "      <td>False</td>\n",
       "    </tr>\n",
       "    <tr>\n",
       "      <th>149</th>\n",
       "      <td>False</td>\n",
       "      <td>False</td>\n",
       "      <td>False</td>\n",
       "      <td>False</td>\n",
       "      <td>False</td>\n",
       "      <td>False</td>\n",
       "    </tr>\n",
       "  </tbody>\n",
       "</table>\n",
       "<p>150 rows × 6 columns</p>\n",
       "</div>"
      ],
      "text/plain": [
       "     sepal.length  sepal.width  petal.length  petal.width  variety  \\\n",
       "0           False        False         False        False    False   \n",
       "1           False        False         False        False    False   \n",
       "2           False        False         False        False    False   \n",
       "3           False        False         False        False    False   \n",
       "4           False        False         False        False    False   \n",
       "..            ...          ...           ...          ...      ...   \n",
       "145         False        False         False        False    False   \n",
       "146         False        False         False        False    False   \n",
       "147         False        False         False        False    False   \n",
       "148         False        False         False        False    False   \n",
       "149         False        False         False        False    False   \n",
       "\n",
       "     Sepal Area (cm^2)  \n",
       "0                False  \n",
       "1                False  \n",
       "2                False  \n",
       "3                False  \n",
       "4                False  \n",
       "..                 ...  \n",
       "145              False  \n",
       "146              False  \n",
       "147              False  \n",
       "148              False  \n",
       "149              False  \n",
       "\n",
       "[150 rows x 6 columns]"
      ]
     },
     "execution_count": 71,
     "metadata": {},
     "output_type": "execute_result"
    }
   ],
   "source": [
    "# Individual data entry\n",
    "df.isna()"
   ]
  },
  {
   "cell_type": "code",
   "execution_count": 72,
   "id": "_sw3_VOu5tKq",
   "metadata": {
    "id": "_sw3_VOu5tKq"
   },
   "outputs": [
    {
     "data": {
      "text/plain": [
       "sepal.length         0\n",
       "sepal.width          0\n",
       "petal.length         0\n",
       "petal.width          0\n",
       "variety              0\n",
       "Sepal Area (cm^2)    0\n",
       "dtype: int64"
      ]
     },
     "execution_count": 72,
     "metadata": {},
     "output_type": "execute_result"
    }
   ],
   "source": [
    "df.isna().sum()"
   ]
  },
  {
   "cell_type": "markdown",
   "id": "N2gZpQlE5D-U",
   "metadata": {
    "id": "N2gZpQlE5D-U"
   },
   "source": [
    "### 3.4 Remove null values\n",
    "\n",
    "Using `dropna()` function\n",
    "\n"
   ]
  },
  {
   "cell_type": "markdown",
   "id": "X2BykBFE6cuZ",
   "metadata": {
    "id": "X2BykBFE6cuZ"
   },
   "source": [
    "### 3.5 Replace null values\n",
    "\n",
    "Using `fillna()` function"
   ]
  },
  {
   "cell_type": "markdown",
   "id": "CR2cDMfg6dgT",
   "metadata": {
    "id": "CR2cDMfg6dgT"
   },
   "source": [
    "## Practice Questions - 1"
   ]
  },
  {
   "cell_type": "markdown",
   "id": "VwJEdjcu69mf",
   "metadata": {
    "id": "VwJEdjcu69mf"
   },
   "source": [
    "#### 1. Extract only the columns \"sepal length\" and \"petal length\" from the dataset.\n",
    "\n"
   ]
  },
  {
   "cell_type": "code",
   "execution_count": 73,
   "id": "T0IAIaQE6cgJ",
   "metadata": {
    "id": "T0IAIaQE6cgJ"
   },
   "outputs": [
    {
     "name": "stdout",
     "output_type": "stream",
     "text": [
      "Selected columns - Sepal Length and Petal Length:\n",
      "    sepal.length  petal.length\n",
      "0           5.1           1.4\n",
      "1           4.9           1.4\n",
      "2           4.7           1.3\n",
      "3           4.6           1.5\n",
      "4           5.0           1.4\n"
     ]
    }
   ],
   "source": [
    "selected_columns = df[[\"sepal.length\", \"petal.length\"]]\n",
    "print(\"Selected columns - Sepal Length and Petal Length:\\n\", selected_columns.head())"
   ]
  },
  {
   "cell_type": "markdown",
   "id": "1_br0ftB7E1-",
   "metadata": {
    "id": "1_br0ftB7E1-"
   },
   "source": [
    "#### 2. Filter rows where \"sepal_length\" is greater than 6.0 and \"petal_width\" is less than 2.0."
   ]
  },
  {
   "cell_type": "code",
   "execution_count": 74,
   "id": "Df3IFkmS7L6j",
   "metadata": {
    "id": "Df3IFkmS7L6j"
   },
   "outputs": [
    {
     "name": "stdout",
     "output_type": "stream",
     "text": [
      "Filtered rows where Sepal Length > 6.0 and Petal Width < 2.0:\n",
      "     sepal.length  sepal.width  petal.length  petal.width     variety  \\\n",
      "50           7.0          3.2           4.7          1.4  Versicolor   \n",
      "51           6.4          3.2           4.5          1.5  Versicolor   \n",
      "52           6.9          3.1           4.9          1.5  Versicolor   \n",
      "54           6.5          2.8           4.6          1.5  Versicolor   \n",
      "56           6.3          3.3           4.7          1.6  Versicolor   \n",
      "\n",
      "    Sepal Area (cm^2)  \n",
      "50              22.40  \n",
      "51              20.48  \n",
      "52              21.39  \n",
      "54              18.20  \n",
      "56              20.79  \n"
     ]
    }
   ],
   "source": [
    "filtered_df = df[(df[\"sepal.length\"] > 6.0) & (df[\"petal.width\"] < 2.0)]\n",
    "print(\"Filtered rows where Sepal Length > 6.0 and Petal Width < 2.0:\\n\", filtered_df.head())"
   ]
  },
  {
   "cell_type": "markdown",
   "id": "XalaTUgZ7Nyg",
   "metadata": {
    "id": "XalaTUgZ7Nyg"
   },
   "source": [
    "#### 3. Sort the dataset by \"sepal_width\" in ascending order and display the first five rows."
   ]
  },
  {
   "cell_type": "code",
   "execution_count": 75,
   "id": "xDDhBhaX7QN-",
   "metadata": {
    "id": "xDDhBhaX7QN-"
   },
   "outputs": [
    {
     "name": "stdout",
     "output_type": "stream",
     "text": [
      "DataFrame sorted by Sepal Width in ascending order:\n",
      "      sepal.length  sepal.width  petal.length  petal.width     variety  \\\n",
      "60            5.0          2.0           3.5          1.0  Versicolor   \n",
      "62            6.0          2.2           4.0          1.0  Versicolor   \n",
      "119           6.0          2.2           5.0          1.5   Virginica   \n",
      "68            6.2          2.2           4.5          1.5  Versicolor   \n",
      "41            4.5          2.3           1.3          0.3      Setosa   \n",
      "\n",
      "     Sepal Area (cm^2)  \n",
      "60               10.00  \n",
      "62               13.20  \n",
      "119              13.20  \n",
      "68               13.64  \n",
      "41               10.35  \n"
     ]
    }
   ],
   "source": [
    "sorted_df = df.sort_values(by=\"sepal.width\", ascending=True)\n",
    "print(\"DataFrame sorted by Sepal Width in ascending order:\\n\", sorted_df.head())\n"
   ]
  },
  {
   "cell_type": "markdown",
   "id": "Gq8jWv237SKa",
   "metadata": {
    "id": "Gq8jWv237SKa"
   },
   "source": [
    "#### 4. Rename all the column to look like \"petal_length\" -> \"Petal Length (cm)\""
   ]
  },
  {
   "cell_type": "code",
   "execution_count": 76,
   "id": "0qQTS4sR7R6s",
   "metadata": {
    "id": "0qQTS4sR7R6s"
   },
   "outputs": [
    {
     "name": "stdout",
     "output_type": "stream",
     "text": [
      "Renamed column 'petal_length' to 'Petal Length (cm)':\n",
      "    sepal.length  sepal.width  Petal Length (cm)  petal.width variety  \\\n",
      "0           5.1          3.5                1.4          0.2  Setosa   \n",
      "1           4.9          3.0                1.4          0.2  Setosa   \n",
      "2           4.7          3.2                1.3          0.2  Setosa   \n",
      "3           4.6          3.1                1.5          0.2  Setosa   \n",
      "4           5.0          3.6                1.4          0.2  Setosa   \n",
      "\n",
      "   Sepal Area (cm^2)  \n",
      "0              17.85  \n",
      "1              14.70  \n",
      "2              15.04  \n",
      "3              14.26  \n",
      "4              18.00  \n"
     ]
    }
   ],
   "source": [
    "df.rename(columns={\"petal.length\": \"Petal Length (cm)\"}, inplace=True)\n",
    "print(\"Renamed column 'petal_length' to 'Petal Length (cm)':\\n\", df.head())\n"
   ]
  },
  {
   "cell_type": "markdown",
   "id": "xSQq0gNa7bfP",
   "metadata": {
    "id": "xSQq0gNa7bfP"
   },
   "source": [
    "#### 5. Create a new column \"Sepal Ratio\" which is the ratio of \"sepal_length\" to \"sepal_width\".\n",
    "\n"
   ]
  },
  {
   "cell_type": "code",
   "execution_count": 77,
   "id": "ncUxhzq-7eWU",
   "metadata": {
    "id": "ncUxhzq-7eWU"
   },
   "outputs": [
    {
     "name": "stdout",
     "output_type": "stream",
     "text": [
      "DataFrame with new column 'Sepal Ratio':\n",
      "    sepal.length  sepal.width  Petal Length (cm)  petal.width variety  \\\n",
      "0           5.1          3.5                1.4          0.2  Setosa   \n",
      "1           4.9          3.0                1.4          0.2  Setosa   \n",
      "2           4.7          3.2                1.3          0.2  Setosa   \n",
      "3           4.6          3.1                1.5          0.2  Setosa   \n",
      "4           5.0          3.6                1.4          0.2  Setosa   \n",
      "\n",
      "   Sepal Area (cm^2)  Sepal Ratio  \n",
      "0              17.85     1.457143  \n",
      "1              14.70     1.633333  \n",
      "2              15.04     1.468750  \n",
      "3              14.26     1.483871  \n",
      "4              18.00     1.388889  \n"
     ]
    }
   ],
   "source": [
    "df[\"Sepal Ratio\"] = df[\"sepal.length\"] / df[\"sepal.width\"]\n",
    "print(\"DataFrame with new column 'Sepal Ratio':\\n\", df.head())\n"
   ]
  },
  {
   "cell_type": "markdown",
   "id": "O7bLRYQA7eGp",
   "metadata": {
    "id": "O7bLRYQA7eGp"
   },
   "source": [
    "#### 6. Group the data by \"variety\" and calculate the average \"sepal_length\" for each group.\n",
    "\n"
   ]
  },
  {
   "cell_type": "code",
   "execution_count": 78,
   "id": "tak7Yyit7u9d",
   "metadata": {
    "id": "tak7Yyit7u9d"
   },
   "outputs": [
    {
     "name": "stdout",
     "output_type": "stream",
     "text": [
      "Average Sepal Length by Variety:\n",
      " variety\n",
      "Setosa        5.006\n",
      "Versicolor    5.936\n",
      "Virginica     6.588\n",
      "Name: sepal.length, dtype: float64\n"
     ]
    }
   ],
   "source": [
    "grouped_data = df.groupby(\"variety\")[\"sepal.length\"].mean()\n",
    "print(\"Average Sepal Length by Variety:\\n\", grouped_data)\n"
   ]
  },
  {
   "cell_type": "markdown",
   "id": "wyOPIRjz7wsx",
   "metadata": {
    "id": "wyOPIRjz7wsx"
   },
   "source": [
    "# Week 4 - Data Visualization using Pandas and Matplotlib\n",
    "\n",
    "Data visualization is a critical part of data analysis as it helps in understanding data trends, patterns, and relationships visually. In this lesson, we’ll use the Iris dataset to create various charts.\n"
   ]
  },
  {
   "cell_type": "code",
   "execution_count": 79,
   "id": "tLTiDwj3Oz87",
   "metadata": {
    "id": "tLTiDwj3Oz87"
   },
   "outputs": [],
   "source": [
    "import matplotlib.pyplot as plt"
   ]
  },
  {
   "cell_type": "markdown",
   "id": "6dwI1-lYOzjU",
   "metadata": {
    "id": "6dwI1-lYOzjU"
   },
   "source": []
  },
  {
   "cell_type": "markdown",
   "id": "V55Bq-DLth3i",
   "metadata": {
    "id": "V55Bq-DLth3i"
   },
   "source": [
    "## Section 4: Key Functions\n",
    "\n",
    "\n",
    "`plt.xlabel(\"X-Axis Label\")`: Adds a label to the x-axis to specify what it represents.\n",
    "\n",
    "`plt.ylabel(\"Y-Axis Label\")`: Adds a label to the y-axis to specify what it represents.\n",
    "\n",
    "`plt.title(\"Title of Plot\")`: Adds a title to the plot, describing its content.\n",
    "\n",
    "`plt.legend()`: Displays a legend that identifies plot elements (like lines or bars) based on labels.\n",
    "\n",
    "`plt.figure(figsize=(width, hright))`: Sets the size of the plot figure. The figsize argument accepts width, height in inches, allowing you to customize the dimensions of the plot.\n",
    "\n",
    "`plt.show()`: Renders and displays the plot.\n",
    "\n",
    "`plt.xlim()`: X-Axis range\n",
    "\n",
    "`plt.ylim()`: Y-axis range\n",
    "\n"
   ]
  },
  {
   "cell_type": "markdown",
   "id": "2p1FgraUsgyn",
   "metadata": {
    "id": "2p1FgraUsgyn"
   },
   "source": [
    "## Section 5: Line Chart\n",
    "\n",
    "**What is it?**\n",
    "\n",
    "A line chart is used to display data points in a series and is effective for showing trends over a sequence, like time or index values.\n",
    "\n",
    "**Syntax**\n",
    "\n",
    "```\n",
    "plt.plot(x, y, label=\"Label\", color=\"blue\", linestyle=\"--\", marker=\"o\")\n",
    "```\n",
    "\n",
    "\n",
    "**Arguments/Parameters:**\n",
    "\n",
    "* `x`: Data for the x-axis.\n",
    "* `y`: Data for the y-axis.\n",
    "* `label`: Label for the plot legend.\n",
    "* `color`: Color of the line.\n",
    "* `linestyle`: Style of the line ('-', '--', ':', etc.).\n",
    "* `marker`: Style of data point markers ('o', '.', 'x', etc.).\n",
    "\n",
    "**When to use it?**\n",
    "\n",
    "Use a line plot to show continuous data and visualize trends over time, such as stock prices or temperature changes."
   ]
  },
  {
   "cell_type": "code",
   "execution_count": 80,
   "id": "grvRCcFAtOFd",
   "metadata": {
    "id": "grvRCcFAtOFd"
   },
   "outputs": [],
   "source": [
    "from matplotlib import pyplot as plt\n",
    "# import matplotlib.pyplot as plt"
   ]
  },
  {
   "cell_type": "markdown",
   "id": "YkUmgUyes524",
   "metadata": {
    "id": "YkUmgUyes524"
   },
   "source": [
    "### 5.1 Plotting Sepal Length across all variety of flowers\n"
   ]
  },
  {
   "cell_type": "code",
   "execution_count": 81,
   "id": "-guwptJI7wfD",
   "metadata": {
    "id": "-guwptJI7wfD"
   },
   "outputs": [
    {
     "data": {
      "image/png": "[encoded data removed]",
      "text/plain": [
       "<Figure size 600x200 with 1 Axes>"
      ]
     },
     "metadata": {},
     "output_type": "display_data"
    }
   ],
   "source": [
    "# Plotting a line chart of Sepal Length for all variety\n",
    "\n",
    "plt.figure(figsize=(6, 2))\n",
    "plt.plot(df[\"sepal.length\"], color=\"blue\", label=\"Sepal Length\")\n",
    "plt.title(\"Line Chart of Sepal Length\")\n",
    "plt.xlabel(\"Index\")\n",
    "plt.ylabel(\"Sepal Length (cm)\")\n",
    "plt.legend()\n",
    "plt.show()"
   ]
  },
  {
   "cell_type": "markdown",
   "id": "SlGXqOPXs1aV",
   "metadata": {
    "id": "SlGXqOPXs1aV"
   },
   "source": [
    "### 5.2 Plotting Sepal Width Across All Entries"
   ]
  },
  {
   "cell_type": "code",
   "execution_count": null,
   "id": "nbxPdbKOs0_S",
   "metadata": {
    "id": "nbxPdbKOs0_S"
   },
   "outputs": [],
   "source": []
  },
  {
   "cell_type": "markdown",
   "id": "1WcI82s4tyyB",
   "metadata": {
    "id": "1WcI82s4tyyB"
   },
   "source": [
    "### 5.3 Plotting a line chart of Sepal Length for Setosa"
   ]
  },
  {
   "cell_type": "code",
   "execution_count": 82,
   "id": "8YK5mA1lt43V",
   "metadata": {
    "id": "8YK5mA1lt43V"
   },
   "outputs": [
    {
     "data": {
      "image/png": "[encoded data removed]",
      "text/plain": [
       "<Figure size 600x300 with 1 Axes>"
      ]
     },
     "metadata": {},
     "output_type": "display_data"
    }
   ],
   "source": [
    "# Filtering data for Setosa species\n",
    "setosa_df = df[df[\"variety\"] == \"Setosa\"]\n",
    "\n",
    "# Line chart of Sepal Length for Setosa using plt.plot()\n",
    "plt.figure(figsize=(6, 3))\n",
    "plt.plot(setosa_df.index, setosa_df[\"sepal.length\"], color=\"blue\", marker=\"o\", label=\"Sepal Length\")\n",
    "plt.title(\"Line Chart of Sepal Length for Setosa\")\n",
    "plt.xlabel(\"Index\")\n",
    "plt.ylabel(\"Sepal Length, Width (cm)\")\n",
    "plt.legend()\n",
    "plt.show()"
   ]
  },
  {
   "cell_type": "markdown",
   "id": "QDsyJFNmhlcv",
   "metadata": {
    "id": "QDsyJFNmhlcv"
   },
   "source": [
    "### 5.4 Plotting a line chart of Sepal Length and Sepal Width for Setosa flower"
   ]
  },
  {
   "cell_type": "code",
   "execution_count": 83,
   "id": "z7hDqD-9hcS7",
   "metadata": {
    "id": "z7hDqD-9hcS7"
   },
   "outputs": [
    {
     "data": {
      "image/png": "[encoded data removed]",
      "text/plain": [
       "<Figure size 600x300 with 1 Axes>"
      ]
     },
     "metadata": {},
     "output_type": "display_data"
    }
   ],
   "source": [
    "# Filtering data for Setosa species\n",
    "setosa_df = df[df[\"variety\"] == \"Setosa\"]\n",
    "\n",
    "# Line chart of Sepal Length for Setosa using plt.plot()\n",
    "plt.figure(figsize=(6, 3))\n",
    "plt.plot(setosa_df.index, setosa_df[\"sepal.length\"], color=\"blue\", marker=\"o\", label=\"Sepal Length\")\n",
    "plt.plot(setosa_df.index, setosa_df[\"sepal.width\"], color=\"orange\", marker=\"o\", label=\"Sepal Width\")\n",
    "plt.title(\"Line Chart of Sepal Length for Setosa\")\n",
    "plt.xlabel(\"Index\")\n",
    "plt.ylabel(\"Sepal Length, Width (cm)\")\n",
    "plt.legend()\n",
    "plt.show()"
   ]
  },
  {
   "cell_type": "markdown",
   "id": "hcA9eVr1tpeB",
   "metadata": {
    "id": "hcA9eVr1tpeB"
   },
   "source": [
    "## Section 6: Bar Chart\n",
    "\n",
    "**What is it?**\n",
    "\n",
    "A bar chart is useful for comparing quantities across categories.\n",
    "A bar chart displays data with rectangular bars to show comparisons among discrete categories.\n",
    "\n",
    "**Syntax**\n",
    "\n",
    "```\n",
    "plt.bar(x, height, color=\"blue\", width=0.5)\n",
    "```\n",
    "\n",
    "**Arguments/Parameters:**\n",
    "\n",
    "* `x`: Categories on the x-axis.\n",
    "* `height`: Values for the height of the bars. (values on the y-axis)\n",
    "* `color`: Color of the bars.\n",
    "* `width`: Width of the bars.\n",
    "\n",
    "**When to use it?**\n",
    "\n",
    "Use a bar plot when comparing quantities across different categories, such as sales by product or population by region.\n",
    "\n",
    "`value_counts()` - Counts occurrences of each unique value in a column."
   ]
  },
  {
   "cell_type": "markdown",
   "id": "0zEcrNHoaCTU",
   "metadata": {
    "id": "0zEcrNHoaCTU"
   },
   "source": [
    "### 6.1 Plotting the Count of Each Species (Variety)"
   ]
  },
  {
   "cell_type": "code",
   "execution_count": 84,
   "id": "WRSd_9lhaBla",
   "metadata": {
    "id": "WRSd_9lhaBla"
   },
   "outputs": [
    {
     "data": {
      "image/png": "[encoded data removed]",
      "text/plain": [
       "<Figure size 400x200 with 1 Axes>"
      ]
     },
     "metadata": {},
     "output_type": "display_data"
    }
   ],
   "source": [
    "variety = df[\"variety\"].value_counts()\n",
    "\n",
    "plt.figure(figsize=(4, 2))\n",
    "plt.bar(variety.index, variety.values)\n",
    "plt.title(\"Bar Chart of Iris Species Count\")\n",
    "plt.xlabel(\"Species\")\n",
    "plt.ylabel(\"Count\")\n",
    "plt.show()"
   ]
  },
  {
   "cell_type": "markdown",
   "id": "7eqBuyP6aMzl",
   "metadata": {
    "id": "7eqBuyP6aMzl"
   },
   "source": [
    "### 6.2 Create a bar chart to show the average sepal_length for each species."
   ]
  },
  {
   "cell_type": "code",
   "execution_count": 85,
   "id": "YfCyizEjaQHe",
   "metadata": {
    "id": "YfCyizEjaQHe"
   },
   "outputs": [
    {
     "data": {
      "image/png": "[encoded data removed]",
      "text/plain": [
       "<Figure size 600x400 with 1 Axes>"
      ]
     },
     "metadata": {},
     "output_type": "display_data"
    }
   ],
   "source": [
    "avg_seplen = df.groupby(\"variety\")[\"sepal.length\"].mean()\n",
    "avg_seplen\n",
    "\n",
    "plt.figure(figsize=(6, 4))\n",
    "plt.bar(avg_seplen.index, avg_seplen.values, edgecolor=\"black\")\n",
    "plt.title(\"Bar Chart of Iris Species Count\")\n",
    "plt.xlabel(\"Species\")\n",
    "plt.ylabel(\"Average Sepal Length (cm)\")\n",
    "plt.show()"
   ]
  },
  {
   "cell_type": "markdown",
   "id": "CKaebg_PaTTZ",
   "metadata": {
    "id": "CKaebg_PaTTZ"
   },
   "source": [
    "### 6.3 Create a stacked bar chart to compare average sepal_length and sepal_width for each species."
   ]
  },
  {
   "cell_type": "code",
   "execution_count": 86,
   "id": "9gJnRGGTjggF",
   "metadata": {
    "id": "9gJnRGGTjggF"
   },
   "outputs": [
    {
     "data": {
      "text/html": [
       "<div>\n",
       "<style scoped>\n",
       "    .dataframe tbody tr th:only-of-type {\n",
       "        vertical-align: middle;\n",
       "    }\n",
       "\n",
       "    .dataframe tbody tr th {\n",
       "        vertical-align: top;\n",
       "    }\n",
       "\n",
       "    .dataframe thead th {\n",
       "        text-align: right;\n",
       "    }\n",
       "</style>\n",
       "<table border=\"1\" class=\"dataframe\">\n",
       "  <thead>\n",
       "    <tr style=\"text-align: right;\">\n",
       "      <th></th>\n",
       "      <th>sepal.length</th>\n",
       "      <th>sepal.width</th>\n",
       "    </tr>\n",
       "    <tr>\n",
       "      <th>variety</th>\n",
       "      <th></th>\n",
       "      <th></th>\n",
       "    </tr>\n",
       "  </thead>\n",
       "  <tbody>\n",
       "    <tr>\n",
       "      <th>Setosa</th>\n",
       "      <td>5.006</td>\n",
       "      <td>3.428</td>\n",
       "    </tr>\n",
       "    <tr>\n",
       "      <th>Versicolor</th>\n",
       "      <td>5.936</td>\n",
       "      <td>2.770</td>\n",
       "    </tr>\n",
       "    <tr>\n",
       "      <th>Virginica</th>\n",
       "      <td>6.588</td>\n",
       "      <td>2.974</td>\n",
       "    </tr>\n",
       "  </tbody>\n",
       "</table>\n",
       "</div>"
      ],
      "text/plain": [
       "            sepal.length  sepal.width\n",
       "variety                              \n",
       "Setosa             5.006        3.428\n",
       "Versicolor         5.936        2.770\n",
       "Virginica          6.588        2.974"
      ]
     },
     "execution_count": 86,
     "metadata": {},
     "output_type": "execute_result"
    }
   ],
   "source": [
    "# Calculate the average Sepal Length and Sepal Width for each species\n",
    "# Double Square Brackets [[]] Used to select multiple columns and return as a dataframe\n",
    "avg_sepal = df.groupby(\"variety\")[[\"sepal.length\", \"sepal.width\"]].mean()\n",
    "avg_sepal"
   ]
  },
  {
   "cell_type": "code",
   "execution_count": 87,
   "id": "Wt395Cs8jB9N",
   "metadata": {
    "id": "Wt395Cs8jB9N"
   },
   "outputs": [
    {
     "data": {
      "image/png": "[encoded data removed]",
      "text/plain": [
       "<Figure size 800x600 with 1 Axes>"
      ]
     },
     "metadata": {},
     "output_type": "display_data"
    }
   ],
   "source": [
    "# Plotting the stacked bar chart\n",
    "plt.figure(figsize=(8, 6))\n",
    "plt.bar(avg_sepal.index, avg_sepal[\"sepal.length\"], label=\"Sepal Length\", color=\"green\")\n",
    "plt.bar(avg_sepal.index, avg_sepal[\"sepal.width\"], bottom=avg_sepal[\"sepal.length\"], label=\"Sepal Width\", color=\"orange\")\n",
    "\n",
    "# Adding titles and labels\n",
    "plt.title(\"Average Sepal Length and Sepal Width for Each Species\")\n",
    "plt.xlabel(\"Species\")\n",
    "plt.ylabel(\"Average Measurement (cm)\")\n",
    "plt.legend()\n",
    "plt.show()"
   ]
  },
  {
   "cell_type": "markdown",
   "id": "L7YiJ1J_a5z6",
   "metadata": {
    "id": "L7YiJ1J_a5z6"
   },
   "source": [
    "## Section 7: Scatter Plot\n",
    "\n",
    "**What is it?**\n",
    "\n",
    "A scatter plot shows individual data points on a two-dimensional grid, helping to visualize the relationship between two variables.\n",
    "\n",
    "**Syntax**\n",
    "```\n",
    "plt.scatter(x, y, color=\"red\", marker=\"o\")\n",
    "```\n",
    "**Arguments/Parameters:**\n",
    "\n",
    "* `x`: Data for the x-axis.\n",
    "* `y`: Data for the y-axis.\n",
    "* `color`: Color of the markers.\n",
    "* `marker`: Shape of the data point markers.\n",
    "\n",
    "**When to use it?**\n",
    "\n",
    "Use a scatter plot to observe correlations or relationships between two numerical variables, such as height vs. weight or income vs. education level."
   ]
  },
  {
   "cell_type": "markdown",
   "id": "RuqrpRIBbBRj",
   "metadata": {
    "id": "RuqrpRIBbBRj"
   },
   "source": [
    "### 7.1 Plotting Sepal Length vs. Sepal Width"
   ]
  },
  {
   "cell_type": "code",
   "execution_count": 88,
   "id": "ZJYOmLrUbI2T",
   "metadata": {
    "id": "ZJYOmLrUbI2T"
   },
   "outputs": [
    {
     "data": {
      "image/png": "[encoded data removed]",
      "text/plain": [
       "<Figure size 800x600 with 1 Axes>"
      ]
     },
     "metadata": {},
     "output_type": "display_data"
    }
   ],
   "source": [
    "# Scatter plot of Sepal Length vs Sepal Width using plt.scatter()\n",
    "plt.figure(figsize=(8, 6))\n",
    "plt.scatter(df[\"sepal.length\"], df[\"sepal.width\"], color=\"purple\")\n",
    "plt.title(\"Scatter Plot of Sepal Length vs Sepal Width\")\n",
    "plt.xlabel(\"Sepal Length (cm)\")\n",
    "plt.ylabel(\"Sepal Width (cm)\")\n",
    "plt.show()\n"
   ]
  },
  {
   "cell_type": "markdown",
   "id": "Fd3Nytpgdzgz",
   "metadata": {
    "id": "Fd3Nytpgdzgz"
   },
   "source": [
    "## Section 8: Histograms\n",
    "\n",
    "**What is it?**\n",
    "\n",
    "A histogram represents the distribution of numerical data by showing the frequency of data points within certain intervals (bins).\n",
    "\n",
    "**Syntax**\n",
    "```\n",
    "plt.hist(data, bins=10, color=\"green\", edgecolor=\"black\")\n",
    "```\n",
    "\n",
    "**Arguments/Parameters:**\n",
    "\n",
    "* `data`: Dataset for the histogram.\n",
    "* `bins`: Number of bins to divide the data into.\n",
    "* `color`: Color of the bars.\n",
    "* `edgecolor`: Color of the bin edges.\n",
    "\n",
    "**When to use it?**\n",
    "\n",
    "Use a histogram to understand the distribution of a dataset, such as exam scores or age distribution of a population.\n"
   ]
  },
  {
   "cell_type": "markdown",
   "id": "cPPOKhOJd-hq",
   "metadata": {
    "id": "cPPOKhOJd-hq"
   },
   "source": [
    "### 8.1 Plotting the Distribution of Sepal Length"
   ]
  },
  {
   "cell_type": "code",
   "execution_count": 89,
   "id": "Acjo21W3eDA5",
   "metadata": {
    "id": "Acjo21W3eDA5"
   },
   "outputs": [
    {
     "data": {
      "image/png": "[encoded data removed]",
      "text/plain": [
       "<Figure size 800x600 with 1 Axes>"
      ]
     },
     "metadata": {},
     "output_type": "display_data"
    }
   ],
   "source": [
    "plt.figure(figsize=(8, 6))\n",
    "plt.hist(df[\"sepal.length\"], bins=25, color=\"lightblue\", edgecolor=\"black\")\n",
    "plt.title(\"Histogram of Sepal Length\")\n",
    "plt.xlabel(\"Sepal Length (cm)\")\n",
    "plt.ylabel(\"Frequency\")\n",
    "plt.show()"
   ]
  },
  {
   "cell_type": "markdown",
   "id": "BlTz8kAWRXhu",
   "metadata": {
    "id": "BlTz8kAWRXhu"
   },
   "source": [
    "## Section 09: Pie-Chart\n",
    "\n",
    "**What is it?**\n",
    "\n",
    "A pie chart is a circular graph divided into slices to illustrate numerical proportions, showing the percentage of each category in a dataset.\n",
    "\n",
    "**Syntax**\n",
    "```\n",
    "plt.pie(sizes, labels=labels, colors=colors, autopct='%1.1f%%')\n",
    "```\n",
    "\n",
    "Arguments/Parameters:\n",
    "\n",
    "* `sizes`: Values representing the proportion of each category.\n",
    "* `labels`: Labels for each category.\n",
    "* `colors`: Colors for the slices.\n",
    "* `autopct`: String format to show percentage on each slice.\n",
    "\n",
    "**When to use it?**\n",
    "\n",
    "Use a pie chart when you want to show parts of a whole or illustrate proportions, such as market share or percentage distribution of survey responses.\n"
   ]
  },
  {
   "cell_type": "markdown",
   "id": "5Js8X2oulcq0",
   "metadata": {
    "id": "5Js8X2oulcq0"
   },
   "source": [
    "## Section 10: Subplot\n",
    "\n",
    "The `plt.subplot()` function in Matplotlib is used to create multiple plots (subplots) within a single figure. This is helpful when you want to display multiple charts side-by-side for comparison.\n",
    "\n",
    "```\n",
    "plt.subplot(nrows, ncols, index)\n",
    "```\n",
    "`nrows`: Number of rows of subplots.\n",
    "\n",
    "`ncols`: Number of columns of subplots.\n",
    "\n",
    "`index`: Position of the current plot in the grid (1-based index).\n",
    "\n",
    "Using `plt.subplot()` with `plt.plot()` provides a flexible way to arrange multiple charts within the same figure window, which can make comparisons clearer and more compact."
   ]
  },
  {
   "cell_type": "markdown",
   "id": "YOkf_xrKmLX4",
   "metadata": {
    "id": "YOkf_xrKmLX4"
   },
   "source": [
    "### 10.1 Simple Subplot with 1 Row and 2 Columns\n",
    "Two line plots (Sepal Length and Sepal Width) for Setosa in a 1x2 grid."
   ]
  },
  {
   "cell_type": "code",
   "execution_count": 90,
   "id": "0wn-zfWUmK2u",
   "metadata": {
    "id": "0wn-zfWUmK2u"
   },
   "outputs": [
    {
     "data": {
      "image/png": "[encoded data removed]",
      "text/plain": [
       "<Figure size 1200x500 with 2 Axes>"
      ]
     },
     "metadata": {},
     "output_type": "display_data"
    }
   ],
   "source": [
    "# Filter the data for Setosa species\n",
    "setosa_df = df[df[\"variety\"] == \"Setosa\"]\n",
    "\n",
    "# Creating a figure with 1 row and 2 columns\n",
    "plt.figure(figsize=(12, 5))\n",
    "\n",
    "# First subplot for Sepal Length\n",
    "plt.subplot(1, 2, 1)  # 1 row, 2 columns, 1st plot\n",
    "plt.plot(setosa_df.index, setosa_df[\"sepal.length\"], color=\"blue\", label=\"Sepal Length\")\n",
    "plt.title(\"Sepal Length for Setosa\")\n",
    "plt.xlabel(\"Index\")\n",
    "plt.ylabel(\"Sepal Length (cm)\")\n",
    "plt.legend()\n",
    "\n",
    "# Second subplot for Sepal Width\n",
    "plt.subplot(1, 2, 2)  # 1 row, 2 columns, 2nd plot\n",
    "plt.plot(setosa_df.index, setosa_df[\"sepal.width\"], color=\"orange\", label=\"Sepal Width\")\n",
    "plt.title(\"Sepal Width for Setosa\")\n",
    "plt.xlabel(\"Index\")\n",
    "plt.ylabel(\"Sepal Width (cm)\")\n",
    "plt.legend()\n",
    "\n",
    "# plt.tight_layout()  # Adjusts layout to prevent overlap\n",
    "plt.show()"
   ]
  },
  {
   "cell_type": "markdown",
   "id": "TPwqaKq6mzin",
   "metadata": {
    "id": "TPwqaKq6mzin"
   },
   "source": [
    "## 10.2 Grid of Subplots (2x2)\n",
    "2x2 grid to display Sepal Length and Sepal Width vs. Petal Length and Petal Width for all species.\n",
    "\n"
   ]
  },
  {
   "cell_type": "code",
   "execution_count": 91,
   "id": "LgroaLyZm94_",
   "metadata": {
    "id": "LgroaLyZm94_"
   },
   "outputs": [
    {
     "data": {
      "image/png": "[encoded data removed]",
      "text/plain": [
       "<Figure size 1200x1000 with 4 Axes>"
      ]
     },
     "metadata": {},
     "output_type": "display_data"
    }
   ],
   "source": [
    "# Creating a 2x2 grid of subplots\n",
    "plt.figure(figsize=(12, 10))\n",
    "\n",
    "# First subplot for Sepal Length\n",
    "plt.subplot(2, 2, 1)  # 2 rows, 2 columns, 1st plot\n",
    "plt.hist( df[\"sepal.length\"], bins=10 ,color=\"lightblue\", label=\"Sepal Length\", edgecolor = \"black\")\n",
    "plt.title(\"Sepal Length for All Species\")\n",
    "plt.xlabel(\"Index\")\n",
    "plt.ylabel(\"Sepal Length (cm)\")\n",
    "plt.legend()\n",
    "\n",
    "# Second subplot for Sepal Width\n",
    "plt.subplot(2, 2, 2)  # 2 rows, 2 columns, 2nd plot\n",
    "plt.plot(df.index, df[\"sepal.width\"], color=\"green\", label=\"Sepal Width\")\n",
    "plt.title(\"Sepal Width for All Species\")\n",
    "plt.xlabel(\"Index\")\n",
    "plt.ylabel(\"Sepal Width (cm)\")\n",
    "plt.legend()\n",
    "\n",
    "# Third subplot for Petal Length\n",
    "plt.subplot(2, 2, 3)  # 2 rows, 2 columns, 3rd plot\n",
    "plt.plot(df.index, df[\"Petal Length (cm)\"], color=\"red\", label=\"Petal Length\")\n",
    "plt.title(\"Petal Length for All Species\")\n",
    "plt.xlabel(\"Index\")\n",
    "plt.ylabel(\"Petal Length (cm)\")\n",
    "plt.legend()\n",
    "\n",
    "# Fourth subplot for Petal Width\n",
    "plt.subplot(2, 2, 4)  # 2 rows, 2 columns, 4th plot\n",
    "plt.plot(df.index, df[\"petal.width\"], color=\"purple\", label=\"Petal Width\")\n",
    "plt.title(\"Petal Width for All Species\")\n",
    "plt.xlabel(\"Index\")\n",
    "plt.ylabel(\"Petal Width (cm)\")\n",
    "plt.legend()\n",
    "\n",
    "plt.tight_layout()  # Adjust layout to prevent overlap\n",
    "plt.show()"
   ]
  },
  {
   "cell_type": "markdown",
   "id": "QUrO4c_wntxi",
   "metadata": {
    "id": "QUrO4c_wntxi"
   },
   "source": [
    "## Practice Questions - 2"
   ]
  },
  {
   "cell_type": "markdown",
   "id": "JIeNKgEDTOe7",
   "metadata": {
    "id": "JIeNKgEDTOe7"
   },
   "source": [
    "### Upload dataset"
   ]
  },
  {
   "cell_type": "code",
   "execution_count": 92,
   "id": "hv_i1uWRntW1",
   "metadata": {
    "id": "hv_i1uWRntW1"
   },
   "outputs": [],
   "source": [
    "# from google.colab import files\n",
    "# uploaded = files.upload()"
   ]
  },
  {
   "cell_type": "markdown",
   "id": "Lea6a12hTSXv",
   "metadata": {
    "id": "Lea6a12hTSXv"
   },
   "source": [
    "### Read data"
   ]
  },
  {
   "cell_type": "code",
   "execution_count": 93,
   "id": "J99uRM-DTbXk",
   "metadata": {
    "id": "J99uRM-DTbXk"
   },
   "outputs": [],
   "source": [
    "df = pd.read_csv(\"icebreaker data.csv\")"
   ]
  },
  {
   "cell_type": "markdown",
   "id": "8UFgY1oKT_AB",
   "metadata": {
    "id": "8UFgY1oKT_AB"
   },
   "source": [
    "### Rename columns"
   ]
  },
  {
   "cell_type": "code",
   "execution_count": 94,
   "id": "iHExD3HVUVBX",
   "metadata": {
    "id": "iHExD3HVUVBX"
   },
   "outputs": [],
   "source": [
    "df.rename(columns={\"Rate the following 1-5 (with 1 being the least and 5 being the most).How would you rate your day so far?\": \"Day Rating\"}, inplace=True)\n",
    "\n",
    "# Rename the other two columns as well"
   ]
  },
  {
   "cell_type": "markdown",
   "id": "4jrPkSDVUnXK",
   "metadata": {
    "id": "4jrPkSDVUnXK"
   },
   "source": [
    "### Delete unwanted columns"
   ]
  },
  {
   "cell_type": "code",
   "execution_count": 95,
   "id": "7SBcabpbUnDs",
   "metadata": {
    "id": "7SBcabpbUnDs"
   },
   "outputs": [],
   "source": [
    "# Delete Email column\n",
    "df.drop(columns=['Email'], inplace=True)\n"
   ]
  },
  {
   "cell_type": "markdown",
   "id": "3A4R4VFXVNkb",
   "metadata": {
    "id": "3A4R4VFXVNkb"
   },
   "source": [
    "### Check for null values"
   ]
  },
  {
   "cell_type": "code",
   "execution_count": 96,
   "id": "nCYHPY1EVMxs",
   "metadata": {
    "id": "nCYHPY1EVMxs"
   },
   "outputs": [
    {
     "name": "stdout",
     "output_type": "stream",
     "text": [
      "Id                                                                                                                   0\n",
      "Week                                                                                                                 0\n",
      "Completion time                                                                                                      0\n",
      "Name                                                                                                               162\n",
      "Day Rating                                                                                                           0\n",
      "Rate the following 1-5 (with 1 being the least and 5 being the most).What is your experience with coding?            0\n",
      "Rate the following 1-5 (with 1 being the least and 5 being the most).How would you rate your python experience?      0\n",
      "dtype: int64\n"
     ]
    }
   ],
   "source": [
    "# Check for null values in each column\n",
    "null_counts = df.isnull().sum()\n",
    "\n",
    "# Display the null counts\n",
    "print(null_counts)"
   ]
  },
  {
   "cell_type": "markdown",
   "id": "FGmj16pFVykV",
   "metadata": {
    "id": "FGmj16pFVykV"
   },
   "source": [
    "### Using a chart find the average rating of their day on Day 1"
   ]
  },
  {
   "cell_type": "code",
   "execution_count": 97,
   "id": "NqnzmV7zWCbn",
   "metadata": {
    "id": "NqnzmV7zWCbn"
   },
   "outputs": [
    {
     "name": "stdout",
     "output_type": "stream",
     "text": [
      "     Week  Day Rating\n",
      "0  Week 1    3.102564\n",
      "1  Week 2    3.511628\n",
      "2  Week 3    3.170732\n"
     ]
    }
   ],
   "source": [
    "average_ratings = df.groupby('Week')['Day Rating'].mean().reset_index()\n",
    "\n",
    "print(average_ratings)"
   ]
  },
  {
   "cell_type": "code",
   "execution_count": 98,
   "id": "pSKu3RXVfprG",
   "metadata": {
    "id": "pSKu3RXVfprG"
   },
   "outputs": [
    {
     "data": {
      "image/png": "[encoded data removed]",
      "text/plain": [
       "<Figure size 1000x500 with 1 Axes>"
      ]
     },
     "metadata": {},
     "output_type": "display_data"
    }
   ],
   "source": [
    "# Bar Chart for Average Ratings by Week\n",
    "plt.figure(figsize=(10, 5))\n",
    "plt.bar(average_ratings['Week'], average_ratings['Day Rating'], color='skyblue')\n",
    "plt.xlabel('Week')\n",
    "plt.ylabel('Average Day Rating')\n",
    "plt.title('Average Day Rating by Week')\n",
    "plt.show()"
   ]
  },
  {
   "cell_type": "code",
   "execution_count": 99,
   "id": "HwZkJVLpfvtv",
   "metadata": {
    "id": "HwZkJVLpfvtv"
   },
   "outputs": [
    {
     "data": {
      "image/png": "[encoded data removed]",
      "text/plain": [
       "<Figure size 1000x500 with 1 Axes>"
      ]
     },
     "metadata": {},
     "output_type": "display_data"
    }
   ],
   "source": [
    "plt.figure(figsize=(10, 5))\n",
    "plt.plot(average_ratings['Week'], average_ratings['Day Rating'], marker='o', color='purple')\n",
    "plt.xlabel('Week')\n",
    "plt.ylabel('Average Day Rating')\n",
    "plt.title('Average Day Rating by Week')\n",
    "plt.grid(True)\n",
    "plt.show()"
   ]
  }
 ],
 "metadata": {
  "colab": {
   "collapsed_sections": [
    "HZiTW2TCbLK4",
    "UgPT1HZLbLDx",
    "7MJNdzUS9Ivs"
   ],
   "include_colab_link": true,
   "provenance": []
  },
  "kernelspec": {
   "display_name": ".venv",
   "language": "python",
   "name": "python3"
  },
  "language_info": {
   "codemirror_mode": {
    "name": "ipython",
    "version": 3
   },
   "file_extension": ".py",
   "mimetype": "text/x-python",
   "name": "python",
   "nbconvert_exporter": "python",
   "pygments_lexer": "ipython3",
   "version": "3.13.0"
  }
 },
 "nbformat": 4,
 "nbformat_minor": 5
}
